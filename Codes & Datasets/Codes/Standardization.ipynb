{
 "cells": [
  {
   "cell_type": "code",
   "execution_count": 1,
   "metadata": {},
   "outputs": [],
   "source": [
    "# # Techniques to perform Feature Transformation: Scaling Numeric Data\n",
    "# # Min Max Normalization\n",
    "# # Standardization (Z Score)\n",
    "# # Log Transformation\n",
    "# # Robust Scaler\n",
    "# # Max Absolute Scaler\n",
    "\n",
    "\n",
    "# Use when: \n",
    "#     1.outliers are present\n",
    "#     2. data is not normally distributed\n",
    "#     3. data is on different scales\n",
    "#     4. data is skewed\n",
    "#     5.gradient descent algorithms"
   ]
  },
  {
   "cell_type": "code",
   "execution_count": 2,
   "metadata": {},
   "outputs": [],
   "source": [
    "import pandas as pd\n",
    "import numpy as np\n",
    "from sklearn.preprocessing import MinMaxScaler, StandardScaler, RobustScaler, MaxAbsScaler"
   ]
  },
  {
   "cell_type": "code",
   "execution_count": 3,
   "metadata": {},
   "outputs": [
    {
     "name": "stdout",
     "output_type": "stream",
     "text": [
      "   Feature1  Feature2\n",
      "0       100        10\n",
      "1       200        20\n",
      "2       300        30\n",
      "3       400        40\n",
      "4       500        50\n"
     ]
    }
   ],
   "source": [
    "data = {\n",
    "    'Feature1': [100, 200, 300, 400, 500],\n",
    "    'Feature2': [10, 20, 30, 40, 50],\n",
    "}\n",
    "df = pd.DataFrame(data)\n",
    "print(df)"
   ]
  },
  {
   "cell_type": "code",
   "execution_count": 18,
   "metadata": {},
   "outputs": [],
   "source": [
    "#Raw Code\n",
    "def standardization(data):\n",
    "    mean = data.mean()\n",
    "    std_dev = data.std()            #delta degree of freedom n-1\n",
    "    standardization_data_raw = (data - mean) / std_dev\n",
    "    return standardization_data_raw"
   ]
  },
  {
   "cell_type": "code",
   "execution_count": 6,
   "metadata": {},
   "outputs": [],
   "source": [
    "standardization_data_raw = df.apply(standardization)"
   ]
  },
  {
   "cell_type": "code",
   "execution_count": 7,
   "metadata": {},
   "outputs": [
    {
     "name": "stdout",
     "output_type": "stream",
     "text": [
      "Original Data\n",
      "   Feature1  Feature2\n",
      "0       100        10\n",
      "1       200        20\n",
      "2       300        30\n",
      "3       400        40\n",
      "4       500        50\n",
      "Standardized Data\n",
      "   Feature1  Feature2\n",
      "0 -1.264911 -1.264911\n",
      "1 -0.632456 -0.632456\n",
      "2  0.000000  0.000000\n",
      "3  0.632456  0.632456\n",
      "4  1.264911  1.264911\n"
     ]
    }
   ],
   "source": [
    "print('Original Data')\n",
    "print(df)\n",
    "print('Standardized Data')\n",
    "print(standardization_data_raw)"
   ]
  },
  {
   "cell_type": "code",
   "execution_count": 16,
   "metadata": {},
   "outputs": [],
   "source": [
    "#By SKlearn\n",
    "scaler = StandardScaler()\n",
    "standardization_data = scaler.fit_transform(df)\n",
    "standardization_df = pd.DataFrame(standardization_data, columns=['Feature1', 'Feature2'])"
   ]
  },
  {
   "cell_type": "code",
   "execution_count": 17,
   "metadata": {},
   "outputs": [
    {
     "name": "stdout",
     "output_type": "stream",
     "text": [
      "Original Data\n",
      "   Feature1  Feature2\n",
      "0       100        10\n",
      "1       200        20\n",
      "2       300        30\n",
      "3       400        40\n",
      "4       500        50\n",
      "Standardized Data\n",
      "   Feature1  Feature2\n",
      "0 -1.414214 -1.414214\n",
      "1 -0.707107 -0.707107\n",
      "2  0.000000  0.000000\n",
      "3  0.707107  0.707107\n",
      "4  1.414214  1.414214\n"
     ]
    }
   ],
   "source": [
    "print('Original Data')\n",
    "print(df)\n",
    "print('Standardized Data')\n",
    "print(standardization_df)"
   ]
  },
  {
   "cell_type": "code",
   "execution_count": null,
   "metadata": {},
   "outputs": [],
   "source": []
  }
 ],
 "metadata": {
  "kernelspec": {
   "display_name": "rapids-24.08",
   "language": "python",
   "name": "python3"
  },
  "language_info": {
   "codemirror_mode": {
    "name": "ipython",
    "version": 3
   },
   "file_extension": ".py",
   "mimetype": "text/x-python",
   "name": "python",
   "nbconvert_exporter": "python",
   "pygments_lexer": "ipython3",
   "version": "3.11.10"
  }
 },
 "nbformat": 4,
 "nbformat_minor": 2
}
