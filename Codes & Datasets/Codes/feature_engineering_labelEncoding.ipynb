{
 "cells": [
  {
   "cell_type": "code",
   "execution_count": 1,
   "metadata": {},
   "outputs": [],
   "source": [
    "# Feature transformation is a technique used in data preprocessing, particularly in the fields of machine learning and statistics, \n",
    "# to modify or create new features from existing data.\n",
    "# This process can help improve the performance of machine learning models by making the data more suitable for analysis and \n",
    "# by enhancing the ability of algorithms to detect underlying patterns.\n"
   ]
  },
  {
   "cell_type": "code",
   "execution_count": null,
   "metadata": {},
   "outputs": [],
   "source": [
    "# Label Encoding:\n",
    "# Label encoding assigns each unique category value a numerical code. It is straightforward but introduces a new \n",
    "# problem: the model might infer a natural ordering in categories, which might not be intended. \n",
    "# For example: [\"red\"< \"blue\" < \"green\"] to [O, 1, 2]\n",
    "# • Advantages:\n",
    "#     Simple to implement and keeps the dataset's dimensionality unchanged.\n",
    "#     Useful for ordinal data or tree-based models that can handle ordinality.\n",
    "# • Disadvantages:\n",
    "#     Imposes an ordinal relationship where it might not exist, potentially leading to poor model performance for non-ordinal data.\n",
    "#     Not suitable for linear models unless the data is ordinal."
   ]
  },
  {
   "cell_type": "code",
   "execution_count": 2,
   "metadata": {},
   "outputs": [],
   "source": [
    "classes = ['ClassA','ClassB','ClassC','ClassD']\n",
    "instances= ['ClassA','ClassB','ClassC','ClassD','ClassA','ClassB','ClassC','ClassD','ClassA','ClassB']"
   ]
  },
  {
   "cell_type": "code",
   "execution_count": 3,
   "metadata": {},
   "outputs": [
    {
     "name": "stdout",
     "output_type": "stream",
     "text": [
      "Label Encoding:  [0, 1, 2, 3, 0, 1, 2, 3, 0, 1]\n"
     ]
    }
   ],
   "source": [
    "label_to_int = {label: index for index, label in enumerate(classes)}\n",
    "encoded_labels = [label_to_int[label] for label in instances]\n",
    "print(\"Label Encoding: \",encoded_labels)"
   ]
  },
  {
   "cell_type": "code",
   "execution_count": 4,
   "metadata": {},
   "outputs": [
    {
     "name": "stdout",
     "output_type": "stream",
     "text": [
      "Label Encoding:  [0, 1, 2, 3, 0, 1, 2, 3, 0, 1]\n",
      "Label Decoding:  ['ClassA', 'ClassB', 'ClassC', 'ClassD', 'ClassA', 'ClassB', 'ClassC', 'ClassD', 'ClassA', 'ClassB']\n"
     ]
    }
   ],
   "source": [
    "int_to_label = {index: label for label, index in label_to_int.items()}\n",
    "decoded_labels = [int_to_label[index] for index in encoded_labels]\n",
    "print(\"Label Encoding: \",encoded_labels)\n",
    "print(\"Label Decoding: \",decoded_labels)"
   ]
  },
  {
   "cell_type": "code",
   "execution_count": 5,
   "metadata": {},
   "outputs": [],
   "source": [
    "from sklearn.preprocessing import LabelEncoder"
   ]
  },
  {
   "cell_type": "code",
   "execution_count": 8,
   "metadata": {},
   "outputs": [
    {
     "name": "stdout",
     "output_type": "stream",
     "text": [
      "Label Encoding:  [0 1 2 3 0 1 2 3 0 1]\n"
     ]
    }
   ],
   "source": [
    "label_encoder = LabelEncoder()\n",
    "encoded_labels = label_encoder.fit_transform(instances)\n",
    "print(\"Label Encoding: \",encoded_labels)"
   ]
  },
  {
   "cell_type": "code",
   "execution_count": 9,
   "metadata": {},
   "outputs": [
    {
     "name": "stdout",
     "output_type": "stream",
     "text": [
      "Label Encoding:  [0 1 2 3 0 1 2 3 0 1]\n",
      "Label Decoding:  ['ClassA' 'ClassB' 'ClassC' 'ClassD' 'ClassA' 'ClassB' 'ClassC' 'ClassD'\n",
      " 'ClassA' 'ClassB']\n"
     ]
    }
   ],
   "source": [
    "original_labels = label_encoder.inverse_transform(encoded_labels)\n",
    "print(\"Label Encoding: \",encoded_labels)\n",
    "print(\"Label Decoding: \",original_labels)\n"
   ]
  }
 ],
 "metadata": {
  "kernelspec": {
   "display_name": "rapids-24.08",
   "language": "python",
   "name": "python3"
  },
  "language_info": {
   "codemirror_mode": {
    "name": "ipython",
    "version": 3
   },
   "file_extension": ".py",
   "mimetype": "text/x-python",
   "name": "python",
   "nbconvert_exporter": "python",
   "pygments_lexer": "ipython3",
   "version": "3.11.10"
  }
 },
 "nbformat": 4,
 "nbformat_minor": 2
}
