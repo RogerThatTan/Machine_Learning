{
 "cells": [
  {
   "cell_type": "code",
   "execution_count": 18,
   "metadata": {},
   "outputs": [],
   "source": [
    "import pandas as pd\n",
    "from sklearn.datasets import make_classification\n",
    "from sklearn.model_selection import train_test_split"
   ]
  },
  {
   "cell_type": "code",
   "execution_count": 19,
   "metadata": {},
   "outputs": [],
   "source": [
    "#Creating a dataset\n",
    "X, y = make_classification(n_samples=10000, n_features=20, n_classes = 2, random_state=42)"
   ]
  },
  {
   "cell_type": "code",
   "execution_count": 20,
   "metadata": {},
   "outputs": [
    {
     "data": {
      "text/plain": [
       "array([[-0.6531912 , -0.81238767,  1.19535267, ...,  1.60033929,\n",
       "         0.77295496, -0.29007468],\n",
       "       [ 0.6776613 ,  1.05645354, -1.00719561, ...,  0.55370642,\n",
       "         0.72971507,  0.68225029],\n",
       "       [ 0.7245679 ,  0.87722803, -1.09393816, ...,  1.27031736,\n",
       "         0.99399274,  0.27905571],\n",
       "       ...,\n",
       "       [-1.30993779, -1.601322  , -0.72688671, ..., -0.91066085,\n",
       "        -0.98393053, -0.5319741 ],\n",
       "       [ 1.2252827 ,  1.56968318,  1.20373667, ..., -0.69189211,\n",
       "         0.17473731,  0.62583397],\n",
       "       [ 1.10139394,  0.83424315, -0.5840946 , ..., -0.9221052 ,\n",
       "         0.69061415, -0.46683995]])"
      ]
     },
     "execution_count": 20,
     "metadata": {},
     "output_type": "execute_result"
    }
   ],
   "source": [
    "X"
   ]
  },
  {
   "cell_type": "code",
   "execution_count": 21,
   "metadata": {},
   "outputs": [],
   "source": [
    "df = pd.DataFrame(X, columns=[f'feature_{i}' for i in range(X.shape[1])])"
   ]
  },
  {
   "cell_type": "code",
   "execution_count": 22,
   "metadata": {},
   "outputs": [
    {
     "data": {
      "text/html": [
       "<div>\n",
       "<style scoped>\n",
       "    .dataframe tbody tr th:only-of-type {\n",
       "        vertical-align: middle;\n",
       "    }\n",
       "\n",
       "    .dataframe tbody tr th {\n",
       "        vertical-align: top;\n",
       "    }\n",
       "\n",
       "    .dataframe thead th {\n",
       "        text-align: right;\n",
       "    }\n",
       "</style>\n",
       "<table border=\"1\" class=\"dataframe\">\n",
       "  <thead>\n",
       "    <tr style=\"text-align: right;\">\n",
       "      <th></th>\n",
       "      <th>feature_0</th>\n",
       "      <th>feature_1</th>\n",
       "      <th>feature_2</th>\n",
       "      <th>feature_3</th>\n",
       "      <th>feature_4</th>\n",
       "      <th>feature_5</th>\n",
       "      <th>feature_6</th>\n",
       "      <th>feature_7</th>\n",
       "      <th>feature_8</th>\n",
       "      <th>feature_9</th>\n",
       "      <th>feature_10</th>\n",
       "      <th>feature_11</th>\n",
       "      <th>feature_12</th>\n",
       "      <th>feature_13</th>\n",
       "      <th>feature_14</th>\n",
       "      <th>feature_15</th>\n",
       "      <th>feature_16</th>\n",
       "      <th>feature_17</th>\n",
       "      <th>feature_18</th>\n",
       "      <th>feature_19</th>\n",
       "    </tr>\n",
       "  </thead>\n",
       "  <tbody>\n",
       "    <tr>\n",
       "      <th>0</th>\n",
       "      <td>-0.653191</td>\n",
       "      <td>-0.812388</td>\n",
       "      <td>1.195353</td>\n",
       "      <td>-2.101687</td>\n",
       "      <td>0.134150</td>\n",
       "      <td>1.550953</td>\n",
       "      <td>-1.372729</td>\n",
       "      <td>0.611966</td>\n",
       "      <td>0.882627</td>\n",
       "      <td>0.755054</td>\n",
       "      <td>-1.071605</td>\n",
       "      <td>-0.042713</td>\n",
       "      <td>0.750663</td>\n",
       "      <td>1.198348</td>\n",
       "      <td>2.343527</td>\n",
       "      <td>1.357345</td>\n",
       "      <td>0.578724</td>\n",
       "      <td>1.600339</td>\n",
       "      <td>0.772955</td>\n",
       "      <td>-0.290075</td>\n",
       "    </tr>\n",
       "    <tr>\n",
       "      <th>1</th>\n",
       "      <td>0.677661</td>\n",
       "      <td>1.056454</td>\n",
       "      <td>-1.007196</td>\n",
       "      <td>0.614482</td>\n",
       "      <td>0.791097</td>\n",
       "      <td>3.259767</td>\n",
       "      <td>-0.502800</td>\n",
       "      <td>-1.261132</td>\n",
       "      <td>-0.617791</td>\n",
       "      <td>-0.162562</td>\n",
       "      <td>0.955890</td>\n",
       "      <td>-1.144848</td>\n",
       "      <td>2.573798</td>\n",
       "      <td>-0.215280</td>\n",
       "      <td>1.182678</td>\n",
       "      <td>0.317888</td>\n",
       "      <td>-0.130681</td>\n",
       "      <td>0.553706</td>\n",
       "      <td>0.729715</td>\n",
       "      <td>0.682250</td>\n",
       "    </tr>\n",
       "    <tr>\n",
       "      <th>2</th>\n",
       "      <td>0.724568</td>\n",
       "      <td>0.877228</td>\n",
       "      <td>-1.093938</td>\n",
       "      <td>0.311091</td>\n",
       "      <td>-0.314448</td>\n",
       "      <td>-1.340141</td>\n",
       "      <td>1.961136</td>\n",
       "      <td>-0.608683</td>\n",
       "      <td>0.947755</td>\n",
       "      <td>-0.411351</td>\n",
       "      <td>-0.645424</td>\n",
       "      <td>-0.824752</td>\n",
       "      <td>0.978996</td>\n",
       "      <td>-0.811875</td>\n",
       "      <td>2.033767</td>\n",
       "      <td>-0.262239</td>\n",
       "      <td>-0.850729</td>\n",
       "      <td>1.270317</td>\n",
       "      <td>0.993993</td>\n",
       "      <td>0.279056</td>\n",
       "    </tr>\n",
       "    <tr>\n",
       "      <th>3</th>\n",
       "      <td>-1.764986</td>\n",
       "      <td>-1.869918</td>\n",
       "      <td>-0.137520</td>\n",
       "      <td>-0.680697</td>\n",
       "      <td>0.027396</td>\n",
       "      <td>-0.276407</td>\n",
       "      <td>-1.702166</td>\n",
       "      <td>0.700207</td>\n",
       "      <td>0.883225</td>\n",
       "      <td>0.504532</td>\n",
       "      <td>-0.993195</td>\n",
       "      <td>1.365259</td>\n",
       "      <td>0.890695</td>\n",
       "      <td>0.812284</td>\n",
       "      <td>1.179881</td>\n",
       "      <td>-0.857829</td>\n",
       "      <td>-0.668033</td>\n",
       "      <td>-0.042142</td>\n",
       "      <td>-0.913850</td>\n",
       "      <td>-0.203307</td>\n",
       "    </tr>\n",
       "    <tr>\n",
       "      <th>4</th>\n",
       "      <td>0.284240</td>\n",
       "      <td>0.236105</td>\n",
       "      <td>-0.083326</td>\n",
       "      <td>0.440701</td>\n",
       "      <td>1.687847</td>\n",
       "      <td>-0.694901</td>\n",
       "      <td>-1.568631</td>\n",
       "      <td>0.077877</td>\n",
       "      <td>-2.433742</td>\n",
       "      <td>0.208432</td>\n",
       "      <td>0.801281</td>\n",
       "      <td>-0.374934</td>\n",
       "      <td>0.683264</td>\n",
       "      <td>0.486097</td>\n",
       "      <td>-0.041885</td>\n",
       "      <td>-0.255893</td>\n",
       "      <td>-0.343114</td>\n",
       "      <td>-0.054217</td>\n",
       "      <td>0.675099</td>\n",
       "      <td>-0.083337</td>\n",
       "    </tr>\n",
       "  </tbody>\n",
       "</table>\n",
       "</div>"
      ],
      "text/plain": [
       "   feature_0  feature_1  feature_2  ...  feature_17  feature_18  feature_19\n",
       "0  -0.653191  -0.812388   1.195353  ...    1.600339    0.772955   -0.290075\n",
       "1   0.677661   1.056454  -1.007196  ...    0.553706    0.729715    0.682250\n",
       "2   0.724568   0.877228  -1.093938  ...    1.270317    0.993993    0.279056\n",
       "3  -1.764986  -1.869918  -0.137520  ...   -0.042142   -0.913850   -0.203307\n",
       "4   0.284240   0.236105  -0.083326  ...   -0.054217    0.675099   -0.083337\n",
       "\n",
       "[5 rows x 20 columns]"
      ]
     },
     "execution_count": 22,
     "metadata": {},
     "output_type": "execute_result"
    }
   ],
   "source": [
    "df.head()"
   ]
  },
  {
   "cell_type": "code",
   "execution_count": 23,
   "metadata": {},
   "outputs": [],
   "source": [
    "X_train, X_test, y_train, y_test = train_test_split(X, y, test_size=0.30, random_state = 42)"
   ]
  },
  {
   "cell_type": "code",
   "execution_count": 24,
   "metadata": {},
   "outputs": [
    {
     "data": {
      "text/plain": [
       "(7000, 20)"
      ]
     },
     "execution_count": 24,
     "metadata": {},
     "output_type": "execute_result"
    }
   ],
   "source": [
    "X_train.shape"
   ]
  },
  {
   "cell_type": "code",
   "execution_count": 25,
   "metadata": {},
   "outputs": [
    {
     "data": {
      "text/plain": [
       "(3000, 20)"
      ]
     },
     "execution_count": 25,
     "metadata": {},
     "output_type": "execute_result"
    }
   ],
   "source": [
    "X_test.shape"
   ]
  },
  {
   "cell_type": "code",
   "execution_count": 26,
   "metadata": {},
   "outputs": [
    {
     "data": {
      "text/plain": [
       "(7000,)"
      ]
     },
     "execution_count": 26,
     "metadata": {},
     "output_type": "execute_result"
    }
   ],
   "source": [
    "y_train.shape"
   ]
  },
  {
   "cell_type": "code",
   "execution_count": 27,
   "metadata": {},
   "outputs": [
    {
     "data": {
      "text/plain": [
       "(3000,)"
      ]
     },
     "execution_count": 27,
     "metadata": {},
     "output_type": "execute_result"
    }
   ],
   "source": [
    "y_test.shape"
   ]
  }
 ],
 "metadata": {
  "kernelspec": {
   "display_name": "rapids-24.08",
   "language": "python",
   "name": "python3"
  },
  "language_info": {
   "codemirror_mode": {
    "name": "ipython",
    "version": 3
   },
   "file_extension": ".py",
   "mimetype": "text/x-python",
   "name": "python",
   "nbconvert_exporter": "python",
   "pygments_lexer": "ipython3",
   "version": "3.11.10"
  }
 },
 "nbformat": 4,
 "nbformat_minor": 2
}
