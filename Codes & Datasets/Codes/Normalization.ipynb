{
 "cells": [
  {
   "cell_type": "code",
   "execution_count": 1,
   "metadata": {},
   "outputs": [],
   "source": [
    "# Data scaling in machine learning is a preprocessing technique used to standardize the range of independent variables or features of data.\n",
    "# This technique rescales the feature to a fixed range, usually O to 1, or -1 to 1. The cost of having this bounded range is that we will end up with smaller standard deviations, which can suppress the effect\n",
    "# of outliers."
   ]
  },
  {
   "cell_type": "code",
   "execution_count": 2,
   "metadata": {},
   "outputs": [],
   "source": [
    "#RAW CODE\n",
    "\n",
    "def min_max_scalling(data):\n",
    "    min_val = min(data)\n",
    "    max_val = max(data)\n",
    "    scaled_data = [(x-min_val)/(max_val-min_val) for x in data]\n",
    "    return scaled_data"
   ]
  },
  {
   "cell_type": "code",
   "execution_count": 5,
   "metadata": {},
   "outputs": [
    {
     "name": "stdout",
     "output_type": "stream",
     "text": [
      "Original Data:  [1, 20, 3999, 400, 5]\n",
      "Scaled Data:  [0.0, 0.004752376188094047, 1.0, 0.09979989994997499, 0.0010005002501250625]\n"
     ]
    }
   ],
   "source": [
    "data = [1,20,3999,400,5]\n",
    "scaled_data = min_max_scalling(data)\n",
    "print('Original Data: ',data)\n",
    "print('Scaled Data: ',scaled_data)"
   ]
  },
  {
   "cell_type": "code",
   "execution_count": 4,
   "metadata": {},
   "outputs": [],
   "source": [
    "#by using sklearn\n",
    "import pandas as pd\n",
    "from sklearn.preprocessing import MinMaxScaler"
   ]
  },
  {
   "cell_type": "code",
   "execution_count": 6,
   "metadata": {},
   "outputs": [
    {
     "data": {
      "text/html": [
       "<div>\n",
       "<style scoped>\n",
       "    .dataframe tbody tr th:only-of-type {\n",
       "        vertical-align: middle;\n",
       "    }\n",
       "\n",
       "    .dataframe tbody tr th {\n",
       "        vertical-align: top;\n",
       "    }\n",
       "\n",
       "    .dataframe thead th {\n",
       "        text-align: right;\n",
       "    }\n",
       "</style>\n",
       "<table border=\"1\" class=\"dataframe\">\n",
       "  <thead>\n",
       "    <tr style=\"text-align: right;\">\n",
       "      <th></th>\n",
       "      <th>Feature1</th>\n",
       "      <th>Feature2</th>\n",
       "    </tr>\n",
       "  </thead>\n",
       "  <tbody>\n",
       "    <tr>\n",
       "      <th>0</th>\n",
       "      <td>1</td>\n",
       "      <td>2</td>\n",
       "    </tr>\n",
       "    <tr>\n",
       "      <th>1</th>\n",
       "      <td>20</td>\n",
       "      <td>30</td>\n",
       "    </tr>\n",
       "    <tr>\n",
       "      <th>2</th>\n",
       "      <td>3999</td>\n",
       "      <td>4000</td>\n",
       "    </tr>\n",
       "    <tr>\n",
       "      <th>3</th>\n",
       "      <td>400</td>\n",
       "      <td>500</td>\n",
       "    </tr>\n",
       "    <tr>\n",
       "      <th>4</th>\n",
       "      <td>5</td>\n",
       "      <td>6</td>\n",
       "    </tr>\n",
       "  </tbody>\n",
       "</table>\n",
       "</div>"
      ],
      "text/plain": [
       "   Feature1  Feature2\n",
       "0         1         2\n",
       "1        20        30\n",
       "2      3999      4000\n",
       "3       400       500\n",
       "4         5         6"
      ]
     },
     "execution_count": 6,
     "metadata": {},
     "output_type": "execute_result"
    }
   ],
   "source": [
    "data ={\n",
    "    'Feature1':[1,20,3999,400,5],\n",
    "    'Feature2':[2,30,4000,500,6]\n",
    "}\n",
    "df = pd.DataFrame(data)\n",
    "df.head()"
   ]
  },
  {
   "cell_type": "code",
   "execution_count": 10,
   "metadata": {},
   "outputs": [],
   "source": [
    "scaler = MinMaxScaler()\n",
    "scaled_data = scaler.fit_transform(df)\n",
    "scaled_df = pd.DataFrame(scaled_data, columns=df.columns)"
   ]
  },
  {
   "cell_type": "code",
   "execution_count": 11,
   "metadata": {},
   "outputs": [
    {
     "name": "stdout",
     "output_type": "stream",
     "text": [
      "Original Data: \n",
      "   Feature1  Feature2\n",
      "0         1         2\n",
      "1        20        30\n",
      "2      3999      4000\n",
      "3       400       500\n",
      "4         5         6\n",
      "Scaled Data: \n",
      "   Feature1  Feature2\n",
      "0  0.000000  0.000000\n",
      "1  0.004752  0.007004\n",
      "2  1.000000  1.000000\n",
      "3  0.099800  0.124562\n",
      "4  0.001001  0.001001\n"
     ]
    }
   ],
   "source": [
    "print('Original Data: ')\n",
    "print(df)\n",
    "print('Scaled Data: ')\n",
    "print(scaled_df)"
   ]
  }
 ],
 "metadata": {
  "kernelspec": {
   "display_name": "rapids-24.08",
   "language": "python",
   "name": "python3"
  },
  "language_info": {
   "codemirror_mode": {
    "name": "ipython",
    "version": 3
   },
   "file_extension": ".py",
   "mimetype": "text/x-python",
   "name": "python",
   "nbconvert_exporter": "python",
   "pygments_lexer": "ipython3",
   "version": "3.11.10"
  }
 },
 "nbformat": 4,
 "nbformat_minor": 2
}
