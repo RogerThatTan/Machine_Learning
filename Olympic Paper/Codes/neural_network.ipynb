{
 "cells": [
  {
   "cell_type": "code",
   "execution_count": 1,
   "metadata": {},
   "outputs": [],
   "source": [
    "from sklearn.preprocessing import StandardScaler\n",
    "from sklearn.impute import KNNImputer\n",
    "from sklearn.ensemble import RandomForestClassifier, AdaBoostClassifier, GradientBoostingClassifier, ExtraTreesClassifier\n",
    "from xgboost import XGBClassifier\n",
    "from lightgbm import LGBMClassifier\n",
    "from sklearn.tree import DecisionTreeClassifier\n",
    "from sklearn.linear_model import LogisticRegression\n",
    "from sklearn.neighbors import KNeighborsClassifier\n",
    "from sklearn.naive_bayes import GaussianNB\n",
    "from sklearn.neural_network import MLPClassifier\n",
    "from sklearn.metrics import classification_report, roc_curve, auc, RocCurveDisplay\n",
    "from sklearn.model_selection import GridSearchCV\n",
    "from sklearn.preprocessing import label_binarize\n",
    "from tqdm import tqdm\n",
    "from imblearn.over_sampling import SMOTE\n",
    "import matplotlib.pyplot as plt\n",
    "import numpy as np\n",
    "import pandas as pd\n",
    "import seaborn as sns\n",
    "from sklearn.model_selection import train_test_split\n",
    "from sklearn.preprocessing import LabelEncoder\n",
    "import torch\n",
    "import torch.nn as nn\n",
    "import torch.optim as optim\n",
    "from torch.utils.data import DataLoader, TensorDataset"
   ]
  },
  {
   "cell_type": "code",
   "execution_count": 2,
   "metadata": {},
   "outputs": [
    {
     "data": {
      "text/html": [
       "<div>\n",
       "<style scoped>\n",
       "    .dataframe tbody tr th:only-of-type {\n",
       "        vertical-align: middle;\n",
       "    }\n",
       "\n",
       "    .dataframe tbody tr th {\n",
       "        vertical-align: top;\n",
       "    }\n",
       "\n",
       "    .dataframe thead th {\n",
       "        text-align: right;\n",
       "    }\n",
       "</style>\n",
       "<table border=\"1\" class=\"dataframe\">\n",
       "  <thead>\n",
       "    <tr style=\"text-align: right;\">\n",
       "      <th></th>\n",
       "      <th>Gender</th>\n",
       "      <th>Age</th>\n",
       "      <th>Height</th>\n",
       "      <th>Weight</th>\n",
       "      <th>NOC</th>\n",
       "      <th>Year</th>\n",
       "      <th>Season</th>\n",
       "      <th>Host_City</th>\n",
       "      <th>Events</th>\n",
       "      <th>Medal</th>\n",
       "    </tr>\n",
       "  </thead>\n",
       "  <tbody>\n",
       "    <tr>\n",
       "      <th>0</th>\n",
       "      <td>Male</td>\n",
       "      <td>20.0</td>\n",
       "      <td>NaN</td>\n",
       "      <td>NaN</td>\n",
       "      <td>GER</td>\n",
       "      <td>1896.0</td>\n",
       "      <td>Summer</td>\n",
       "      <td>Athens</td>\n",
       "      <td>Athletics Pole Vault, Men (Olympic)</td>\n",
       "      <td>NaN</td>\n",
       "    </tr>\n",
       "    <tr>\n",
       "      <th>1</th>\n",
       "      <td>Male</td>\n",
       "      <td>30.0</td>\n",
       "      <td>NaN</td>\n",
       "      <td>NaN</td>\n",
       "      <td>DEN</td>\n",
       "      <td>1896.0</td>\n",
       "      <td>Summer</td>\n",
       "      <td>Athens</td>\n",
       "      <td>Athletics 500 metres Freestyle, Men (Olympic)</td>\n",
       "      <td>NaN</td>\n",
       "    </tr>\n",
       "    <tr>\n",
       "      <th>2</th>\n",
       "      <td>Male</td>\n",
       "      <td>24.0</td>\n",
       "      <td>NaN</td>\n",
       "      <td>NaN</td>\n",
       "      <td>AUT</td>\n",
       "      <td>1896.0</td>\n",
       "      <td>Summer</td>\n",
       "      <td>Athens</td>\n",
       "      <td>Fencing 12-Hours Race, Men (Olympic)</td>\n",
       "      <td>Gold</td>\n",
       "    </tr>\n",
       "  </tbody>\n",
       "</table>\n",
       "</div>"
      ],
      "text/plain": [
       "  Gender   Age  Height  Weight  NOC    Year  Season Host_City  \\\n",
       "0   Male  20.0     NaN     NaN  GER  1896.0  Summer    Athens   \n",
       "1   Male  30.0     NaN     NaN  DEN  1896.0  Summer    Athens   \n",
       "2   Male  24.0     NaN     NaN  AUT  1896.0  Summer    Athens   \n",
       "\n",
       "                                          Events Medal  \n",
       "0            Athletics Pole Vault, Men (Olympic)   NaN  \n",
       "1  Athletics 500 metres Freestyle, Men (Olympic)   NaN  \n",
       "2           Fencing 12-Hours Race, Men (Olympic)  Gold  "
      ]
     },
     "execution_count": 2,
     "metadata": {},
     "output_type": "execute_result"
    }
   ],
   "source": [
    "df = pd.read_csv('/mnt/c/Users/xtanv/Olympic Clean/Merged_dataset/Merged_dataset.csv')\n",
    "df.head(3)"
   ]
  },
  {
   "cell_type": "code",
   "execution_count": 3,
   "metadata": {},
   "outputs": [
    {
     "data": {
      "text/plain": [
       "(143917, 10)"
      ]
     },
     "execution_count": 3,
     "metadata": {},
     "output_type": "execute_result"
    }
   ],
   "source": [
    "df.shape"
   ]
  },
  {
   "cell_type": "code",
   "execution_count": 4,
   "metadata": {},
   "outputs": [
    {
     "name": "stdout",
     "output_type": "stream",
     "text": [
      "Mapping for Gender:\n",
      "Female -> 0\n",
      "Male -> 1\n",
      "\n",
      "\n",
      "Mapping for NOC:\n",
      "AFG -> 0\n",
      "AHO -> 1\n",
      "AIN -> 2\n",
      "ALB -> 3\n",
      "ALG -> 4\n",
      "AND -> 5\n",
      "ANG -> 6\n",
      "ANT -> 7\n",
      "ANZ -> 8\n",
      "ARG -> 9\n",
      "ARM -> 10\n",
      "ARU -> 11\n",
      "ASA -> 12\n",
      "AUS -> 13\n",
      "AUT -> 14\n",
      "AZE -> 15\n",
      "BAH -> 16\n",
      "BAN -> 17\n",
      "BAR -> 18\n",
      "BDI -> 19\n",
      "BEL -> 20\n",
      "BEN -> 21\n",
      "BER -> 22\n",
      "BHU -> 23\n",
      "BIH -> 24\n",
      "BIZ -> 25\n",
      "BLR -> 26\n",
      "BOH -> 27\n",
      "BOL -> 28\n",
      "BOT -> 29\n",
      "BRA -> 30\n",
      "BRN -> 31\n",
      "BRU -> 32\n",
      "BUL -> 33\n",
      "BUR -> 34\n",
      "CAF -> 35\n",
      "CAM -> 36\n",
      "CAN -> 37\n",
      "CAY -> 38\n",
      "CGO -> 39\n",
      "CHA -> 40\n",
      "CHI -> 41\n",
      "CHN -> 42\n",
      "CIV -> 43\n",
      "CMR -> 44\n",
      "COD -> 45\n",
      "COK -> 46\n",
      "COL -> 47\n",
      "COM -> 48\n",
      "COR -> 49\n",
      "CPV -> 50\n",
      "CRC -> 51\n",
      "CRO -> 52\n",
      "CUB -> 53\n",
      "CYP -> 54\n",
      "CZE -> 55\n",
      "DEN -> 56\n",
      "DJI -> 57\n",
      "DMA -> 58\n",
      "DOM -> 59\n",
      "ECU -> 60\n",
      "EGY -> 61\n",
      "EOR -> 62\n",
      "ERI -> 63\n",
      "ESA -> 64\n",
      "ESP -> 65\n",
      "EST -> 66\n",
      "ETH -> 67\n",
      "EUN -> 68\n",
      "FIJ -> 69\n",
      "FIN -> 70\n",
      "FRA -> 71\n",
      "FRG -> 72\n",
      "FSM -> 73\n",
      "GAB -> 74\n",
      "GAM -> 75\n",
      "GBR -> 76\n",
      "GBS -> 77\n",
      "GDR -> 78\n",
      "GEO -> 79\n",
      "GEQ -> 80\n",
      "GER -> 81\n",
      "GHA -> 82\n",
      "GRE -> 83\n",
      "GRN -> 84\n",
      "GUA -> 85\n",
      "GUI -> 86\n",
      "GUM -> 87\n",
      "GUY -> 88\n",
      "HAI -> 89\n",
      "HKG -> 90\n",
      "HON -> 91\n",
      "HUN -> 92\n",
      "INA -> 93\n",
      "IND -> 94\n",
      "IOA -> 95\n",
      "IRI -> 96\n",
      "IRL -> 97\n",
      "IRQ -> 98\n",
      "ISL -> 99\n",
      "ISR -> 100\n",
      "ISV -> 101\n",
      "ITA -> 102\n",
      "IVB -> 103\n",
      "JAM -> 104\n",
      "JOR -> 105\n",
      "JPN -> 106\n",
      "KAZ -> 107\n",
      "KEN -> 108\n",
      "KGZ -> 109\n",
      "KIR -> 110\n",
      "KOR -> 111\n",
      "KOS -> 112\n",
      "KSA -> 113\n",
      "KUW -> 114\n",
      "LAO -> 115\n",
      "LAT -> 116\n",
      "LBA -> 117\n",
      "LBN -> 118\n",
      "LBR -> 119\n",
      "LCA -> 120\n",
      "LES -> 121\n",
      "LIE -> 122\n",
      "LTU -> 123\n",
      "LUX -> 124\n",
      "MAD -> 125\n",
      "MAL -> 126\n",
      "MAR -> 127\n",
      "MAS -> 128\n",
      "MAW -> 129\n",
      "MDA -> 130\n",
      "MDV -> 131\n",
      "MEX -> 132\n",
      "MGL -> 133\n",
      "MHL -> 134\n",
      "MKD -> 135\n",
      "MLI -> 136\n",
      "MLT -> 137\n",
      "MNE -> 138\n",
      "MON -> 139\n",
      "MOZ -> 140\n",
      "MRI -> 141\n",
      "MTN -> 142\n",
      "MYA -> 143\n",
      "NAM -> 144\n",
      "NBO -> 145\n",
      "NCA -> 146\n",
      "NED -> 147\n",
      "NEP -> 148\n",
      "NGR -> 149\n",
      "NIG -> 150\n",
      "NOR -> 151\n",
      "NRU -> 152\n",
      "NZL -> 153\n",
      "OMA -> 154\n",
      "PAK -> 155\n",
      "PAN -> 156\n",
      "PAR -> 157\n",
      "PER -> 158\n",
      "PHI -> 159\n",
      "PLE -> 160\n",
      "PLW -> 161\n",
      "PNG -> 162\n",
      "POL -> 163\n",
      "POR -> 164\n",
      "PRK -> 165\n",
      "PUR -> 166\n",
      "QAT -> 167\n",
      "RHO -> 168\n",
      "ROC -> 169\n",
      "ROU -> 170\n",
      "RSA -> 171\n",
      "RUS -> 172\n",
      "RWA -> 173\n",
      "SAA -> 174\n",
      "SAM -> 175\n",
      "SCG -> 176\n",
      "SEN -> 177\n",
      "SEY -> 178\n",
      "SGP -> 179\n",
      "SKN -> 180\n",
      "SLE -> 181\n",
      "SLO -> 182\n",
      "SMR -> 183\n",
      "SOL -> 184\n",
      "SOM -> 185\n",
      "SRB -> 186\n",
      "SRI -> 187\n",
      "SSD -> 188\n",
      "STP -> 189\n",
      "SUD -> 190\n",
      "SUI -> 191\n",
      "SUR -> 192\n",
      "SVK -> 193\n",
      "SWE -> 194\n",
      "SWZ -> 195\n",
      "SYR -> 196\n",
      "TAN -> 197\n",
      "TCH -> 198\n",
      "TGA -> 199\n",
      "THA -> 200\n",
      "TJK -> 201\n",
      "TKM -> 202\n",
      "TLS -> 203\n",
      "TOG -> 204\n",
      "TPE -> 205\n",
      "TTO -> 206\n",
      "TUN -> 207\n",
      "TUR -> 208\n",
      "TUV -> 209\n",
      "UAE -> 210\n",
      "UAR -> 211\n",
      "UGA -> 212\n",
      "UKR -> 213\n",
      "URS -> 214\n",
      "URU -> 215\n",
      "USA -> 216\n",
      "UZB -> 217\n",
      "VAN -> 218\n",
      "VEN -> 219\n",
      "VIE -> 220\n",
      "VIN -> 221\n",
      "VNM -> 222\n",
      "WIF -> 223\n",
      "YAR -> 224\n",
      "YEM -> 225\n",
      "YMD -> 226\n",
      "YUG -> 227\n",
      "ZAM -> 228\n",
      "ZIM -> 229\n",
      "\n",
      "\n",
      "Mapping for Season:\n",
      "Summer -> 0\n",
      "Winter -> 1\n",
      "nan -> 2\n",
      "\n",
      "\n",
      "Mapping for Host_City:\n",
      "Albertville -> 0\n",
      "Amsterdam -> 1\n",
      "Antwerp -> 2\n",
      "Athens -> 3\n",
      "Atlanta -> 4\n",
      "Barcelona -> 5\n",
      "Beijing -> 6\n",
      "Berlin -> 7\n",
      "Calgary -> 8\n",
      "Chamonix -> 9\n",
      "Cortina d’Ampezzo -> 10\n",
      "Garmisch-Partenkirchen -> 11\n",
      "Grenoble -> 12\n",
      "Helsinki -> 13\n",
      "Innsbruck -> 14\n",
      "Lake Placid -> 15\n",
      "Lillehammer -> 16\n",
      "London -> 17\n",
      "Los Angeles -> 18\n",
      "Melbourne -> 19\n",
      "Mexico City -> 20\n",
      "Montreal -> 21\n",
      "Moscow -> 22\n",
      "Munich -> 23\n",
      "Nagano -> 24\n",
      "Oslo -> 25\n",
      "Paris -> 26\n",
      "PyeongChang -> 27\n",
      "Rio -> 28\n",
      "Rome -> 29\n",
      "Salt Lake City -> 30\n",
      "Sapporo -> 31\n",
      "Sarajevo -> 32\n",
      "Seoul -> 33\n",
      "Sochi -> 34\n",
      "Squaw Valley -> 35\n",
      "St. Louis -> 36\n",
      "St. Moritz -> 37\n",
      "Stockholm -> 38\n",
      "Sydney -> 39\n",
      "Tokyo -> 40\n",
      "Turin -> 41\n",
      "Vancouver -> 42\n",
      "nan -> 43\n",
      "\n",
      "\n",
      "Mapping for Events:\n",
      "3x3 Basketball 'Men' -> 0\n",
      "3x3 Basketball 'Women' -> 1\n",
      "3x3 Basketball (Basketball) 3x3 Basketball, Men (Olympic) -> 2\n",
      "3x3 Basketball (Basketball) 3x3 Basketball, Women (Olympic) -> 3\n",
      "3x3 Basketball, Basketball 'Women' -> 4\n",
      "Alpine Skiing (Skiing) 15 kilometres, Men (Olympic) -> 5\n",
      "Alpine Skiing (Skiing) 18 kilometres, Men (Olympic) -> 6\n",
      "Alpine Skiing (Skiing) 30 kilometres, Men (Olympic) -> 7\n",
      "Alpine Skiing (Skiing) 4 × 10 kilometres Relay, Men (Olympic) -> 8\n",
      "Alpine Skiing (Skiing) 50 kilometres, Men (Olympic) -> 9\n",
      "Alpine Skiing (Skiing) Combined, Men (Olympic) -> 10\n",
      "Alpine Skiing (Skiing) Combined, Women (Olympic) -> 11\n",
      "Alpine Skiing (Skiing) Downhill, Men (Olympic) -> 12\n",
      "Alpine Skiing (Skiing) Downhill, Women (Olympic) -> 13\n",
      "Alpine Skiing (Skiing) Four, Men (Olympic) -> 14\n",
      "Alpine Skiing (Skiing) Giant Slalom, Men (Olympic) -> 15\n",
      "Alpine Skiing (Skiing) Giant Slalom, Women (Olympic) -> 16\n",
      "Alpine Skiing (Skiing) Individual, Men (Olympic) -> 17\n",
      "Alpine Skiing (Skiing) Large Hill, Individual, Men (Olympic) -> 18\n",
      "Alpine Skiing (Skiing) Parallel Giant Slalom, Women (Olympic) -> 19\n",
      "Alpine Skiing (Skiing) Slalom, Men (Olympic) -> 20\n",
      "Alpine Skiing (Skiing) Slalom, Women (Olympic) -> 21\n",
      "Alpine Skiing (Skiing) Super G, Men (Olympic) -> 22\n",
      "Alpine Skiing (Skiing) Super G, Women (Olympic) -> 23\n",
      "Alpine Skiing (Skiing) Team, Mixed (Olympic) -> 24\n",
      "Alpine Skiing (Skiing) Two, Men (Olympic) -> 25\n",
      "Archery Au Chapelet, 33 metres, Men (Olympic) -> 26\n",
      "Archery Au Chapelet, 50 metres, Men (Olympic) -> 27\n",
      "Archery Au Cordon Doré, 33 metres, Men (Olympic) -> 28\n",
      "Archery Au Cordon Doré, 50 metres, Men (Olympic) -> 29\n",
      "Archery Championnat Du Monde, Men (Olympic) -> 30\n",
      "Archery Continental Style, Men (Olympic) -> 31\n",
      "Archery Double American Round, Men (Olympic) -> 32\n",
      "Archery Double Columbia Round, Women (Olympic) -> 33\n",
      "Archery Double National Round, Women (Olympic) -> 34\n",
      "Archery Double York Round, Men (Olympic) -> 35\n",
      "Archery Flight Shooting, Men (Olympic (non-medal)) -> 36\n",
      "Archery Flight Shooting, Women (Olympic (non-medal)) -> 37\n",
      "Archery French Championship, Individual, Men (Olympic (non-medal)) -> 38\n",
      "Archery Individual, Men (Olympic) -> 39\n",
      "Archery Individual, Women (Olympic) -> 40\n",
      "Archery Men's Individual -> 41\n",
      "Archery Men's Individual, 'Mixed Team' -> 42\n",
      "Archery Men's Individual, Men's Team -> 43\n",
      "Archery Men's Individual, Men's Team, 'Mixed Team' -> 44\n",
      "Archery Pole Archery, Large Birds, Individual, Men (Olympic) -> 45\n",
      "Archery Pole Archery, Large Birds, Team, Men (Olympic) -> 46\n",
      "Archery Pole Archery, Small Birds, Individual, Men (Olympic) -> 47\n",
      "Archery Pole Archery, Small Birds, Team, Men (Olympic) -> 48\n",
      "Archery Sur La Perche À La Herse, Men (Olympic) -> 49\n",
      "Archery Sur La Perche À La Pyramide, Men (Olympic) -> 50\n",
      "Archery Target Archery, 28 metres, Individual, Men (Olympic) -> 51\n",
      "Archery Target Archery, 28 metres, Team, Men (Olympic) -> 52\n",
      "Archery Target Archery, 33 metres, Individual, Men (Olympic) -> 53\n",
      "Archery Target Archery, 33 metres, Team, Men (Olympic) -> 54\n",
      "Archery Target Archery, 50 metres, Individual, Men (Olympic) -> 55\n",
      "Archery Target Archery, 50 metres, Team, Men (Olympic) -> 56\n",
      "Archery Team Round, Men (Olympic) -> 57\n",
      "Archery Team Round, Women (Olympic) -> 58\n",
      "Archery Team, Men (Olympic) -> 59\n",
      "Archery Team, Mixed (Olympic) -> 60\n",
      "Archery Team, Women (Olympic) -> 61\n",
      "Archery Women's Individual -> 62\n",
      "Archery Women's Individual, 'Mixed Team' -> 63\n",
      "Archery Women's Individual, Women's Team -> 64\n",
      "Archery Women's Individual, Women's Team, 'Mixed Team' -> 65\n",
      "Art Competitions Architecture, Further Entries, Open (Olympic) -> 66\n",
      "Art Competitions Architecture, Open (Olympic (non-medal)) -> 67\n",
      "Art Competitions Architecture, Open (Olympic) -> 68\n",
      "Art Competitions Literature, Dramatic Works, Open (Olympic) -> 69\n",
      "Art Competitions Literature, Lyric Works, Open (Olympic) -> 70\n",
      "Art Competitions Literature, Open (Olympic) -> 71\n",
      "Art Competitions Music, Compositions For Orchestra, Open (Olympic) -> 72\n",
      "Art Competitions Painting, Applied Arts, Open (Olympic) -> 73\n",
      "Art Competitions Painting, Drawings And Water Colors, Open (Olympic) -> 74\n",
      "Art Competitions Painting, Graphic Arts, Open (Olympic) -> 75\n",
      "Art Competitions Painting, Paintings, Open (Olympic) -> 76\n",
      "Art Competitions Painting, Unknown Event, Open (Olympic) -> 77\n",
      "Art Competitions Sculpturing, Medals And Reliefs, Open (Olympic) -> 78\n",
      "Art Competitions Sculpturing, Medals, Open (Olympic) -> 79\n",
      "Art Competitions Sculpturing, Open (Olympic) -> 80\n",
      "Art Competitions Sculpturing, Statues, Open (Olympic) -> 81\n",
      "Art Competitions Sculpturing, Unknown Event, Open (Olympic) -> 82\n",
      "Artistic Gymnastics 'Men', Men's All-Around, Men's Floor Exercise, Men's Horizontal Bar, Men's Parallel Bars, Men's Pommel Horse, Men's Rings, Men's Vault -> 83\n",
      "Artistic Gymnastics 'Men', Men's All-Around, Men's Floor Exercise, Men's Horizontal Bar, Men's Parallel Bars, Men's Pommel Horse, Men's Rings, Men's Vault, Men's Team -> 84\n",
      "Artistic Gymnastics 'Men', Men's Floor Exercise -> 85\n",
      "Artistic Gymnastics 'Men', Men's Floor Exercise, Men's Horizontal Bar, Men's Parallel Bars, Men's Pommel Horse, Men's Rings, Men's Vault, Men's Team -> 86\n",
      "Artistic Gymnastics 'Men', Men's Floor Exercise, Men's Horizontal Bar, Men's Parallel Bars, Men's Vault -> 87\n",
      "Artistic Gymnastics 'Men', Men's Floor Exercise, Men's Pommel Horse -> 88\n",
      "Artistic Gymnastics 'Men', Men's Floor Exercise, Men's Vault -> 89\n",
      "Artistic Gymnastics 'Men', Men's Horizontal Bar -> 90\n",
      "Artistic Gymnastics 'Men', Men's Horizontal Bar, Men's Parallel Bars -> 91\n",
      "Artistic Gymnastics 'Men', Men's Horizontal Bar, Men's Vault -> 92\n",
      "Artistic Gymnastics 'Men', Men's Parallel Bars -> 93\n",
      "Artistic Gymnastics 'Men', Men's Pommel Horse -> 94\n",
      "Artistic Gymnastics 'Men', Men's Rings -> 95\n",
      "Artistic Gymnastics 'Men', Men's Vault -> 96\n",
      "Artistic Gymnastics 'Women', Women's All-Around, Women's Balance Beam, Women's Floor Exercise, Women's Uneven Bars, Women's Vault -> 97\n",
      "Artistic Gymnastics 'Women', Women's All-Around, Women's Balance Beam, Women's Floor Exercise, Women's Uneven Bars, Women's Vault, Women's Team -> 98\n",
      "Artistic Gymnastics 'Women', Women's Balance Beam -> 99\n",
      "Artistic Gymnastics 'Women', Women's Balance Beam, Women's Floor Exercise -> 100\n",
      "Artistic Gymnastics 'Women', Women's Balance Beam, Women's Floor Exercise, Women's Uneven Bars, Women's Vault, Women's Team -> 101\n",
      "Artistic Gymnastics 'Women', Women's Balance Beam, Women's Uneven Bars -> 102\n",
      "Artistic Gymnastics 'Women', Women's Balance Beam, Women's Uneven Bars, Women's Vault -> 103\n",
      "Artistic Gymnastics 'Women', Women's Floor Exercise, Women's Uneven Bars, Women's Vault -> 104\n",
      "Artistic Gymnastics 'Women', Women's Uneven Bars -> 105\n",
      "Artistic Gymnastics 'Women', Women's Vault -> 106\n",
      "Artistic Gymnastics (Gymnastics) 100 metres Freestyle, Men (Olympic) -> 107\n",
      "Artistic Gymnastics (Gymnastics) 100 metres, Men (Olympic) -> 108\n",
      "Artistic Gymnastics (Gymnastics) 110 metres Hurdles, Men (Olympic) -> 109\n",
      "Artistic Gymnastics (Gymnastics) 200 metres Breaststroke, Men (Olympic) -> 110\n",
      "Artistic Gymnastics (Gymnastics) 26th Federal Festival, Society and Association Contests, Non-Simultaneous, National Championships, Men (Olympic (non-medal)) -> 111\n",
      "Artistic Gymnastics (Gymnastics) 26th Federal Festival, Society and Association Contests, Non-Simultaneous, Olympic Championships, Individual, Men (Olympic (non-medal)) -> 112\n",
      "Artistic Gymnastics (Gymnastics) 26th Federal Festival, Society and Association Contests, Non-Simultaneous, Shooting Championships, Honorary Members and Associates, Men (Olympic (non-medal)) -> 113\n",
      "Artistic Gymnastics (Gymnastics) 4 × 200 metres Freestyle Relay, Men (Olympic) -> 114\n",
      "Artistic Gymnastics (Gymnastics) 400 metres, Men (Olympic) -> 115\n",
      "Artistic Gymnastics (Gymnastics) Balance Beam, Women (Olympic) -> 116\n",
      "Artistic Gymnastics (Gymnastics) Club Swinging, Men (Olympic) -> 117\n",
      "Artistic Gymnastics (Gymnastics) Decathlon, Men (Olympic) -> 118\n",
      "Artistic Gymnastics (Gymnastics) Discus Throw, Men (Olympic) -> 119\n",
      "Artistic Gymnastics (Gymnastics) Festival for Societies of the Seine, Advanced, Men (Olympic (non-medal)) -> 120\n",
      "Artistic Gymnastics (Gymnastics) Festival for Societies of the Seine, Artistic, Individual, Men (Olympic (non-medal)) -> 121\n",
      "Artistic Gymnastics (Gymnastics) Festival for Societies of the Seine, Individual (#2), Men (Olympic (non-medal)) -> 122\n",
      "Artistic Gymnastics (Gymnastics) Festival for Societies of the Seine, Olympic Competition, Individual, Men (Olympic (non-medal)) -> 123\n",
      "Artistic Gymnastics (Gymnastics) Floor Exercise, Men (Olympic) -> 124\n",
      "Artistic Gymnastics (Gymnastics) Floor Exercise, Women (Olympic) -> 125\n",
      "Artistic Gymnastics (Gymnastics) High Jump, Men (Olympic) -> 126\n",
      "Artistic Gymnastics (Gymnastics) Horizontal Bar, Men (Olympic) -> 127\n",
      "Artistic Gymnastics (Gymnastics) Horizontal Bar, Teams, Men (Olympic) -> 128\n",
      "Artistic Gymnastics (Gymnastics) Horse Vault, Men (Olympic (non-medal)) -> 129\n",
      "Artistic Gymnastics (Gymnastics) Horse Vault, Men (Olympic) -> 130\n",
      "Artistic Gymnastics (Gymnastics) Horse Vault, Women (Olympic) -> 131\n",
      "Artistic Gymnastics (Gymnastics) Individual All-Around, 4 Events, Men (Olympic) -> 132\n",
      "Artistic Gymnastics (Gymnastics) Individual All-Around, Apparatus Work, Men (Olympic) -> 133\n",
      "Artistic Gymnastics (Gymnastics) Individual All-Around, Field Sports, Men (Olympic) -> 134\n",
      "Artistic Gymnastics (Gymnastics) Individual All-Around, Men (Olympic (non-medal)) -> 135\n",
      "Artistic Gymnastics (Gymnastics) Individual All-Around, Men (Olympic) -> 136\n",
      "Artistic Gymnastics (Gymnastics) Individual All-Around, Women (Olympic) -> 137\n",
      "Artistic Gymnastics (Gymnastics) Javelin Throw, Men (Olympic) -> 138\n",
      "Artistic Gymnastics (Gymnastics) Long Jump, Men (Olympic) -> 139\n",
      "Artistic Gymnastics (Gymnastics) Marathon, Men (Olympic) -> 140\n",
      "Artistic Gymnastics (Gymnastics) Military Pistol, 25 metres, Men (Olympic) -> 141\n",
      "Artistic Gymnastics (Gymnastics) Military Rifle, 200 metres, Men (Olympic) -> 142\n",
      "Artistic Gymnastics (Gymnastics) Parallel Bars, Men (Olympic (non-medal)) -> 143\n",
      "Artistic Gymnastics (Gymnastics) Parallel Bars, Men (Olympic) -> 144\n",
      "Artistic Gymnastics (Gymnastics) Parallel Bars, Teams, Men (Olympic) -> 145\n",
      "Artistic Gymnastics (Gymnastics) Pentathlon, Men (Olympic) -> 146\n",
      "Artistic Gymnastics (Gymnastics) Pole Vault, Men (Olympic) -> 147\n",
      "Artistic Gymnastics (Gymnastics) Pommelled Horse, Men (Olympic) -> 148\n",
      "Artistic Gymnastics (Gymnastics) Rings, Men (Olympic) -> 149\n",
      "Artistic Gymnastics (Gymnastics) Road Race, Individual, Men (Olympic) -> 150\n",
      "Artistic Gymnastics (Gymnastics) Rope Climbing, Men (Olympic) -> 151\n",
      "Artistic Gymnastics (Gymnastics) Sabre, Individual, Men (Olympic) -> 152\n",
      "Artistic Gymnastics (Gymnastics) Shot Put, Men (Olympic) -> 153\n",
      "Artistic Gymnastics (Gymnastics) Side Horse, Men (Olympic (non-medal)) -> 154\n",
      "Artistic Gymnastics (Gymnastics) Side Horse, Men (Olympic) -> 155\n",
      "Artistic Gymnastics (Gymnastics) Standing Long Jump, Men (Olympic) -> 156\n",
      "Artistic Gymnastics (Gymnastics) Team All-Around, Free System, Men (Olympic) -> 157\n",
      "Artistic Gymnastics (Gymnastics) Team All-Around, Men (Olympic) -> 158\n",
      "Artistic Gymnastics (Gymnastics) Team All-Around, Swedish System, Men (Olympic) -> 159\n",
      "Artistic Gymnastics (Gymnastics) Team All-Around, Women (Olympic) -> 160\n",
      "Artistic Gymnastics (Gymnastics) Team Portable Apparatus, Women (Olympic) -> 161\n",
      "Artistic Gymnastics (Gymnastics) Triple Jump, Men (Olympic) -> 162\n",
      "Artistic Gymnastics (Gymnastics) Tumbling, Men (Olympic) -> 163\n",
      "Artistic Gymnastics (Gymnastics) Uneven Bars, Women (Olympic) -> 164\n",
      "Artistic Swimming 'Duet' -> 165\n",
      "Artistic Swimming 'Team' -> 166\n",
      "Artistic Swimming 'Team', 'Duet' -> 167\n",
      "Artistic Swimming (Aquatics) Duet, Women (Olympic) -> 168\n",
      "Artistic Swimming (Aquatics) Solo, Women (Olympic) -> 169\n",
      "Artistic Swimming (Aquatics) Team, Women (Olympic) -> 170\n",
      "Athletics '4 x 400m Relay Mixed' -> 171\n",
      "Athletics 'Marathon Race Walk Relay Mixed' -> 172\n",
      "Athletics 1 mile, Boys (Olympic (non-medal)) -> 173\n",
      "Athletics 1 mile, Handicap, Men (Olympic (non-medal)) -> 174\n",
      "Athletics 1 mile, Men (Olympic (non-medal)) -> 175\n",
      "Athletics 1 mile, Team, Handicap, Men (Olympic (non-medal)) -> 176\n",
      "Athletics 1,200 metres Freestyle, Men (Olympic) -> 177\n",
      "Athletics 1,500 metres, Handicap, Men (Olympic (non-medal)) -> 178\n",
      "Athletics 1,500 metres, Men (Olympic) -> 179\n",
      "Athletics 1,500 metres, Women (Olympic) -> 180\n",
      "Athletics 1,600 metres Medley Relay, Men (Olympic) -> 181\n",
      "Athletics 10 kilometres Race Walk, Men (Olympic) -> 182\n",
      "Athletics 10 kilometres Race Walk, Women (Olympic) -> 183\n",
      "Athletics 10 miles Race Walk, Men (Olympic) -> 184\n",
      "Athletics 10,000 metres, Men (Olympic) -> 185\n",
      "Athletics 10,000 metres, Women (Olympic) -> 186\n",
      "Athletics 100 metres Backstroke, Men (Olympic) -> 187\n",
      "Athletics 100 metres Freestyle, Men (Olympic) -> 188\n",
      "Athletics 100 metres Hurdles, Women (Olympic) -> 189\n",
      "Athletics 100 metres, Handicap, Men (Olympic (non-medal)) -> 190\n",
      "Athletics 100 metres, Men (Olympic) -> 191\n",
      "Athletics 100 metres, Women (Olympic) -> 192\n",
      "Athletics 100 yards, Boys (Olympic (non-medal)) -> 193\n",
      "Athletics 100 yards, Handicap, Men (Olympic (non-medal)) -> 194\n",
      "Athletics 100 yards, Men (Olympic (non-medal)) -> 195\n",
      "Athletics 110 metres Hurdles, Handicap, Men (Olympic (non-medal)) -> 196\n",
      "Athletics 110 metres Hurdles, Men (Olympic) -> 197\n",
      "Athletics 120 yards Hurdles, Boys (Olympic (non-medal)) -> 198\n",
      "Athletics 120 yards Hurdles, Handicap, Men (Olympic (non-medal)) -> 199\n",
      "Athletics 120 yards Hurdles, Men (Olympic (non-medal)) -> 200\n",
      "Athletics 2 miles, Handicap, Men (Olympic (non-medal)) -> 201\n",
      "Athletics 2 miles, Men (Olympic (non-medal)) -> 202\n",
      "Athletics 2,500 metres Steeplechase, Handicap, Men (Olympic (non-medal)) -> 203\n",
      "Athletics 2,500 metres Steeplechase, Men (Olympic) -> 204\n",
      "Athletics 2,590 metres Steeplechase, Men (Olympic) -> 205\n",
      "Athletics 20 kilometres Race Walk, Men (Olympic) -> 206\n",
      "Athletics 20 kilometres Race Walk, Women (Olympic) -> 207\n",
      "Athletics 200 metres Breaststroke, Men (Olympic) -> 208\n",
      "Athletics 200 metres Hurdles, Men (Olympic) -> 209\n",
      "Athletics 200 metres, Men (Olympic) -> 210\n",
      "Athletics 200 metres, Women (Olympic) -> 211\n",
      "Athletics 220 yards Hurdles, Men (Olympic (non-medal)) -> 212\n",
      "Athletics 220 yards, Handicap, Men (Olympic (non-medal)) -> 213\n",
      "Athletics 220 yards, Men (Olympic (non-medal)) -> 214\n",
      "Athletics 3 miles, Team, Men (Olympic) -> 215\n",
      "Athletics 3,000 metres Race Walk, Men (Olympic) -> 216\n",
      "Athletics 3,000 metres Steeplechase, Men (Olympic) -> 217\n",
      "Athletics 3,000 metres Steeplechase, Women (Olympic) -> 218\n",
      "Athletics 3,000 metres, Team, Men (Olympic) -> 219\n",
      "Athletics 3,000 metres, Women (Olympic) -> 220\n",
      "Athletics 3,200 metres Steeplechase, Men (Olympic) -> 221\n",
      "Athletics 3,500 metres Race Walk, Men (Olympic) -> 222\n",
      "Athletics 4 miles, Team, Men (Olympic) -> 223\n",
      "Athletics 4 x 400m Relay Mixed -> 224\n",
      "Athletics 4 × 100 metres Relay, Men (Olympic) -> 225\n",
      "Athletics 4 × 100 metres Relay, Women (Olympic) -> 226\n",
      "Athletics 4 × 400 metres Relay, Men (Olympic) -> 227\n",
      "Athletics 4 × 400 metres Relay, Mixed (Olympic) -> 228\n",
      "Athletics 4 × 400 metres Relay, Women (Olympic) -> 229\n",
      "Athletics 4,000 metres Steeplechase, Men (Olympic) -> 230\n",
      "Athletics 400 metres Hurdles, Handicap, Men (Olympic (non-medal)) -> 231\n",
      "Athletics 400 metres Hurdles, Men (Olympic) -> 232\n",
      "Athletics 400 metres Hurdles, Women (Olympic) -> 233\n",
      "Athletics 400 metres, Handicap, Men (Olympic (non-medal)) -> 234\n",
      "Athletics 400 metres, Men (Olympic) -> 235\n",
      "Athletics 400 metres, Women (Olympic) -> 236\n",
      "Athletics 440 yards, Handicap, Men (Olympic (non-medal)) -> 237\n",
      "Athletics 440 yards, Men (Olympic (non-medal)) -> 238\n",
      "Athletics 5 miles, Boys (Olympic (non-medal)) -> 239\n",
      "Athletics 5 miles, Men (Olympic (non-medal)) -> 240\n",
      "Athletics 5 miles, Men (Olympic) -> 241\n",
      "Athletics 5,000 metres, Men (Olympic) -> 242\n",
      "Athletics 5,000 metres, Team, Men (Olympic) -> 243\n",
      "Athletics 5,000 metres, Women (Olympic) -> 244\n",
      "Athletics 50 kilometres Race Walk, Men (Olympic) -> 245\n",
      "Athletics 500 metres Freestyle, Men (Olympic) -> 246\n",
      "Athletics 56-pound Weight Throw, Handicap, Men (Olympic (non-medal)) -> 247\n",
      "Athletics 56-pound Weight Throw, Men (Olympic (non-medal)) -> 248\n",
      "Athletics 56-pound Weight Throw, Men (Olympic) -> 249\n",
      "Athletics 6-hour race, Professionals, Men (Olympic (non-medal)) -> 250\n",
      "Athletics 60 metres, Men (Olympic) -> 251\n",
      "Athletics 60 yards, Handicap, Men (Olympic (non-medal)) -> 252\n",
      "Athletics 80 metres Hurdles, Women (Olympic) -> 253\n",
      "Athletics 800 metres, Handicap, Men (Olympic (non-medal)) -> 254\n",
      "Athletics 800 metres, Men (Olympic) -> 255\n",
      "Athletics 800 metres, Women (Olympic) -> 256\n",
      "Athletics 880 yards, Boys (Olympic (non-medal)) -> 257\n",
      "Athletics 880 yards, Handicap, Men (Olympic (non-medal)) -> 258\n",
      "Athletics 880 yards, Men (Olympic (non-medal)) -> 259\n",
      "Athletics All-Around Championship, Men (Olympic) -> 260\n",
      "Athletics Baseball, Men (Olympic (non-medal)) -> 261\n",
      "Athletics Basketball, Men (Olympic) -> 262\n",
      "Athletics Cross-Country, Individual, Men (Olympic) -> 263\n",
      "Athletics Cross-Country, Team, Men (Olympic) -> 264\n",
      "Athletics Decathlon, Men (Olympic) -> 265\n",
      "Athletics Discus Throw, Both Hands, Men (Olympic) -> 266\n",
      "Athletics Discus Throw, Greek Style, Men (Olympic) -> 267\n",
      "Athletics Discus Throw, Handicap, Men (Olympic (non-medal)) -> 268\n",
      "Athletics Discus Throw, Men (Olympic (non-medal)) -> 269\n",
      "Athletics Discus Throw, Men (Olympic) -> 270\n",
      "Athletics Discus Throw, Women (Olympic) -> 271\n",
      "Athletics Doubles, Handicap, Men (Olympic (non-medal)) -> 272\n",
      "Athletics Doubles, Men (Olympic) -> 273\n",
      "Athletics Foil, Individual, Men (Olympic) -> 274\n",
      "Athletics Football, Men (Olympic) -> 275\n",
      "Athletics Free Pistol, 30 metres, Men (Olympic) -> 276\n",
      "Athletics Free Rifle, Any Position, 300 metres, Men (Olympic) -> 277\n",
      "Athletics Glíma, Men (Olympic (non-medal)) -> 278\n",
      "Athletics Hammer Throw, Handicap, Men (Olympic (non-medal)) -> 279\n",
      "Athletics Hammer Throw, Men (Olympic (non-medal)) -> 280\n",
      "Athletics Hammer Throw, Men (Olympic) -> 281\n",
      "Athletics Hammer Throw, Women (Olympic) -> 282\n",
      "Athletics Heavyweight, Freestyle, Men (Olympic) -> 283\n",
      "Athletics Heavyweight, Greco-Roman, Men (Olympic) -> 284\n",
      "Athletics Heavyweight, Men (Olympic) -> 285\n",
      "Athletics Heptathlon, Women (Olympic) -> 286\n",
      "Athletics High Jump, Handicap, Men (Olympic (non-medal)) -> 287\n",
      "Athletics High Jump, Men (Olympic (non-medal)) -> 288\n",
      "Athletics High Jump, Men (Olympic) -> 289\n",
      "Athletics High Jump, Women (Olympic) -> 290\n",
      "Athletics Hockey, Men (Olympic) -> 291\n",
      "Athletics Horizontal Bar, Men (Olympic) -> 292\n",
      "Athletics Horizontal Bar, Teams, Men (Olympic) -> 293\n",
      "Athletics Horse Vault, Men (Olympic) -> 294\n",
      "Athletics Individual All-Around, Apparatus Work, Men (Olympic) -> 295\n",
      "Athletics Individual All-Around, Field Sports, Men (Olympic) -> 296\n",
      "Athletics Individual All-Around, Men (Olympic) -> 297\n",
      "Athletics Javelin Throw, Both Hands, Men (Olympic) -> 298\n",
      "Athletics Javelin Throw, Freestyle, Men (Olympic) -> 299\n",
      "Athletics Javelin Throw, Men (Olympic) -> 300\n",
      "Athletics Javelin Throw, Women (Olympic) -> 301\n",
      "Athletics Light-Heavyweight, Greco-Roman, Men (Olympic) -> 302\n",
      "Athletics Lightweight, Men (Olympic) -> 303\n",
      "Athletics Literature, Epic Works, Open (Olympic) -> 304\n",
      "Athletics Long Jump, Handicap, Men (Olympic (non-medal)) -> 305\n",
      "Athletics Long Jump, Men (Olympic (non-medal)) -> 306\n",
      "Athletics Long Jump, Men (Olympic) -> 307\n",
      "Athletics Long Jump, Women (Olympic) -> 308\n",
      "Athletics Marathon, Men (Olympic) -> 309\n",
      "Athletics Marathon, Women (Olympic) -> 310\n",
      "Athletics Men's 10,000m -> 311\n",
      "Athletics Men's 10,000m, Men's 5000m -> 312\n",
      "Athletics Men's 100m -> 313\n",
      "Athletics Men's 100m, Men's 200m -> 314\n",
      "Athletics Men's 100m, Men's 200m, Men's 4 x 100m Relay -> 315\n",
      "Athletics Men's 100m, Men's 200m, Men's 4 x 400m Relay -> 316\n",
      "Athletics Men's 100m, Men's 4 x 100m Relay -> 317\n",
      "Athletics Men's 110m Hurdles -> 318\n",
      "Athletics Men's 1500m -> 319\n",
      "Athletics Men's 1500m, Men's 5000m -> 320\n",
      "Athletics Men's 1500m, Men's 800m -> 321\n",
      "Athletics Men's 200m -> 322\n",
      "Athletics Men's 200m, Men's 4 x 100m Relay -> 323\n",
      "Athletics Men's 200m, Men's 400m -> 324\n",
      "Athletics Men's 20km Race Walk -> 325\n",
      "Athletics Men's 20km Race Walk, 'Marathon Race Walk Relay Mixed' -> 326\n",
      "Athletics Men's 3000m Steeplechase -> 327\n",
      "Athletics Men's 4 x 100m Relay -> 328\n",
      "Athletics Men's 4 x 100m Relay, '4 x 400m Relay Mixed' -> 329\n",
      "Athletics Men's 4 x 100m Relay, Men's 4 x 400m Relay -> 330\n",
      "Athletics Men's 4 x 400m Relay -> 331\n",
      "Athletics Men's 4 x 400m Relay, '4 x 400m Relay Mixed' -> 332\n",
      "Athletics Men's 400m -> 333\n",
      "Athletics Men's 400m Hurdles -> 334\n",
      "Athletics Men's 400m Hurdles, '4 x 400m Relay Mixed' -> 335\n",
      "Athletics Men's 400m Hurdles, Men's 4 x 400m Relay -> 336\n",
      "Athletics Men's 400m, '4 x 400m Relay Mixed' -> 337\n",
      "Athletics Men's 400m, Men's 4 x 400m Relay -> 338\n",
      "Athletics Men's 400m, Men's 4 x 400m Relay, '4 x 400m Relay Mixed' -> 339\n",
      "Athletics Men's 5000m -> 340\n",
      "Athletics Men's 800m -> 341\n",
      "Athletics Men's Decathlon -> 342\n",
      "Athletics Men's Discus Throw -> 343\n",
      "Athletics Men's Hammer Throw -> 344\n",
      "Athletics Men's High Jump -> 345\n",
      "Athletics Men's Javelin Throw -> 346\n",
      "Athletics Men's Long Jump -> 347\n",
      "Athletics Men's Marathon -> 348\n",
      "Athletics Men's Pole Vault -> 349\n",
      "Athletics Men's Shot Put -> 350\n",
      "Athletics Men's Triple Jump -> 351\n",
      "Athletics Military Pistol, 25 metres, Men (Olympic) -> 352\n",
      "Athletics Military Rifle, 200 metres, Men (Olympic) -> 353\n",
      "Athletics Muzzle-Loading Pistol, 25 metres, Men (Olympic) -> 354\n",
      "Athletics Parallel Bars, Men (Olympic) -> 355\n",
      "Athletics Parallel Bars, Teams, Men (Olympic) -> 356\n",
      "Athletics Pentathlon, Men (Olympic) -> 357\n",
      "Athletics Pentathlon, Women (Olympic) -> 358\n",
      "Athletics Pole Vault, Boys (Olympic (non-medal)) -> 359\n",
      "Athletics Pole Vault, Handicap, Men (Olympic (non-medal)) -> 360\n",
      "Athletics Pole Vault, Men (Olympic (non-medal)) -> 361\n",
      "Athletics Pole Vault, Men (Olympic) -> 362\n",
      "Athletics Pole Vault, Women (Olympic) -> 363\n",
      "Athletics Pommelled Horse, Men (Olympic) -> 364\n",
      "Athletics Rapid-Fire Pistol, 25 metres, Men (Olympic) -> 365\n",
      "Athletics Rings, Men (Olympic) -> 366\n",
      "Athletics Rope Climbing, Men (Olympic) -> 367\n",
      "Athletics Rugby, Men (Olympic) -> 368\n",
      "Athletics Sabre, Individual, Men (Olympic) -> 369\n",
      "Athletics Shot Put, Both Hands, Men (Olympic) -> 370\n",
      "Athletics Shot Put, Handicap, Men (Olympic (non-medal)) -> 371\n",
      "Athletics Shot Put, Men (Olympic (non-medal)) -> 372\n",
      "Athletics Shot Put, Men (Olympic) -> 373\n",
      "Athletics Shot Put, Women (Olympic) -> 374\n",
      "Athletics Singles, Men (Olympic) -> 375\n",
      "Athletics Small-Bore Rifle, Prone, 50 metres, Men (Olympic) -> 376\n",
      "Athletics Special Scratch Pole Vault #2, Men (Olympic (non-medal)) -> 377\n",
      "Athletics Standing High Jump, Men (Olympic) -> 378\n",
      "Athletics Standing Long Jump, Men (Olympic) -> 379\n",
      "Athletics Standing Triple Jump, Men (Olympic (non-medal)) -> 380\n",
      "Athletics Standing Triple Jump, Men (Olympic) -> 381\n",
      "Athletics Stone Throw, Men (Olympic (non-medal)) -> 382\n",
      "Athletics Team All-Around, Men (Olympic) -> 383\n",
      "Athletics Triple Jump, Men (Olympic (non-medal)) -> 384\n",
      "Athletics Triple Jump, Men (Olympic) -> 385\n",
      "Athletics Triple Jump, Women (Olympic) -> 386\n",
      "Athletics Tug-Of-War, Men (Olympic) -> 387\n",
      "Athletics Unlimited Class, Greco-Roman, Men (Olympic) -> 388\n",
      "Athletics Unlimited, One Hand, Men (Olympic) -> 389\n",
      "Athletics Unlimited, Two Hands, Men (Olympic) -> 390\n",
      "Athletics Women's 10,000m -> 391\n",
      "Athletics Women's 10,000m, Women's 1500m, Women's 5000m -> 392\n",
      "Athletics Women's 10,000m, Women's 3000m Steeplechase -> 393\n",
      "Athletics Women's 10,000m, Women's 5000m -> 394\n",
      "Athletics Women's 10,000m, Women's 5000m, Women's Marathon -> 395\n",
      "Athletics Women's 100m -> 396\n",
      "Athletics Women's 100m Hurdles -> 397\n",
      "Athletics Women's 100m Hurdles, Women's Triple Jump -> 398\n",
      "Athletics Women's 100m, Women's 100m Hurdles -> 399\n",
      "Athletics Women's 100m, Women's 200m -> 400\n",
      "Athletics Women's 100m, Women's 200m, Women's 4 x 100m Relay -> 401\n",
      "Athletics Women's 100m, Women's 4 x 100m Relay -> 402\n",
      "Athletics Women's 1500m -> 403\n",
      "Athletics Women's 1500m, Women's 5000m -> 404\n",
      "Athletics Women's 1500m, Women's 800m -> 405\n",
      "Athletics Women's 200m -> 406\n",
      "Athletics Women's 200m, Women's 4 x 100m Relay -> 407\n",
      "Athletics Women's 200m, Women's 4 x 100m Relay, Women's 4 x 400m Relay -> 408\n",
      "Athletics Women's 200m, Women's 4 x 400m Relay -> 409\n",
      "Athletics Women's 200m, Women's 400m -> 410\n",
      "Athletics Women's 20km Race Walk -> 411\n",
      "Athletics Women's 20km Race Walk, 'Marathon Race Walk Relay Mixed' -> 412\n",
      "Athletics Women's 3000m Steeplechase -> 413\n",
      "Athletics Women's 3000m Steeplechase, Women's 5000m -> 414\n",
      "Athletics Women's 4 x 100m Relay -> 415\n",
      "Athletics Women's 4 x 400m Relay -> 416\n",
      "Athletics Women's 4 x 400m Relay, '4 x 400m Relay Mixed' -> 417\n",
      "Athletics Women's 4 x 400m Relay, Women's 800m -> 418\n",
      "Athletics Women's 400m -> 419\n",
      "Athletics Women's 400m Hurdles -> 420\n",
      "Athletics Women's 400m Hurdles, Women's 4 x 400m Relay -> 421\n",
      "Athletics Women's 400m Hurdles, Women's 4 x 400m Relay, '4 x 400m Relay Mixed' -> 422\n",
      "Athletics Women's 400m, '4 x 400m Relay Mixed' -> 423\n",
      "Athletics Women's 400m, Women's 4 x 400m Relay -> 424\n",
      "Athletics Women's 400m, Women's 4 x 400m Relay, '4 x 400m Relay Mixed' -> 425\n",
      "Athletics Women's 5000m -> 426\n",
      "Athletics Women's 800m -> 427\n",
      "Athletics Women's Discus Throw -> 428\n",
      "Athletics Women's Discus Throw, Women's Shot Put -> 429\n",
      "Athletics Women's Hammer Throw -> 430\n",
      "Athletics Women's Heptathlon -> 431\n",
      "Athletics Women's High Jump -> 432\n",
      "Athletics Women's Javelin Throw -> 433\n",
      "Athletics Women's Long Jump -> 434\n",
      "Athletics Women's Long Jump, Women's Triple Jump -> 435\n",
      "Athletics Women's Marathon -> 436\n",
      "Athletics Women's Pole Vault -> 437\n",
      "Athletics Women's Shot Put -> 438\n",
      "Athletics Women's Triple Jump -> 439\n",
      "Australian Rules Football Australian Rules Football, Men (Olympic (non-medal)) -> 440\n",
      "Badminton 'Mixed Doubles' -> 441\n",
      "Badminton Doubles, Men (Olympic (non-medal)) -> 442\n",
      "Badminton Doubles, Men (Olympic) -> 443\n",
      "Badminton Doubles, Mixed (Olympic (non-medal)) -> 444\n",
      "Badminton Doubles, Mixed (Olympic) -> 445\n",
      "Badminton Doubles, Women (Olympic (non-medal)) -> 446\n",
      "Badminton Doubles, Women (Olympic) -> 447\n",
      "Badminton Men's Doubles -> 448\n",
      "Badminton Men's Doubles, 'Mixed Doubles' -> 449\n",
      "Badminton Men's Doubles, Men's Singles -> 450\n",
      "Badminton Men's Singles -> 451\n",
      "Badminton Singles, Men (Olympic (non-medal)) -> 452\n",
      "Badminton Singles, Men (Olympic) -> 453\n",
      "Badminton Singles, Women (Olympic (non-medal)) -> 454\n",
      "Badminton Singles, Women (Olympic) -> 455\n",
      "Badminton Women's Doubles -> 456\n",
      "Badminton Women's Singles -> 457\n",
      "Ballooning (Air Sports) Closest landing to target (#3), Combined, Open (Olympic (non-medal)) -> 458\n",
      "Ballooning (Air Sports) Closest landing to target (#3), Final stop, Open (Olympic (non-medal)) -> 459\n",
      "Ballooning (Air Sports) Closest landing to target (#3), Intermediate stop, Open (Olympic (non-medal)) -> 460\n",
      "Ballooning (Air Sports) Four-In-Hand Competition, Open (Olympic) -> 461\n",
      "Ballooning (Air Sports) Longest time travelled (#2), Handicap, Open (Olympic (non-medal)) -> 462\n",
      "Ballooning (Air Sports) Longest time travelled (#3), Open (Olympic (non-medal)) -> 463\n",
      "Bandy Bandy, Men (Olympic (non-medal)) -> 464\n",
      "Baseball (Baseball/Softball) Baseball, Men (Olympic (non-medal)) -> 465\n",
      "Baseball (Baseball/Softball) Baseball, Men (Olympic) -> 466\n",
      "Basketball 'Men' -> 467\n",
      "Basketball 'Women' -> 468\n",
      "Basketball (Basketball) Basketball, Men (Olympic) -> 469\n",
      "Basketball (Basketball) Basketball, Women (Olympic) -> 470\n",
      "Basque pelota Two-Man Teams With Cesta, Men (Olympic) -> 471\n",
      "Beach Volleyball 'Men' -> 472\n",
      "Beach Volleyball 'Women' -> 473\n",
      "Beach Volleyball (Volleyball) Beach Volleyball, Men (Olympic) -> 474\n",
      "Beach Volleyball (Volleyball) Beach Volleyball, Women (Olympic) -> 475\n",
      "Biathlon 10 kilometres Pursuit, Women (Olympic) -> 476\n",
      "Biathlon 10 kilometres Sprint, Men (Olympic) -> 477\n",
      "Biathlon 10 kilometres, Men (Olympic) -> 478\n",
      "Biathlon 10 kilometres, Women (Olympic) -> 479\n",
      "Biathlon 10/10 kilometres Pursuit, Men (Olympic) -> 480\n",
      "Biathlon 10/15 kilometres Pursuit, Men (Olympic) -> 481\n",
      "Biathlon 12.5 kilometres Mass Start, Women (Olympic) -> 482\n",
      "Biathlon 12.5 kilometres Pursuit, Men (Olympic) -> 483\n",
      "Biathlon 15 kilometres Mass Start, Men (Olympic) -> 484\n",
      "Biathlon 15 kilometres, Men (Olympic) -> 485\n",
      "Biathlon 15 kilometres, Women (Olympic) -> 486\n",
      "Biathlon 2 × 6 kilometres and 2 × 7.5 kilometres Relay, Mixed (Olympic) -> 487\n",
      "Biathlon 20 kilometres, Men (Olympic) -> 488\n",
      "Biathlon 3 × 7.5 kilometres Relay, Women (Olympic) -> 489\n",
      "Biathlon 30 kilometres, Men (Olympic) -> 490\n",
      "Biathlon 30 kilometres, Women (Olympic) -> 491\n",
      "Biathlon 4 × 10 kilometres Relay, Men (Olympic) -> 492\n",
      "Biathlon 4 × 5 kilometres Relay, Women (Olympic) -> 493\n",
      "Biathlon 4 × 6 kilometres Relay, Women (Olympic) -> 494\n",
      "Biathlon 4 × 7.5 kilometres Relay, Men (Olympic) -> 495\n",
      "Biathlon 4 × 7.5 kilometres Relay, Women (Olympic) -> 496\n",
      "Biathlon 5 kilometres, Women (Olympic) -> 497\n",
      "Biathlon 5/10 kilometres Pursuit, Women (Olympic) -> 498\n",
      "Biathlon 50 kilometres, Men (Olympic) -> 499\n",
      "Biathlon 7.5 kilometres Sprint, Women (Olympic) -> 500\n",
      "Biathlon Sprint, Men (Olympic) -> 501\n",
      "Biathlon Sprint, Women (Olympic) -> 502\n",
      "Biathlon Team Sprint, Women (Olympic) -> 503\n",
      "Bicycle Polo (Cycling) Bicycle Polo, Men (Olympic (non-medal)) -> 504\n",
      "Bobsleigh (Bobsleigh) Curling, Men (Olympic) -> 505\n",
      "Bobsleigh (Bobsleigh) Four, Men (Olympic) -> 506\n",
      "Bobsleigh (Bobsleigh) Four, Open (Olympic) -> 507\n",
      "Bobsleigh (Bobsleigh) Four/Five, Men (Olympic) -> 508\n",
      "Bobsleigh (Bobsleigh) Giant Slalom, Men (Olympic) -> 509\n",
      "Bobsleigh (Bobsleigh) Ice Hockey, Men (Olympic) -> 510\n",
      "Bobsleigh (Bobsleigh) Monobob, Women (Olympic) -> 511\n",
      "Bobsleigh (Bobsleigh) Singles, Men (Olympic) -> 512\n",
      "Bobsleigh (Bobsleigh) Skeleton, Men (Olympic) -> 513\n",
      "Bobsleigh (Bobsleigh) Two, Men (Olympic) -> 514\n",
      "Bobsleigh (Bobsleigh) Two, Women (Olympic) -> 515\n",
      "Boxing 1,500 metres Freestyle, Men (Olympic) -> 516\n",
      "Boxing 100 metres Freestyle, Men (Olympic) -> 517\n",
      "Boxing 100 yards, Handicap, Men (Olympic (non-medal)) -> 518\n",
      "Boxing 100 yards, Men (Olympic (non-medal)) -> 519\n",
      "Boxing 220 yards, Handicap, Men (Olympic (non-medal)) -> 520\n",
      "Boxing 4 × 200 metres Freestyle Relay, Men (Olympic) -> 521\n",
      "Boxing 400 metres Freestyle, Men (Olympic) -> 522\n",
      "Boxing 440 yards, Handicap, Men (Olympic (non-medal)) -> 523\n",
      "Boxing 440 yards, Men (Olympic (non-medal)) -> 524\n",
      "Boxing Bantamweight, Men (Olympic) -> 525\n",
      "Boxing Eights, Men (Olympic) -> 526\n",
      "Boxing Featherweight, Men (Olympic) -> 527\n",
      "Boxing Featherweight, Women (Olympic) -> 528\n",
      "Boxing Flyweight, Men (Olympic) -> 529\n",
      "Boxing Flyweight, Women (Olympic) -> 530\n",
      "Boxing Football, Men (Olympic) -> 531\n",
      "Boxing Heavyweight, Men (Olympic) -> 532\n",
      "Boxing Light-Flyweight, Men (Olympic) -> 533\n",
      "Boxing Light-Heavyweight, Men (Olympic) -> 534\n",
      "Boxing Light-Middleweight, Men (Olympic) -> 535\n",
      "Boxing Light-Welterweight, Men (Olympic) -> 536\n",
      "Boxing Lightweight, Men (Olympic) -> 537\n",
      "Boxing Lightweight, Women (Olympic) -> 538\n",
      "Boxing Men's +92kg -> 539\n",
      "Boxing Men's 51kg -> 540\n",
      "Boxing Men's 57kg -> 541\n",
      "Boxing Men's 63.5kg -> 542\n",
      "Boxing Men's 71kg -> 543\n",
      "Boxing Men's 80kg -> 544\n",
      "Boxing Men's 92kg -> 545\n",
      "Boxing Middleweight, Men (Olympic) -> 546\n",
      "Boxing Middleweight, Women (Olympic) -> 547\n",
      "Boxing Springboard, Men (Olympic) -> 548\n",
      "Boxing Super-Heavyweight, Men (Olympic) -> 549\n",
      "Boxing Tug-Of-War, Men (Olympic) -> 550\n",
      "Boxing Welterweight, Men (Olympic) -> 551\n",
      "Boxing Welterweight, Women (Olympic) -> 552\n",
      "Boxing Women's 50kg -> 553\n",
      "Boxing Women's 54kg -> 554\n",
      "Boxing Women's 57kg -> 555\n",
      "Boxing Women's 60kg -> 556\n",
      "Boxing Women's 66kg -> 557\n",
      "Boxing Women's 75kg -> 558\n",
      "Breaking 'B-Boys' -> 559\n",
      "Breaking 'B-Girls' -> 560\n",
      "Canoe Marathon (Canoeing) Canadian Doubles, 10,000 metres, Men (Olympic) -> 561\n",
      "Canoe Marathon (Canoeing) Canadian Singles, 10,000 metres, Men (Olympic) -> 562\n",
      "Canoe Marathon (Canoeing) Folding Kayak Doubles, 10,000 metres, Men (Olympic) -> 563\n",
      "Canoe Marathon (Canoeing) Folding Kayak Singles, 10,000 metres, Men (Olympic) -> 564\n",
      "Canoe Marathon (Canoeing) Kayak Doubles, 10,000 metres, Men (Olympic) -> 565\n",
      "Canoe Marathon (Canoeing) Kayak Singles, 10,000 metres, Men (Olympic) -> 566\n",
      "Canoe Slalom (Canoeing) Canadian Doubles, Slalom, Men (Olympic) -> 567\n",
      "Canoe Slalom (Canoeing) Canadian Singles, Slalom, Men (Olympic) -> 568\n",
      "Canoe Slalom (Canoeing) Canadian Singles, Slalom, Women (Olympic) -> 569\n",
      "Canoe Slalom (Canoeing) Kayak Singles, Slalom, Men (Olympic) -> 570\n",
      "Canoe Slalom (Canoeing) Kayak Singles, Slalom, Women (Olympic) -> 571\n",
      "Canoe Slalom Men's Canoe Single -> 572\n",
      "Canoe Slalom Men's Canoe Single, Men's Kayak Cross -> 573\n",
      "Canoe Slalom Men's Canoe Single, Men's Kayak Single, Men's Kayak Cross -> 574\n",
      "Canoe Slalom Men's Kayak Cross -> 575\n",
      "Canoe Slalom Men's Kayak Single -> 576\n",
      "Canoe Slalom Men's Kayak Single, Men's Kayak Cross -> 577\n",
      "Canoe Slalom Women's Canoe Single -> 578\n",
      "Canoe Slalom Women's Canoe Single, Women's Kayak Cross -> 579\n",
      "Canoe Slalom Women's Canoe Single, Women's Kayak Single, Women's Kayak Cross -> 580\n",
      "Canoe Slalom Women's Kayak Cross -> 581\n",
      "Canoe Slalom Women's Kayak Single, Women's Kayak Cross -> 582\n",
      "Canoe Sprint (Canoeing) Canadian Doubles, 1,000 metres, Men (Olympic) -> 583\n",
      "Canoe Sprint (Canoeing) Canadian Doubles, 10,000 metres, Men (Olympic) -> 584\n",
      "Canoe Sprint (Canoeing) Canadian Doubles, 500 metres, Men (Olympic) -> 585\n",
      "Canoe Sprint (Canoeing) Canadian Doubles, 500 metres, Women (Olympic) -> 586\n",
      "Canoe Sprint (Canoeing) Canadian Singles, 1,000 metres, Men (Olympic) -> 587\n",
      "Canoe Sprint (Canoeing) Canadian Singles, 10,000 metres, Men (Olympic) -> 588\n",
      "Canoe Sprint (Canoeing) Canadian Singles, 200 metres, Men (Olympic) -> 589\n",
      "Canoe Sprint (Canoeing) Canadian Singles, 200 metres, Women (Olympic) -> 590\n",
      "Canoe Sprint (Canoeing) Canadian Singles, 500 metres, Men (Olympic) -> 591\n",
      "Canoe Sprint (Canoeing) Folding Kayak Doubles, 10,000 metres, Men (Olympic) -> 592\n",
      "Canoe Sprint (Canoeing) Folding Kayak Singles, 10,000 metres, Men (Olympic) -> 593\n",
      "Canoe Sprint (Canoeing) Kayak Doubles, 1,000 metres, Men (Olympic) -> 594\n",
      "Canoe Sprint (Canoeing) Kayak Doubles, 10,000 metres, Men (Olympic) -> 595\n",
      "Canoe Sprint (Canoeing) Kayak Doubles, 200 metres, Men (Olympic) -> 596\n",
      "Canoe Sprint (Canoeing) Kayak Doubles, 500 metres, Men (Olympic) -> 597\n",
      "Canoe Sprint (Canoeing) Kayak Doubles, 500 metres, Women (Olympic) -> 598\n",
      "Canoe Sprint (Canoeing) Kayak Fours, 1,000 metres, Men (Olympic) -> 599\n",
      "Canoe Sprint (Canoeing) Kayak Fours, 500 metres, Men (Olympic) -> 600\n",
      "Canoe Sprint (Canoeing) Kayak Fours, 500 metres, Women (Olympic) -> 601\n",
      "Canoe Sprint (Canoeing) Kayak Relay, 4 × 500 metres, Men (Olympic) -> 602\n",
      "Canoe Sprint (Canoeing) Kayak Singles, 1,000 metres, Men (Olympic) -> 603\n",
      "Canoe Sprint (Canoeing) Kayak Singles, 10,000 metres, Men (Olympic) -> 604\n",
      "Canoe Sprint (Canoeing) Kayak Singles, 200 metres, Men (Olympic) -> 605\n",
      "Canoe Sprint (Canoeing) Kayak Singles, 200 metres, Women (Olympic) -> 606\n",
      "Canoe Sprint (Canoeing) Kayak Singles, 500 metres, Men (Olympic) -> 607\n",
      "Canoe Sprint (Canoeing) Kayak Singles, 500 metres, Women (Olympic) -> 608\n",
      "Canoe Sprint Men's Canoe Double 500m -> 609\n",
      "Canoe Sprint Men's Canoe Double 500m, Men's Kayak Four 500m -> 610\n",
      "Canoe Sprint Men's Canoe Single 1000m -> 611\n",
      "Canoe Sprint Men's Canoe Single 1000m, Men's Canoe Double 500m -> 612\n",
      "Canoe Sprint Men's Kayak Double 500m -> 613\n",
      "Canoe Sprint Men's Kayak Double 500m, Men's Kayak Four 500m -> 614\n",
      "Canoe Sprint Men's Kayak Four 500m -> 615\n",
      "Canoe Sprint Men's Kayak Single 1000m -> 616\n",
      "Canoe Sprint Men's Kayak Single 1000m, Men's Kayak Double 500m -> 617\n",
      "Canoe Sprint Men's Kayak Single 1000m, Men's Kayak Double 500m, Men's Kayak Four 500m -> 618\n",
      "Canoe Sprint Women's Canoe Double 500m -> 619\n",
      "Canoe Sprint Women's Canoe Single 200m -> 620\n",
      "Canoe Sprint Women's Canoe Single 200m, Women's Canoe Double 500m -> 621\n",
      "Canoe Sprint Women's Canoe Single 200m, Women's Kayak Single 500m -> 622\n",
      "Canoe Sprint Women's Kayak Double 500m -> 623\n",
      "Canoe Sprint Women's Kayak Double 500m, Women's Kayak Four 500m -> 624\n",
      "Canoe Sprint Women's Kayak Four 500m -> 625\n",
      "Canoe Sprint Women's Kayak Single 500m -> 626\n",
      "Canoe Sprint Women's Kayak Single 500m, Women's Kayak Double 500m -> 627\n",
      "Canoe Sprint Women's Kayak Single 500m, Women's Kayak Double 500m, Women's Kayak Four 500m -> 628\n",
      "Canoe Sprint Women's Kayak Single 500m, Women's Kayak Four 500m -> 629\n",
      "Cricket Cricket, Men (Olympic) -> 630\n",
      "Croquet Doubles, Open (Olympic) -> 631\n",
      "Croquet Singles, One Ball, Open (Olympic) -> 632\n",
      "Croquet Singles, Two Balls, Handicap, Men (Olympic (non-medal)) -> 633\n",
      "Croquet Singles, Two Balls, Open (Olympic) -> 634\n",
      "Cross Country Skiing (Skiing) 10 kilometres, Men (Olympic) -> 635\n",
      "Cross Country Skiing (Skiing) 10 kilometres, Women (Olympic) -> 636\n",
      "Cross Country Skiing (Skiing) 10/10 kilometres Pursuit, Men (Olympic) -> 637\n",
      "Cross Country Skiing (Skiing) 10/15 kilometres Pursuit, Men (Olympic) -> 638\n",
      "Cross Country Skiing (Skiing) 15 kilometres Skiathlon, Women (Olympic) -> 639\n",
      "Cross Country Skiing (Skiing) 15 kilometres, Men (Olympic) -> 640\n",
      "Cross Country Skiing (Skiing) 15 kilometres, Women (Olympic) -> 641\n",
      "Cross Country Skiing (Skiing) 18 kilometres, Men (Olympic) -> 642\n",
      "Cross Country Skiing (Skiing) 20 kilometres, Women (Olympic) -> 643\n",
      "Cross Country Skiing (Skiing) 3 × 5 kilometres Relay, Women (Olympic) -> 644\n",
      "Cross Country Skiing (Skiing) 30 kilometres Skiathlon, Men (Olympic) -> 645\n",
      "Cross Country Skiing (Skiing) 30 kilometres, Men (Olympic) -> 646\n",
      "Cross Country Skiing (Skiing) 30 kilometres, Women (Olympic) -> 647\n",
      "Cross Country Skiing (Skiing) 4 × 10 kilometres Relay, Men (Olympic) -> 648\n",
      "Cross Country Skiing (Skiing) 4 × 5 kilometres Relay, Women (Olympic) -> 649\n",
      "Cross Country Skiing (Skiing) 5 kilometres, Women (Olympic) -> 650\n",
      "Cross Country Skiing (Skiing) 5/10 kilometres Pursuit, Women (Olympic) -> 651\n",
      "Cross Country Skiing (Skiing) 5/5 kilometres Pursuit, Women (Olympic) -> 652\n",
      "Cross Country Skiing (Skiing) 50 kilometres, Men (Olympic) -> 653\n",
      "Cross Country Skiing (Skiing) Combined, Men (Olympic) -> 654\n",
      "Cross Country Skiing (Skiing) Individual, Men (Olympic) -> 655\n",
      "Cross Country Skiing (Skiing) Large Hill, Individual, Men (Olympic) -> 656\n",
      "Cross Country Skiing (Skiing) Military Ski Patrol, Men (Olympic (non-medal)) -> 657\n",
      "Cross Country Skiing (Skiing) Military Ski Patrol, Men (Olympic) -> 658\n",
      "Cross Country Skiing (Skiing) Sprint, Men (Olympic) -> 659\n",
      "Cross Country Skiing (Skiing) Sprint, Women (Olympic) -> 660\n",
      "Cross Country Skiing (Skiing) Team Sprint, Men (Olympic) -> 661\n",
      "Cross Country Skiing (Skiing) Team Sprint, Women (Olympic) -> 662\n",
      "Cross Country Skiing (Skiing) Team, Men (Olympic) -> 663\n",
      "Curling Curling, Men (Olympic (non-medal)) -> 664\n",
      "Curling Curling, Men (Olympic) -> 665\n",
      "Curling Curling, Women (Olympic (non-medal)) -> 666\n",
      "Curling Curling, Women (Olympic) -> 667\n",
      "Curling Mixed Doubles, Mixed (Olympic) -> 668\n",
      "Cycling BMX Freestyle (Cycling) Park, Men (Olympic) -> 669\n",
      "Cycling BMX Freestyle (Cycling) Park, Women (Olympic) -> 670\n",
      "Cycling BMX Freestyle Men's Park -> 671\n",
      "Cycling BMX Freestyle Women's Park -> 672\n",
      "Cycling BMX Racing 'Men' -> 673\n",
      "Cycling BMX Racing 'Women' -> 674\n",
      "Cycling BMX Racing (Cycling) BMX, Men (Olympic) -> 675\n",
      "Cycling BMX Racing (Cycling) BMX, Women (Olympic) -> 676\n",
      "Cycling Mountain Bike (Cycling) Cross-Country, Men (Olympic) -> 677\n",
      "Cycling Mountain Bike (Cycling) Cross-Country, Women (Olympic) -> 678\n",
      "Cycling Mountain Bike Men's Cross-country -> 679\n",
      "Cycling Mountain Bike Women's Cross-country -> 680\n",
      "Cycling Road (Cycling) 1,000 metres Time Trial, Men (Olympic) -> 681\n",
      "Cycling Road (Cycling) 10,000 metres, Men (Olympic) -> 682\n",
      "Cycling Road (Cycling) 100 kilometres Team Time Trial, Men (Olympic) -> 683\n",
      "Cycling Road (Cycling) 100 kilometres, Men (Olympic) -> 684\n",
      "Cycling Road (Cycling) 12-Hours Race, Men (Olympic) -> 685\n",
      "Cycling Road (Cycling) 333⅓ metres Time Trial, Men (Olympic) -> 686\n",
      "Cycling Road (Cycling) 4 × 100 metres Relay, Men (Olympic) -> 687\n",
      "Cycling Road (Cycling) 50 kilometres, Men (Olympic) -> 688\n",
      "Cycling Road (Cycling) Cross-Country, Men (Olympic) -> 689\n",
      "Cycling Road (Cycling) Cross-Country, Women (Olympic) -> 690\n",
      "Cycling Road (Cycling) Individual Pursuit, 4,000 metres, Men (Olympic) -> 691\n",
      "Cycling Road (Cycling) Individual Pursuit, Women (Olympic) -> 692\n",
      "Cycling Road (Cycling) Individual Time Trial, Men (Olympic) -> 693\n",
      "Cycling Road (Cycling) Individual Time Trial, Women (Olympic) -> 694\n",
      "Cycling Road (Cycling) Keirin, Men (Olympic) -> 695\n",
      "Cycling Road (Cycling) Madison, Men (Olympic) -> 696\n",
      "Cycling Road (Cycling) Omnium, Men (Olympic) -> 697\n",
      "Cycling Road (Cycling) Omnium, Women (Olympic) -> 698\n",
      "Cycling Road (Cycling) Points Race, Men (Olympic) -> 699\n",
      "Cycling Road (Cycling) Points Race, Women (Olympic) -> 700\n",
      "Cycling Road (Cycling) Road Race, Individual, Men (Olympic) -> 701\n",
      "Cycling Road (Cycling) Road Race, Individual, Women (Olympic) -> 702\n",
      "Cycling Road (Cycling) Road Race, Team, Men (Olympic) -> 703\n",
      "Cycling Road (Cycling) Sprint, Men (Olympic) -> 704\n",
      "Cycling Road (Cycling) Sprint, Women (Olympic) -> 705\n",
      "Cycling Road (Cycling) Tandem Sprint, 2,000 metres, Men (Olympic) -> 706\n",
      "Cycling Road (Cycling) Team Pursuit, 4,000 metres, Men (Olympic) -> 707\n",
      "Cycling Road (Cycling) Team Pursuit, Women (Olympic) -> 708\n",
      "Cycling Road (Cycling) Team Sprint, Men (Olympic) -> 709\n",
      "Cycling Road Men's Individual Time Trial -> 710\n",
      "Cycling Road Men's Road Race -> 711\n",
      "Cycling Road Men's Road Race, Men's Individual Time Trial -> 712\n",
      "Cycling Road Women's Road Race -> 713\n",
      "Cycling Road Women's Road Race, Women's Individual Time Trial -> 714\n",
      "Cycling Road, Cycling Mountain Bike Men's Road Race, Men's Cross-country -> 715\n",
      "Cycling Road, Cycling Mountain Bike Women's Road Race, Women's Cross-country -> 716\n",
      "Cycling Road, Cycling Track Men's Individual Time Trial, Men's Madison, Men's Team Pursuit -> 717\n",
      "Cycling Road, Cycling Track Men's Road Race, Men's Madison, Men's Omnium -> 718\n",
      "Cycling Road, Cycling Track Men's Road Race, Men's Madison, Men's Team Pursuit -> 719\n",
      "Cycling Road, Cycling Track Women's Individual Time Trial, Women's Team Pursuit -> 720\n",
      "Cycling Road, Cycling Track Women's Road Race, Women's Individual Time Trial, Women's Omnium -> 721\n",
      "Cycling Road, Cycling Track Women's Road Race, Women's Individual Time Trial, Women's Team Pursuit -> 722\n",
      "Cycling Road, Cycling Track Women's Road Race, Women's Keirin, Women's Sprint -> 723\n",
      "Cycling Road, Cycling Track Women's Road Race, Women's Madison, Women's Omnium, Women's Team Pursuit -> 724\n",
      "Cycling Road, Cycling Track Women's Road Race, Women's Omnium -> 725\n",
      "Cycling Road, Cycling Track Women's Road Race, Women's Team Pursuit -> 726\n",
      "Cycling Road, Triathlon Women's Individual Time Trial, Women's Individual -> 727\n",
      "Cycling Track (Cycling) 1 mile, Handicap, Men (Olympic (non-medal)) -> 728\n",
      "Cycling Track (Cycling) 1 mile, Men (Olympic) -> 729\n",
      "Cycling Track (Cycling) 1 mile, Novice, Men (Olympic (non-medal)) -> 730\n",
      "Cycling Track (Cycling) 1,000 metres Time Trial, Men (Olympic) -> 731\n",
      "Cycling Track (Cycling) 100 kilometres, Men (Olympic) -> 732\n",
      "Cycling Track (Cycling) 12-Hours Race, Men (Olympic) -> 733\n",
      "Cycling Track (Cycling) 2 miles, Men (Olympic) -> 734\n",
      "Cycling Track (Cycling) 20 kilometres, Men (Olympic) -> 735\n",
      "Cycling Track (Cycling) 25 kilometres, Men (Olympic) -> 736\n",
      "Cycling Track (Cycling) 25 miles, Men (Olympic) -> 737\n",
      "Cycling Track (Cycling) 5 miles, Handicap, Men (Olympic (non-medal)) -> 738\n",
      "Cycling Track (Cycling) 5 miles, Men (Olympic) -> 739\n",
      "Cycling Track (Cycling) 5,000 metres, Men (Olympic) -> 740\n",
      "Cycling Track (Cycling) 50 kilometres, Men (Olympic) -> 741\n",
      "Cycling Track (Cycling) 500 metres Time Trial, Women (Olympic) -> 742\n",
      "Cycling Track (Cycling) Cross-Country, Men (Olympic) -> 743\n",
      "Cycling Track (Cycling) Individual Pursuit, 4,000 metres, Men (Olympic) -> 744\n",
      "Cycling Track (Cycling) Individual Pursuit, Women (Olympic) -> 745\n",
      "Cycling Track (Cycling) Individual Time Trial, Men (Olympic) -> 746\n",
      "Cycling Track (Cycling) Individual Time Trial, Women (Olympic) -> 747\n",
      "Cycling Track (Cycling) Keirin, Men (Olympic) -> 748\n",
      "Cycling Track (Cycling) Keirin, Women (Olympic) -> 749\n",
      "Cycling Track (Cycling) Madison, Men (Olympic) -> 750\n",
      "Cycling Track (Cycling) Madison, Women (Olympic) -> 751\n",
      "Cycling Track (Cycling) Omnium, Men (Olympic) -> 752\n",
      "Cycling Track (Cycling) Omnium, Women (Olympic) -> 753\n",
      "Cycling Track (Cycling) Points Race, Men (Olympic) -> 754\n",
      "Cycling Track (Cycling) Points Race, Women (Olympic) -> 755\n",
      "Cycling Track (Cycling) Road Race, Individual, Men (Olympic) -> 756\n",
      "Cycling Track (Cycling) Road Race, Individual, Women (Olympic) -> 757\n",
      "Cycling Track (Cycling) Sprint, Men (Olympic) -> 758\n",
      "Cycling Track (Cycling) Sprint, Women (Olympic) -> 759\n",
      "Cycling Track (Cycling) Tandem Sprint, 2,000 metres, Men (Olympic) -> 760\n",
      "Cycling Track (Cycling) Team Pursuit, 1,980 yards, Men (Olympic) -> 761\n",
      "Cycling Track (Cycling) Team Pursuit, 4,000 metres, Men (Olympic) -> 762\n",
      "Cycling Track (Cycling) Team Pursuit, Women (Olympic) -> 763\n",
      "Cycling Track (Cycling) Team Sprint, Men (Olympic) -> 764\n",
      "Cycling Track (Cycling) Team Sprint, Women (Olympic) -> 765\n",
      "Cycling Track (Cycling) ¼ mile, Men (Olympic) -> 766\n",
      "Cycling Track (Cycling) ½ mile, Handicap, Men (Olympic (non-medal)) -> 767\n",
      "Cycling Track (Cycling) ½ mile, Men (Olympic) -> 768\n",
      "Cycling Track (Cycling) ⅓ mile, Men (Olympic) -> 769\n",
      "Cycling Track Men's Keirin, Men's Sprint -> 770\n",
      "Cycling Track Men's Keirin, Men's Sprint, Men's Team Sprint -> 771\n",
      "Cycling Track Men's Keirin, Men's Sprint, Men's Team Sprint, Women's Keirin -> 772\n",
      "Cycling Track Men's Keirin, Men's Team Pursuit, Men's Sprint, Men's Team Sprint -> 773\n",
      "Cycling Track Men's Madison -> 774\n",
      "Cycling Track Men's Madison, Men's Omnium -> 775\n",
      "Cycling Track Men's Madison, Men's Omnium, Men's Team Pursuit -> 776\n",
      "Cycling Track Men's Madison, Men's Team Pursuit -> 777\n",
      "Cycling Track Men's Omnium -> 778\n",
      "Cycling Track Men's Omnium, Men's Team Pursuit -> 779\n",
      "Cycling Track Men's Team Pursuit -> 780\n",
      "Cycling Track Men's Team Sprint -> 781\n",
      "Cycling Track Women's Keirin, Women's Madison, Women's Sprint, Women's Team Sprint -> 782\n",
      "Cycling Track Women's Keirin, Women's Madison, Women's Team Pursuit, Women's Sprint -> 783\n",
      "Cycling Track Women's Keirin, Women's Sprint -> 784\n",
      "Cycling Track Women's Keirin, Women's Sprint, Women's Team Sprint -> 785\n",
      "Cycling Track Women's Keirin, Women's Team Pursuit, Women's Sprint -> 786\n",
      "Cycling Track Women's Keirin, Women's Team Sprint -> 787\n",
      "Cycling Track Women's Madison -> 788\n",
      "Cycling Track Women's Madison, Women's Omnium -> 789\n",
      "Cycling Track Women's Madison, Women's Omnium, Women's Team Pursuit -> 790\n",
      "Cycling Track Women's Madison, Women's Team Pursuit -> 791\n",
      "Cycling Track Women's Madison, Women's Team Sprint -> 792\n",
      "Cycling Track Women's Omnium -> 793\n",
      "Cycling Track Women's Omnium, Women's Team Pursuit -> 794\n",
      "Cycling Track Women's Sprint, Women's Team Sprint -> 795\n",
      "Cycling Track Women's Team Pursuit -> 796\n",
      "Cycling Track Women's Team Sprint -> 797\n",
      "Diving (Aquatics) 1,500 metres Freestyle, Men (Olympic) -> 798\n",
      "Diving (Aquatics) 100 metres Backstroke, Men (Olympic) -> 799\n",
      "Diving (Aquatics) 100 metres Backstroke, Women (Olympic) -> 800\n",
      "Diving (Aquatics) 100 metres Freestyle, Men (Olympic) -> 801\n",
      "Diving (Aquatics) 100 metres Freestyle, Women (Olympic) -> 802\n",
      "Diving (Aquatics) 100 yards Backstroke, Men (Olympic) -> 803\n",
      "Diving (Aquatics) 100 yards Freestyle, Men (Olympic) -> 804\n",
      "Diving (Aquatics) 200 metres Breaststroke, Men (Olympic) -> 805\n",
      "Diving (Aquatics) 200 metres Breaststroke, Women (Olympic) -> 806\n",
      "Diving (Aquatics) 300 metres Freestyle, Women (Olympic) -> 807\n",
      "Diving (Aquatics) 4 × 100 metres Freestyle Relay, Women (Olympic) -> 808\n",
      "Diving (Aquatics) 4 × 200 metres Freestyle Relay, Men (Olympic) -> 809\n",
      "Diving (Aquatics) 4 × 50 yards Freestyle Relay, Men (Olympic) -> 810\n",
      "Diving (Aquatics) 400 metres Freestyle, Men (Olympic) -> 811\n",
      "Diving (Aquatics) 400 metres Freestyle, Women (Olympic) -> 812\n",
      "Diving (Aquatics) 440 yards Breaststroke, Men (Olympic) -> 813\n",
      "Diving (Aquatics) 440 yards Freestyle, Men (Olympic) -> 814\n",
      "Diving (Aquatics) 50 yards Freestyle, Men (Olympic) -> 815\n",
      "Diving (Aquatics) 880 yards, Handicap, Men (Olympic (non-medal)) -> 816\n",
      "Diving (Aquatics) Architecture, Designs For Town Planning, Open (Olympic) -> 817\n",
      "Diving (Aquatics) Individual, Men (Olympic) -> 818\n",
      "Diving (Aquatics) Plain High, Men (Olympic) -> 819\n",
      "Diving (Aquatics) Plain High, Women (Olympic) -> 820\n",
      "Diving (Aquatics) Platform, Men (Olympic) -> 821\n",
      "Diving (Aquatics) Platform, Women (Olympic) -> 822\n",
      "Diving (Aquatics) Springboard, Men (Olympic) -> 823\n",
      "Diving (Aquatics) Springboard, Women (Olympic) -> 824\n",
      "Diving (Aquatics) Synchronized Platform, Men (Olympic) -> 825\n",
      "Diving (Aquatics) Synchronized Platform, Women (Olympic) -> 826\n",
      "Diving (Aquatics) Synchronized Springboard, Men (Olympic) -> 827\n",
      "Diving (Aquatics) Synchronized Springboard, Women (Olympic) -> 828\n",
      "Diving (Aquatics) Team All-Around, Free System, Men (Olympic) -> 829\n",
      "Diving (Aquatics) Team All-Around, Men (Olympic) -> 830\n",
      "Diving (Aquatics) Water Polo, Men (Olympic) -> 831\n",
      "Diving (Aquatics) Welterweight, Freestyle, Men (Olympic) -> 832\n",
      "Diving Men's 10m Platform -> 833\n",
      "Diving Men's 10m Platform, Men's 3m Springboard -> 834\n",
      "Diving Men's 10m Platform, Men's Synchronised 10m Platform -> 835\n",
      "Diving Men's 3m Springboard -> 836\n",
      "Diving Men's 3m Springboard, Men's Synchronised 3m Springboard -> 837\n",
      "Diving Men's Synchronised 10m Platform -> 838\n",
      "Diving Men's Synchronised 3m Springboard -> 839\n",
      "Diving Women's 10m Platform -> 840\n",
      "Diving Women's 10m Platform, Women's 3m Springboard -> 841\n",
      "Diving Women's 10m Platform, Women's Synchronised 10m Platform -> 842\n",
      "Diving Women's 3m Springboard -> 843\n",
      "Diving Women's 3m Springboard, Women's Synchronised 3m Springboard -> 844\n",
      "Diving Women's Synchronised 10m Platform -> 845\n",
      "Diving Women's Synchronised 3m Springboard -> 846\n",
      "Equestrian 'Dressage Individual' -> 847\n",
      "Equestrian 'Dressage Individual', 'Dressage Team' -> 848\n",
      "Equestrian 'Dressage Team' -> 849\n",
      "Equestrian 'Eventing Individual' -> 850\n",
      "Equestrian 'Eventing Individual', 'Eventing Team' -> 851\n",
      "Equestrian 'Jumping Individual' -> 852\n",
      "Equestrian 'Jumping Individual', 'Jumping Team' -> 853\n",
      "Equestrian 'Jumping Team' -> 854\n",
      "Equestrian Dressage (Equestrian) Four-In-Hand Competition, Open (Olympic) -> 855\n",
      "Equestrian Dressage (Equestrian) Hacks and Hunter Combined, Open (Olympic) -> 856\n",
      "Equestrian Dressage (Equestrian) Individual, Men (Olympic) -> 857\n",
      "Equestrian Dressage (Equestrian) Individual, Open (Olympic) -> 858\n",
      "Equestrian Dressage (Equestrian) Team, Men (Olympic) -> 859\n",
      "Equestrian Dressage (Equestrian) Team, Open (Olympic) -> 860\n",
      "Equestrian Driving (Equestrian) Four-In-Hand Competition, Open (Olympic) -> 861\n",
      "Equestrian Eventing (Equestrian) Individual, Men (Olympic) -> 862\n",
      "Equestrian Eventing (Equestrian) Individual, Open (Olympic) -> 863\n",
      "Equestrian Eventing (Equestrian) Team, Men (Olympic) -> 864\n",
      "Equestrian Eventing (Equestrian) Team, Open (Olympic) -> 865\n",
      "Equestrian Jumping (Equestrian) Four-In-Hand Competition, Open (Olympic) -> 866\n",
      "Equestrian Jumping (Equestrian) Hacks and Hunter Combined, Open (Olympic) -> 867\n",
      "Equestrian Jumping (Equestrian) High Jump, Open (Olympic) -> 868\n",
      "Equestrian Jumping (Equestrian) Individual, Men (Olympic) -> 869\n",
      "Equestrian Jumping (Equestrian) Individual, Open (Olympic) -> 870\n",
      "Equestrian Jumping (Equestrian) Long Jump, Open (Olympic) -> 871\n",
      "Equestrian Jumping (Equestrian) Team, Men (Olympic) -> 872\n",
      "Equestrian Jumping (Equestrian) Team, Open (Olympic) -> 873\n",
      "Equestrian Jumping Team -> 874\n",
      "Equestrian Vaulting (Equestrian) Individual, Men (Olympic) -> 875\n",
      "Equestrian Vaulting (Equestrian) Team, Men (Olympic) -> 876\n",
      "Fencing 10,000 metres, Men (Olympic) -> 877\n",
      "Fencing 100 kilometres, Men (Olympic) -> 878\n",
      "Fencing 100 metres Freestyle, Men (Olympic) -> 879\n",
      "Fencing 100 metres, Professionals, Handicap, Men (Olympic (non-medal)) -> 880\n",
      "Fencing 100 metres, Professionals, Men (Olympic (non-medal)) -> 881\n",
      "Fencing 110 metres Hurdles, Professionals, Men (Olympic (non-medal)) -> 882\n",
      "Fencing 12-Hours Race, Men (Olympic) -> 883\n",
      "Fencing 25 kilometres, Men (Olympic) -> 884\n",
      "Fencing 333⅓ metres Time Trial, Men (Olympic) -> 885\n",
      "Fencing 400 metres, Professionals, Handicap, Men (Olympic (non-medal)) -> 886\n",
      "Fencing 400 metres, Professionals, Men (Olympic (non-medal)) -> 887\n",
      "Fencing Doubles, Handicap, Men (Olympic (non-medal)) -> 888\n",
      "Fencing Doubles, Handicap, Mixed (Olympic (non-medal)) -> 889\n",
      "Fencing Doubles, Men (Olympic) -> 890\n",
      "Fencing Dueling Pistol, 30 metres, Men (Olympic) -> 891\n",
      "Fencing Dueling Pistol, 30 metres, Team, Men (Olympic) -> 892\n",
      "Fencing Eights, Men (Olympic) -> 893\n",
      "Fencing Foil, Individual, Boys (Olympic (non-medal)) -> 894\n",
      "Fencing Foil, Individual, Men (Olympic) -> 895\n",
      "Fencing Foil, Individual, Open (Olympic (non-medal)) -> 896\n",
      "Fencing Foil, Individual, Women (Olympic) -> 897\n",
      "Fencing Foil, Masters, Individual, Men (Olympic) -> 898\n",
      "Fencing Foil, Team, Men (Olympic) -> 899\n",
      "Fencing Foil, Team, Women (Olympic) -> 900\n",
      "Fencing Free Pistol, 50 metres, Men (Olympic) -> 901\n",
      "Fencing Free Pistol, 50 metres, Team, Men (Olympic) -> 902\n",
      "Fencing Free Pistol, 50 yards, Men (Olympic) -> 903\n",
      "Fencing Free Pistol, 50 yards, Team, Men (Olympic) -> 904\n",
      "Fencing High Jump, Professionals, Handicap, Men (Olympic (non-medal)) -> 905\n",
      "Fencing High Jump, Professionals, Men (Olympic (non-medal)) -> 906\n",
      "Fencing Hockey, Men (Olympic) -> 907\n",
      "Fencing Individual, Men (Olympic) -> 908\n",
      "Fencing Long Jump, Professionals, Handicap, Men (Olympic (non-medal)) -> 909\n",
      "Fencing Long Jump, Professionals, Men (Olympic (non-medal)) -> 910\n",
      "Fencing Men's Foil Individual -> 911\n",
      "Fencing Men's Foil Individual, Men's Foil Team -> 912\n",
      "Fencing Men's Foil Team -> 913\n",
      "Fencing Men's Sabre Individual -> 914\n",
      "Fencing Men's Sabre Individual, Men's Sabre Team -> 915\n",
      "Fencing Men's Sabre Team -> 916\n",
      "Fencing Men's Épée Individual -> 917\n",
      "Fencing Men's Épée Individual, Men's Épée Team -> 918\n",
      "Fencing Men's Épée Team -> 919\n",
      "Fencing Painting, Graphic Arts, Open (Olympic) -> 920\n",
      "Fencing Rapid-Fire Pistol, 25 metres, Men (Olympic) -> 921\n",
      "Fencing Road Race, Individual, Men (Olympic) -> 922\n",
      "Fencing Sabre, Individual, Men (Olympic) -> 923\n",
      "Fencing Sabre, Individual, Three Hits, Men (Olympic) -> 924\n",
      "Fencing Sabre, Individual, Women (Olympic) -> 925\n",
      "Fencing Sabre, Masters, Individual, Men (Olympic) -> 926\n",
      "Fencing Sabre, Team, Men (Olympic) -> 927\n",
      "Fencing Sabre, Team, Women (Olympic) -> 928\n",
      "Fencing Shot Put, Professionals, Handicap, Men (Olympic (non-medal)) -> 929\n",
      "Fencing Shot Put, Professionals, Men (Olympic (non-medal)) -> 930\n",
      "Fencing Single Sticks, Individual, Men (Olympic) -> 931\n",
      "Fencing Singles, Handicap, Men (Olympic (non-medal)) -> 932\n",
      "Fencing Small-Bore Rifle, 50 and 100 yards, Team, Men (Olympic) -> 933\n",
      "Fencing Small-Bore Rifle, Any Position, 50 metres, Men (Olympic) -> 934\n",
      "Fencing Small-Bore Rifle, Disappearing Target, 25 metres, Men (Olympic) -> 935\n",
      "Fencing Small-Bore Rifle, Disappearing Target, 25 metres, Team, Men (Olympic) -> 936\n",
      "Fencing Small-Bore Rifle, Disappearing Target, 25 yards, Men (Olympic) -> 937\n",
      "Fencing Small-Bore Rifle, Moving Target, 25 yards, Men (Olympic) -> 938\n",
      "Fencing Small-Bore Rifle, Prone, 50 metres, Team, Men (Olympic) -> 939\n",
      "Fencing Team All-Around, Men (Olympic) -> 940\n",
      "Fencing Team, Men (Olympic) -> 941\n",
      "Fencing Trap, Men (Olympic) -> 942\n",
      "Fencing Water Polo, Men (Olympic) -> 943\n",
      "Fencing Women's Foil Individual -> 944\n",
      "Fencing Women's Foil Individual, Women's Foil Team -> 945\n",
      "Fencing Women's Foil Team -> 946\n",
      "Fencing Women's Sabre Individual -> 947\n",
      "Fencing Women's Sabre Individual, Women's Sabre Team -> 948\n",
      "Fencing Women's Sabre Team -> 949\n",
      "Fencing Women's Épée Individual -> 950\n",
      "Fencing Women's Épée Individual, Women's Épée Team -> 951\n",
      "Fencing Women's Épée Team -> 952\n",
      "Fencing Épée, Individual, Men (Olympic) -> 953\n",
      "Fencing Épée, Individual, Women (Olympic) -> 954\n",
      "Fencing Épée, Masters and Amateurs, Individual, Men (Olympic) -> 955\n",
      "Fencing Épée, Masters, Individual, Men (Olympic) -> 956\n",
      "Fencing Épée, Team, Men (Olympic) -> 957\n",
      "Fencing Épée, Team, Women (Olympic) -> 958\n",
      "Figure Skating (Skating) Ice Dancing, Mixed (Olympic (non-medal)) -> 959\n",
      "Figure Skating (Skating) Ice Dancing, Mixed (Olympic) -> 960\n",
      "Figure Skating (Skating) Pairs, Mixed (Olympic) -> 961\n",
      "Figure Skating (Skating) Singles, Men (Olympic) -> 962\n",
      "Figure Skating (Skating) Singles, Women (Olympic) -> 963\n",
      "Figure Skating (Skating) Special Figures, Men (Olympic) -> 964\n",
      "Figure Skating (Skating) Team, Mixed (Olympic) -> 965\n",
      "Football 'Men' -> 966\n",
      "Football 'Women' -> 967\n",
      "Football (Football) 110 metres Hurdles, Men (Olympic) -> 968\n",
      "Football (Football) 120 yards Hurdles, Men (Olympic (non-medal)) -> 969\n",
      "Football (Football) 440 yards, Boys (Olympic (non-medal)) -> 970\n",
      "Football (Football) Foil, Individual, Men (Olympic) -> 971\n",
      "Football (Football) Football, Men (Olympic) -> 972\n",
      "Football (Football) Football, Women (Olympic) -> 973\n",
      "Football (Football) Sprint, Men (Olympic) -> 974\n",
      "Football (Football) Team All-Around, Free System, Men (Olympic) -> 975\n",
      "Football (Football) Water Polo, Men (Olympic) -> 976\n",
      "Freestyle Skiing (Skiing) Aerials, Men (Olympic (non-medal)) -> 977\n",
      "Freestyle Skiing (Skiing) Aerials, Men (Olympic) -> 978\n",
      "Freestyle Skiing (Skiing) Aerials, Women (Olympic (non-medal)) -> 979\n",
      "Freestyle Skiing (Skiing) Aerials, Women (Olympic) -> 980\n",
      "Freestyle Skiing (Skiing) Ballet, Men (Olympic (non-medal)) -> 981\n",
      "Freestyle Skiing (Skiing) Ballet, Women (Olympic (non-medal)) -> 982\n",
      "Freestyle Skiing (Skiing) Big Air, Men (Olympic) -> 983\n",
      "Freestyle Skiing (Skiing) Big Air, Women (Olympic) -> 984\n",
      "Freestyle Skiing (Skiing) Halfpipe, Men (Olympic) -> 985\n",
      "Freestyle Skiing (Skiing) Halfpipe, Women (Olympic) -> 986\n",
      "Freestyle Skiing (Skiing) Moguls, Men (Olympic (non-medal)) -> 987\n",
      "Freestyle Skiing (Skiing) Moguls, Men (Olympic) -> 988\n",
      "Freestyle Skiing (Skiing) Moguls, Women (Olympic (non-medal)) -> 989\n",
      "Freestyle Skiing (Skiing) Moguls, Women (Olympic) -> 990\n",
      "Freestyle Skiing (Skiing) Ski Cross, Men (Olympic) -> 991\n",
      "Freestyle Skiing (Skiing) Ski Cross, Women (Olympic) -> 992\n",
      "Freestyle Skiing (Skiing) Slopestyle, Men (Olympic) -> 993\n",
      "Freestyle Skiing (Skiing) Slopestyle, Women (Olympic) -> 994\n",
      "Freestyle Skiing (Skiing) Team Aerials, Mixed (Olympic) -> 995\n",
      "Glíma Glíma, Men (Olympic (non-medal)) -> 996\n",
      "Golf Doubles, Handicap, Men (Olympic (non-medal)) -> 997\n",
      "Golf Doubles, Handicap, Mixed (Olympic (non-medal)) -> 998\n",
      "Golf Doubles, Men (Olympic (non-medal)) -> 999\n",
      "Golf Doubles, Men (Olympic) -> 1000\n",
      "Golf Doubles, Mixed (Olympic) -> 1001\n",
      "Golf Driving Contest, Men (Olympic (non-medal)) -> 1002\n",
      "Golf Individual, Handicap, Men (Olympic (non-medal)) -> 1003\n",
      "Golf Individual, Men (Olympic (non-medal)) -> 1004\n",
      "Golf Individual, Men (Olympic) -> 1005\n",
      "Golf Individual, Women (Olympic) -> 1006\n",
      "Golf Men's Individual Stroke Play -> 1007\n",
      "Golf Putting Contest, Men (Olympic (non-medal)) -> 1008\n",
      "Golf Singles, Handicap, Men (Olympic (non-medal)) -> 1009\n",
      "Golf Singles, Men (Olympic (non-medal)) -> 1010\n",
      "Golf Singles, Men (Olympic) -> 1011\n",
      "Golf Team, Men (Olympic (non-medal)) -> 1012\n",
      "Golf Team, Men (Olympic) -> 1013\n",
      "Golf Women's Individual Stroke Play -> 1014\n",
      "Handball 'Men' -> 1015\n",
      "Handball 'Women' -> 1016\n",
      "Handball Handball, Men (Olympic) -> 1017\n",
      "Handball Handball, Women (Olympic) -> 1018\n",
      "Hockey 'Men' -> 1019\n",
      "Hockey 'Women' -> 1020\n",
      "Hockey 3,000 metres Steeplechase, Men (Olympic) -> 1021\n",
      "Hockey Doubles, Men (Olympic) -> 1022\n",
      "Hockey Hockey, Men (Olympic) -> 1023\n",
      "Hockey Hockey, Women (Olympic) -> 1024\n",
      "Hockey Singles, Men (Olympic) -> 1025\n",
      "Ice Hockey (Ice Hockey) 1,500 metres, Men (Olympic) -> 1026\n",
      "Ice Hockey (Ice Hockey) 10,000 metres, Men (Olympic) -> 1027\n",
      "Ice Hockey (Ice Hockey) 5,000 metres, Men (Olympic) -> 1028\n",
      "Ice Hockey (Ice Hockey) 50 kilometres, Men (Olympic) -> 1029\n",
      "Ice Hockey (Ice Hockey) 500 metres, Men (Olympic) -> 1030\n",
      "Ice Hockey (Ice Hockey) Allround, Men (Olympic) -> 1031\n",
      "Ice Hockey (Ice Hockey) Football, Men (Olympic) -> 1032\n",
      "Ice Hockey (Ice Hockey) Ice Hockey Exhibition, Men (Olympic (non-medal)) -> 1033\n",
      "Ice Hockey (Ice Hockey) Ice Hockey, Men (Olympic) -> 1034\n",
      "Ice Hockey (Ice Hockey) Ice Hockey, Women (Olympic) -> 1035\n",
      "Ice Hockey (Ice Hockey) Large Hill, Individual, Men (Olympic) -> 1036\n",
      "Ice Hockey (Ice Hockey) Ski Joring, Men (Olympic (non-medal)) -> 1037\n",
      "Jeu De Paume Doubles, Men (Olympic) -> 1038\n",
      "Jeu De Paume Singles, Men (Olympic) -> 1039\n",
      "Judo 'Men +100 kg' -> 1040\n",
      "Judo 'Men +100 kg', 'Mixed Team' -> 1041\n",
      "Judo 'Men -100 kg' -> 1042\n",
      "Judo 'Men -100 kg', 'Mixed Team' -> 1043\n",
      "Judo 'Men -60 kg' -> 1044\n",
      "Judo 'Men -60 kg', 'Mixed Team' -> 1045\n",
      "Judo 'Men -66 kg' -> 1046\n",
      "Judo 'Men -66 kg', 'Mixed Team' -> 1047\n",
      "Judo 'Men -73 kg' -> 1048\n",
      "Judo 'Men -73 kg', 'Mixed Team' -> 1049\n",
      "Judo 'Men -81 kg' -> 1050\n",
      "Judo 'Men -81 kg', 'Mixed Team' -> 1051\n",
      "Judo 'Men -90 kg' -> 1052\n",
      "Judo 'Men -90 kg', 'Mixed Team' -> 1053\n",
      "Judo 'Women +78 kg' -> 1054\n",
      "Judo 'Women +78 kg', 'Mixed Team' -> 1055\n",
      "Judo 'Women -48 kg' -> 1056\n",
      "Judo 'Women -48 kg', 'Mixed Team' -> 1057\n",
      "Judo 'Women -52 kg' -> 1058\n",
      "Judo 'Women -52 kg', 'Mixed Team' -> 1059\n",
      "Judo 'Women -57 kg' -> 1060\n",
      "Judo 'Women -57 kg', 'Mixed Team' -> 1061\n",
      "Judo 'Women -63 kg' -> 1062\n",
      "Judo 'Women -63 kg', 'Mixed Team' -> 1063\n",
      "Judo 'Women -70 kg' -> 1064\n",
      "Judo 'Women -70 kg', 'Mixed Team' -> 1065\n",
      "Judo 'Women -78 kg' -> 1066\n",
      "Judo 'Women -78 kg', 'Mixed Team' -> 1067\n",
      "Judo Extra-Lightweight, Men (Olympic) -> 1068\n",
      "Judo Extra-Lightweight, Women (Olympic (non-medal)) -> 1069\n",
      "Judo Extra-Lightweight, Women (Olympic) -> 1070\n",
      "Judo Half-Heavyweight, Men (Olympic) -> 1071\n",
      "Judo Half-Heavyweight, Women (Olympic (non-medal)) -> 1072\n",
      "Judo Half-Heavyweight, Women (Olympic) -> 1073\n",
      "Judo Half-Lightweight, Men (Olympic) -> 1074\n",
      "Judo Half-Lightweight, Women (Olympic (non-medal)) -> 1075\n",
      "Judo Half-Lightweight, Women (Olympic) -> 1076\n",
      "Judo Half-Middleweight, Men (Olympic) -> 1077\n",
      "Judo Half-Middleweight, Women (Olympic (non-medal)) -> 1078\n",
      "Judo Half-Middleweight, Women (Olympic) -> 1079\n",
      "Judo Heavyweight, Men (Olympic) -> 1080\n",
      "Judo Heavyweight, Women (Olympic (non-medal)) -> 1081\n",
      "Judo Heavyweight, Women (Olympic) -> 1082\n",
      "Judo Lightweight, Men (Olympic) -> 1083\n",
      "Judo Lightweight, Women (Olympic (non-medal)) -> 1084\n",
      "Judo Lightweight, Women (Olympic) -> 1085\n",
      "Judo Middleweight, Men (Olympic) -> 1086\n",
      "Judo Middleweight, Women (Olympic (non-medal)) -> 1087\n",
      "Judo Middleweight, Women (Olympic) -> 1088\n",
      "Judo Open Class, Men (Olympic) -> 1089\n",
      "Judo Team, Mixed (Olympic) -> 1090\n",
      "Karate Kata, Men (Olympic) -> 1091\n",
      "Karate Kata, Women (Olympic) -> 1092\n",
      "Karate Kumite, >61 kg, Women (Olympic) -> 1093\n",
      "Karate Kumite, >75 kg, Men (Olympic) -> 1094\n",
      "Karate Kumite, ≤55 kg, Women (Olympic) -> 1095\n",
      "Karate Kumite, ≤61 kg, Women (Olympic) -> 1096\n",
      "Karate Kumite, ≤67 kg, Men (Olympic) -> 1097\n",
      "Karate Kumite, ≤75 kg, Men (Olympic) -> 1098\n",
      "Lacrosse Lacrosse, Men (Olympic (non-medal)) -> 1099\n",
      "Lacrosse Lacrosse, Men (Olympic) -> 1100\n",
      "Luge Doubles, Open (Olympic) -> 1101\n",
      "Luge Singles, Men (Olympic) -> 1102\n",
      "Luge Singles, Women (Olympic) -> 1103\n",
      "Luge Team Relay, Mixed (Olympic) -> 1104\n",
      "Marathon Swimming (Aquatics) 10 kilometres Open Water, Men (Olympic) -> 1105\n",
      "Marathon Swimming (Aquatics) 10 kilometres Open Water, Women (Olympic) -> 1106\n",
      "Marathon Swimming Men's 10km -> 1107\n",
      "Marathon Swimming Women's 10km -> 1108\n",
      "Marathon Swimming, Swimming Men's 10km, Men's 1500m Freestyle -> 1109\n",
      "Marathon Swimming, Swimming Men's 10km, Men's 1500m Freestyle, Men's 4 x 200m Freestyle Relay, Men's 800m Freestyle -> 1110\n",
      "Marathon Swimming, Swimming Men's 10km, Men's 1500m Freestyle, Men's 400m Freestyle, Men's 800m Freestyle -> 1111\n",
      "Marathon Swimming, Swimming Men's 10km, Men's 1500m Freestyle, Men's 800m Freestyle -> 1112\n",
      "Marathon Swimming, Swimming Men's 10km, Men's 200m Freestyle, Men's 400m Freestyle, Men's 4 x 200m Freestyle Relay, Men's 800m Freestyle -> 1113\n",
      "Marathon Swimming, Swimming Men's 10km, Men's 200m Freestyle, Men's 400m Freestyle, Men's 800m Freestyle -> 1114\n",
      "Marathon Swimming, Swimming Men's 10km, Men's 400m Freestyle -> 1115\n",
      "Marathon Swimming, Swimming Women's 10km, Women's 1500m Freestyle -> 1116\n",
      "Marathon Swimming, Swimming Women's 10km, Women's 1500m Freestyle, Women's 400m Freestyle -> 1117\n",
      "Marathon Swimming, Swimming Women's 10km, Women's 1500m Freestyle, Women's 400m Individual Medley -> 1118\n",
      "Military Ski Patrol (Skiing) 50 kilometres, Men (Olympic) -> 1119\n",
      "Military Ski Patrol (Skiing) Individual, Men (Olympic) -> 1120\n",
      "Military Ski Patrol (Skiing) Large Hill, Individual, Men (Olympic) -> 1121\n",
      "Military Ski Patrol (Skiing) Military Ski Patrol, Men (Olympic (non-medal)) -> 1122\n",
      "Military Ski Patrol (Skiing) Military Ski Patrol, Men (Olympic) -> 1123\n",
      "Modern Pentathlon 200 metres Breaststroke, Men (Olympic) -> 1124\n",
      "Modern Pentathlon 400 metres Breaststroke, Men (Olympic) -> 1125\n",
      "Modern Pentathlon Dueling Pistol, 30 metres, Men (Olympic) -> 1126\n",
      "Modern Pentathlon Dueling Pistol, 30 metres, Team, Men (Olympic) -> 1127\n",
      "Modern Pentathlon Free Pistol, 50 metres, Men (Olympic) -> 1128\n",
      "Modern Pentathlon Free Pistol, 50 metres, Team, Men (Olympic) -> 1129\n",
      "Modern Pentathlon Individual, Men (Olympic) -> 1130\n",
      "Modern Pentathlon Individual, Women (Olympic) -> 1131\n",
      "Modern Pentathlon Men's Individual -> 1132\n",
      "Modern Pentathlon Pole Vault, Men (Olympic) -> 1133\n",
      "Modern Pentathlon Rapid-Fire Pistol, 25 metres, Men (Olympic) -> 1134\n",
      "Modern Pentathlon Sabre, Individual, Men (Olympic) -> 1135\n",
      "Modern Pentathlon Sabre, Team, Men (Olympic) -> 1136\n",
      "Modern Pentathlon Team, Men (Olympic) -> 1137\n",
      "Modern Pentathlon Women's Individual -> 1138\n",
      "Modern Pentathlon Épée, Individual, Men (Olympic) -> 1139\n",
      "Modern Pentathlon Épée, Team, Men (Olympic) -> 1140\n",
      "Motorboating A-Class (Open), Open (Olympic) -> 1141\n",
      "Motorboating B-Class (Under 60 feet), Open (Olympic) -> 1142\n",
      "Motorboating C-Class, Open (Olympic) -> 1143\n",
      "Nordic Combined (Skiing) 18 kilometres, Men (Olympic) -> 1144\n",
      "Nordic Combined (Skiing) 50 kilometres, Men (Olympic) -> 1145\n",
      "Nordic Combined (Skiing) Individual, Men (Olympic) -> 1146\n",
      "Nordic Combined (Skiing) Large Hill / 10 km, Individual, Men (Olympic) -> 1147\n",
      "Nordic Combined (Skiing) Large Hill, Individual, Men (Olympic) -> 1148\n",
      "Nordic Combined (Skiing) Large Hill, Team, Men (Olympic) -> 1149\n",
      "Nordic Combined (Skiing) Military Ski Patrol, Men (Olympic (non-medal)) -> 1150\n",
      "Nordic Combined (Skiing) Normal Hill / 10 km, Individual, Men (Olympic) -> 1151\n",
      "Nordic Combined (Skiing) Normal Hill, Individual, Men (Olympic) -> 1152\n",
      "Nordic Combined (Skiing) Normal Hill, Team, Mixed (Olympic) -> 1153\n",
      "Nordic Combined (Skiing) Sprint, Men (Olympic) -> 1154\n",
      "Nordic Combined (Skiing) Team, Men (Olympic) -> 1155\n",
      "Polo Polo, Men (Olympic (non-medal)) -> 1156\n",
      "Polo Polo, Men (Olympic) -> 1157\n",
      "Racquets Doubles, Men (Olympic) -> 1158\n",
      "Racquets Singles, Men (Olympic) -> 1159\n",
      "Rhythmic Gymnastics 'Group All-Around' -> 1160\n",
      "Rhythmic Gymnastics 'Individual All-Around' -> 1161\n",
      "Rhythmic Gymnastics (Gymnastics) Group, Women (Olympic) -> 1162\n",
      "Rhythmic Gymnastics (Gymnastics) Individual, Women (Olympic) -> 1163\n",
      "Roque Singles, Men (Olympic) -> 1164\n",
      "Rowing Coxed Fours, Inriggers, Men (Olympic) -> 1165\n",
      "Rowing Coxed Fours, Men (Olympic) -> 1166\n",
      "Rowing Coxed Fours, Outriggers, Men (Olympic) -> 1167\n",
      "Rowing Coxed Fours, Women (Olympic) -> 1168\n",
      "Rowing Coxed Pairs, Men (Olympic) -> 1169\n",
      "Rowing Coxed Quadruple Sculls, Women (Olympic) -> 1170\n",
      "Rowing Coxless Fours, Boys (Olympic (non-medal)) -> 1171\n",
      "Rowing Coxless Fours, Intermediate, Men (Olympic (non-medal)) -> 1172\n",
      "Rowing Coxless Fours, Men (Olympic (non-medal)) -> 1173\n",
      "Rowing Coxless Fours, Men (Olympic) -> 1174\n",
      "Rowing Coxless Fours, Women (Olympic) -> 1175\n",
      "Rowing Coxless Pairs, Boys (Olympic (non-medal)) -> 1176\n",
      "Rowing Coxless Pairs, Intermediate, Men (Olympic (non-medal)) -> 1177\n",
      "Rowing Coxless Pairs, Men (Olympic) -> 1178\n",
      "Rowing Coxless Pairs, Women (Olympic) -> 1179\n",
      "Rowing Double Sculls, Intermediate, Men (Olympic (non-medal)) -> 1180\n",
      "Rowing Double Sculls, Men (Olympic) -> 1181\n",
      "Rowing Double Sculls, Women (Olympic) -> 1182\n",
      "Rowing Eights, Boys (Olympic (non-medal)) -> 1183\n",
      "Rowing Eights, Intermediate, Men (Olympic (non-medal)) -> 1184\n",
      "Rowing Eights, Men (Olympic) -> 1185\n",
      "Rowing Eights, Women (Olympic) -> 1186\n",
      "Rowing Lightweight Coxless Fours, Men (Olympic) -> 1187\n",
      "Rowing Lightweight Double Sculls, Men (Olympic) -> 1188\n",
      "Rowing Lightweight Double Sculls, Women (Olympic) -> 1189\n",
      "Rowing Lightweight Men's Double Sculls -> 1190\n",
      "Rowing Lightweight Women's Double Sculls -> 1191\n",
      "Rowing Men's Double Sculls -> 1192\n",
      "Rowing Men's Eight -> 1193\n",
      "Rowing Men's Eight, Men's Four -> 1194\n",
      "Rowing Men's Eight, Men's Pair -> 1195\n",
      "Rowing Men's Four -> 1196\n",
      "Rowing Men's Pair -> 1197\n",
      "Rowing Men's Quadruple Sculls -> 1198\n",
      "Rowing Men's Single Sculls -> 1199\n",
      "Rowing Painting, Graphic Arts, Open (Olympic) -> 1200\n",
      "Rowing Quadruple Sculls, Men (Olympic) -> 1201\n",
      "Rowing Quadruple Sculls, Women (Olympic) -> 1202\n",
      "Rowing Single Sculls, Association, Men (Olympic (non-medal)) -> 1203\n",
      "Rowing Single Sculls, Men (Olympic) -> 1204\n",
      "Rowing Single Sculls, Women (Olympic) -> 1205\n",
      "Rowing Water Polo, Men (Olympic) -> 1206\n",
      "Rowing Women's Double Sculls -> 1207\n",
      "Rowing Women's Eight -> 1208\n",
      "Rowing Women's Eight, Women's Double Sculls -> 1209\n",
      "Rowing Women's Eight, Women's Four -> 1210\n",
      "Rowing Women's Eight, Women's Pair -> 1211\n",
      "Rowing Women's Four -> 1212\n",
      "Rowing Women's Pair -> 1213\n",
      "Rowing Women's Quadruple Sculls -> 1214\n",
      "Rowing Women's Single Sculls -> 1215\n",
      "Rugby (Rugby) 100 metres, Men (Olympic) -> 1216\n",
      "Rugby (Rugby) 200 metres Hurdles, Men (Olympic) -> 1217\n",
      "Rugby (Rugby) 400 metres, Men (Olympic) -> 1218\n",
      "Rugby (Rugby) Discus Throw, Men (Olympic) -> 1219\n",
      "Rugby (Rugby) Rugby, Men (Olympic) -> 1220\n",
      "Rugby (Rugby) Tug-Of-War, Men (Olympic) -> 1221\n",
      "Rugby Sevens 'Men' -> 1222\n",
      "Rugby Sevens 'Women' -> 1223\n",
      "Rugby Sevens (Rugby) Rugby Sevens, Men (Olympic) -> 1224\n",
      "Rugby Sevens (Rugby) Rugby Sevens, Women (Olympic) -> 1225\n",
      "Sailing 'Mixed Dinghy' -> 1226\n",
      "Sailing 'Mixed Multihull' -> 1227\n",
      "Sailing 0-½ Ton, Open (Olympic) -> 1228\n",
      "Sailing 1-2 Ton, Open (Olympic) -> 1229\n",
      "Sailing 10 metres, Open (Olympic) -> 1230\n",
      "Sailing 10-20 Ton, Open (Olympic) -> 1231\n",
      "Sailing 12 foot, Open (Olympic) -> 1232\n",
      "Sailing 12 metres, Open (Olympic) -> 1233\n",
      "Sailing 18 foot, Open (Olympic) -> 1234\n",
      "Sailing 2-3 Ton, Open (Olympic) -> 1235\n",
      "Sailing 20+ Ton, Open (Olympic) -> 1236\n",
      "Sailing 3-10 Ton, Open (Olympic) -> 1237\n",
      "Sailing 30 metres², Open (Olympic) -> 1238\n",
      "Sailing 40 metres², Open (Olympic) -> 1239\n",
      "Sailing 5.5 metres, Open (Olympic) -> 1240\n",
      "Sailing 6 metres, Open (Olympic) -> 1241\n",
      "Sailing 6.5 metres, Open (Olympic) -> 1242\n",
      "Sailing 7 metres, Open (Olympic) -> 1243\n",
      "Sailing 8 metres, Open (Olympic) -> 1244\n",
      "Sailing Doubles, Covered Courts, Men (Olympic) -> 1245\n",
      "Sailing Doubles, Men (Olympic) -> 1246\n",
      "Sailing Doubles, Mixed (Olympic) -> 1247\n",
      "Sailing Men's Dinghy -> 1248\n",
      "Sailing Men's Kite -> 1249\n",
      "Sailing Men's Skiff -> 1250\n",
      "Sailing Men's Windsurfing -> 1251\n",
      "Sailing Multihull, Mixed (Olympic) -> 1252\n",
      "Sailing Multihull, Open (Olympic) -> 1253\n",
      "Sailing One Person Dinghy, Men (Olympic) -> 1254\n",
      "Sailing One Person Dinghy, Open (Olympic) -> 1255\n",
      "Sailing One Person Dinghy, Women (Olympic) -> 1256\n",
      "Sailing One Person Heavyweight Dinghy, Men (Olympic) -> 1257\n",
      "Sailing Open, Open (Olympic) -> 1258\n",
      "Sailing Singles, Covered Courts, Men (Olympic) -> 1259\n",
      "Sailing Singles, Men (Olympic) -> 1260\n",
      "Sailing Skiff, Men (Olympic) -> 1261\n",
      "Sailing Skiff, Open (Olympic) -> 1262\n",
      "Sailing Skiff, Women (Olympic) -> 1263\n",
      "Sailing Three Person Keelboat, Open (Olympic) -> 1264\n",
      "Sailing Three Person Keelboat, Women (Olympic) -> 1265\n",
      "Sailing Two Person Dinghy, Men (Olympic) -> 1266\n",
      "Sailing Two Person Dinghy, Open (Olympic) -> 1267\n",
      "Sailing Two Person Dinghy, Women (Olympic) -> 1268\n",
      "Sailing Two Person Heavyweight Dinghy, Open (Olympic) -> 1269\n",
      "Sailing Two Person Keelboat, Men (Olympic) -> 1270\n",
      "Sailing Two Person Keelboat, Open (Olympic) -> 1271\n",
      "Sailing Windsurfer, Men (Olympic (non-medal)) -> 1272\n",
      "Sailing Windsurfer, Men (Olympic) -> 1273\n",
      "Sailing Windsurfer, Open (Olympic) -> 1274\n",
      "Sailing Windsurfer, Women (Olympic (non-medal)) -> 1275\n",
      "Sailing Windsurfer, Women (Olympic) -> 1276\n",
      "Sailing Women's Dinghy -> 1277\n",
      "Sailing Women's Kite -> 1278\n",
      "Sailing Women's Skiff -> 1279\n",
      "Sailing Women's Windsurfing -> 1280\n",
      "Sailing ½-1 Ton, Open (Olympic) -> 1281\n",
      "Savate Savate, Men (Olympic (non-medal)) -> 1282\n",
      "Shooting '10m Air Pistol Men' -> 1283\n",
      "Shooting '10m Air Pistol Men', '10m Air Pistol Mixed Team' -> 1284\n",
      "Shooting '10m Air Pistol Men', '25m Rapid Fire Pistol Men' -> 1285\n",
      "Shooting '10m Air Pistol Men', '25m Rapid Fire Pistol Men', '10m Air Pistol Mixed Team' -> 1286\n",
      "Shooting '10m Air Pistol Women' -> 1287\n",
      "Shooting '10m Air Pistol Women', '10m Air Pistol Mixed Team' -> 1288\n",
      "Shooting '10m Air Pistol Women', '25m Pistol Women' -> 1289\n",
      "Shooting '10m Air Pistol Women', '25m Pistol Women', '10m Air Pistol Mixed Team' -> 1290\n",
      "Shooting '10m Air Rifle Men' -> 1291\n",
      "Shooting '10m Air Rifle Men', '10m Air Rifle Mixed Team' -> 1292\n",
      "Shooting '10m Air Rifle Men', '50m Rifle 3 Positions Men' -> 1293\n",
      "Shooting '10m Air Rifle Men', '50m Rifle 3 Positions Men', '10m Air Rifle Mixed Team' -> 1294\n",
      "Shooting '10m Air Rifle Women' -> 1295\n",
      "Shooting '10m Air Rifle Women', '10m Air Rifle Mixed Team' -> 1296\n",
      "Shooting '10m Air Rifle Women', '50m Rifle 3 Positions Women' -> 1297\n",
      "Shooting '10m Air Rifle Women', '50m Rifle 3 Positions Women', '10m Air Rifle Mixed Team' -> 1298\n",
      "Shooting '25m Pistol Women' -> 1299\n",
      "Shooting '25m Rapid Fire Pistol Men' -> 1300\n",
      "Shooting '50m Rifle 3 Positions Men' -> 1301\n",
      "Shooting '50m Rifle 3 Positions Women' -> 1302\n",
      "Shooting 'Skeet Men' -> 1303\n",
      "Shooting 'Skeet Men', 'Skeet Mixed Team' -> 1304\n",
      "Shooting 'Skeet Women' -> 1305\n",
      "Shooting 'Skeet Women', 'Skeet Mixed Team' -> 1306\n",
      "Shooting 'Trap Men' -> 1307\n",
      "Shooting 'Trap Women' -> 1308\n",
      "Shooting Air Pistol, 10 metres, Men (Olympic) -> 1309\n",
      "Shooting Air Pistol, 10 metres, Team, Mixed (Olympic) -> 1310\n",
      "Shooting Air Pistol, 10 metres, Women (Olympic) -> 1311\n",
      "Shooting Air Rifle, 10 metres, Men (Olympic) -> 1312\n",
      "Shooting Air Rifle, 10 metres, Team, Mixed (Olympic) -> 1313\n",
      "Shooting Air Rifle, 10 metres, Women (Olympic) -> 1314\n",
      "Shooting Double Trap, Men (Olympic) -> 1315\n",
      "Shooting Double Trap, Women (Olympic) -> 1316\n",
      "Shooting Dueling Pistol, 30 metres, Men (Olympic) -> 1317\n",
      "Shooting Dueling Pistol, 30 metres, Team, Men (Olympic) -> 1318\n",
      "Shooting Free Pistol, 30 metres, Men (Olympic) -> 1319\n",
      "Shooting Free Pistol, 50 metres, Men (Olympic) -> 1320\n",
      "Shooting Free Pistol, 50 metres, Open (Olympic) -> 1321\n",
      "Shooting Free Pistol, 50 metres, Team, Men (Olympic) -> 1322\n",
      "Shooting Free Pistol, 50 yards, Men (Olympic) -> 1323\n",
      "Shooting Free Pistol, 50 yards, Team, Men (Olympic) -> 1324\n",
      "Shooting Free Rifle, 1,000 yards, Men (Olympic) -> 1325\n",
      "Shooting Free Rifle, 400, 600 and 800 metres, Team, Men (Olympic) -> 1326\n",
      "Shooting Free Rifle, Any Position, 300 metres, Men (Olympic) -> 1327\n",
      "Shooting Free Rifle, Kneeling, 300 metres, Men (Olympic) -> 1328\n",
      "Shooting Free Rifle, Prone, 300 metres, Men (Olympic) -> 1329\n",
      "Shooting Free Rifle, Prone, 600 metres, Men (Olympic) -> 1330\n",
      "Shooting Free Rifle, Standing, 300 metres, Men (Olympic) -> 1331\n",
      "Shooting Free Rifle, Three Positions, 300 metres, Men (Olympic) -> 1332\n",
      "Shooting Free Rifle, Three Positions, 300 metres, Open (Olympic) -> 1333\n",
      "Shooting Free Rifle, Three Positions, 300 metres, Team, Men (Olympic) -> 1334\n",
      "Shooting Military Pistol, 25 metres, Men (Olympic) -> 1335\n",
      "Shooting Military Pistol, 30 metres, Men (Olympic) -> 1336\n",
      "Shooting Military Pistol, Team, Men (Olympic) -> 1337\n",
      "Shooting Military Rifle, 200 metres, Men (Olympic) -> 1338\n",
      "Shooting Military Rifle, 200, 400, 500 and 600 metres, Team, Men (Olympic) -> 1339\n",
      "Shooting Military Rifle, 200/500/600/800/900/1,000 yards, Team, Men (Olympic) -> 1340\n",
      "Shooting Military Rifle, Any Position, 600 metres, Men (Olympic) -> 1341\n",
      "Shooting Military Rifle, Prone, 300 and 600 metres, Team, Men (Olympic) -> 1342\n",
      "Shooting Military Rifle, Prone, 300 metres, Men (Olympic) -> 1343\n",
      "Shooting Military Rifle, Prone, 300 metres, Team, Men (Olympic) -> 1344\n",
      "Shooting Military Rifle, Prone, 600 metres, Men (Olympic) -> 1345\n",
      "Shooting Military Rifle, Prone, 600 metres, Team, Men (Olympic) -> 1346\n",
      "Shooting Military Rifle, Standing, 300 metres, Men (Olympic) -> 1347\n",
      "Shooting Military Rifle, Standing, 300 metres, Team, Men (Olympic) -> 1348\n",
      "Shooting Military Rifle, Three Positions, 300 metres, Men (Olympic) -> 1349\n",
      "Shooting Muzzle-Loading Pistol, 25 metres, Men (Olympic) -> 1350\n",
      "Shooting Rapid-Fire Pistol, 25 metres, Men (Olympic) -> 1351\n",
      "Shooting Rapid-Fire Pistol, 25 metres, Open (Olympic) -> 1352\n",
      "Shooting Running Target, 10 metres, Men (Olympic) -> 1353\n",
      "Shooting Running Target, 50 metres, Men (Olympic) -> 1354\n",
      "Shooting Running Target, 50 metres, Open (Olympic) -> 1355\n",
      "Shooting Running Target, Double Shot, Men (Olympic) -> 1356\n",
      "Shooting Running Target, Double Shot, Team, Men (Olympic) -> 1357\n",
      "Shooting Running Target, Single Shot, Men (Olympic) -> 1358\n",
      "Shooting Running Target, Single Shot, Team, Men (Olympic) -> 1359\n",
      "Shooting Running Target, Single and Double Shot, Men (Olympic) -> 1360\n",
      "Shooting Sabre, Individual, Men (Olympic) -> 1361\n",
      "Shooting Sculpturing, Open (Olympic) -> 1362\n",
      "Shooting Skeet, Men (Olympic) -> 1363\n",
      "Shooting Skeet, Open (Olympic) -> 1364\n",
      "Shooting Skeet, Women (Olympic) -> 1365\n",
      "Shooting Smal-Bore Rifle, Standing, 50 metres, Team, Men (Olympic) -> 1366\n",
      "Shooting Small-Bore Rifle, 50 and 100 yards, Team, Men (Olympic) -> 1367\n",
      "Shooting Small-Bore Rifle, Any Position, 50 metres, Men (Olympic) -> 1368\n",
      "Shooting Small-Bore Rifle, Disappearing Target, 25 metres, Men (Olympic) -> 1369\n",
      "Shooting Small-Bore Rifle, Disappearing Target, 25 metres, Team, Men (Olympic) -> 1370\n",
      "Shooting Small-Bore Rifle, Disappearing Target, 25 yards, Men (Olympic) -> 1371\n",
      "Shooting Small-Bore Rifle, Moving Target, 25 yards, Men (Olympic) -> 1372\n",
      "Shooting Small-Bore Rifle, Prone, 50 and 100 yards, Men (Olympic) -> 1373\n",
      "Shooting Small-Bore Rifle, Prone, 50 metres, Men (Olympic) -> 1374\n",
      "Shooting Small-Bore Rifle, Prone, 50 metres, Open (Olympic) -> 1375\n",
      "Shooting Small-Bore Rifle, Prone, 50 metres, Team, Men (Olympic) -> 1376\n",
      "Shooting Small-Bore Rifle, Standing, 50 metres, Men (Olympic) -> 1377\n",
      "Shooting Small-Bore Rifle, Three Positions, 50 metres, Men (Olympic) -> 1378\n",
      "Shooting Small-Bore Rifle, Three Positions, 50 metres, Open (Olympic) -> 1379\n",
      "Shooting Small-Bore Rifle, Three Positions, 50 metres, Women (Olympic) -> 1380\n",
      "Shooting Sporting Pistol, 25 metres, Women (Olympic) -> 1381\n",
      "Shooting Trap, Men (Olympic) -> 1382\n",
      "Shooting Trap, Open (Olympic) -> 1383\n",
      "Shooting Trap, Team, Men (Olympic) -> 1384\n",
      "Shooting Trap, Team, Mixed (Olympic) -> 1385\n",
      "Shooting Trap, Women (Olympic) -> 1386\n",
      "Shooting Unknown Event, Men (Olympic) -> 1387\n",
      "Short Track Speed Skating (Skating) 1,000 metres, Men (Olympic (non-medal)) -> 1388\n",
      "Short Track Speed Skating (Skating) 1,000 metres, Men (Olympic) -> 1389\n",
      "Short Track Speed Skating (Skating) 1,000 metres, Women (Olympic (non-medal)) -> 1390\n",
      "Short Track Speed Skating (Skating) 1,000 metres, Women (Olympic) -> 1391\n",
      "Short Track Speed Skating (Skating) 1,500 metres, Men (Olympic (non-medal)) -> 1392\n",
      "Short Track Speed Skating (Skating) 1,500 metres, Men (Olympic) -> 1393\n",
      "Short Track Speed Skating (Skating) 1,500 metres, Women (Olympic (non-medal)) -> 1394\n",
      "Short Track Speed Skating (Skating) 1,500 metres, Women (Olympic) -> 1395\n",
      "Short Track Speed Skating (Skating) 2,000 metres Relay, Mixed (Olympic) -> 1396\n",
      "Short Track Speed Skating (Skating) 3,000 m, Men (Olympic (non-medal)) -> 1397\n",
      "Short Track Speed Skating (Skating) 3,000 m, Women (Olympic (non-medal)) -> 1398\n",
      "Short Track Speed Skating (Skating) 3,000 metres Relay, Women (Olympic (non-medal)) -> 1399\n",
      "Short Track Speed Skating (Skating) 3,000 metres Relay, Women (Olympic) -> 1400\n",
      "Short Track Speed Skating (Skating) 5,000 metres Relay, Men (Olympic (non-medal)) -> 1401\n",
      "Short Track Speed Skating (Skating) 5,000 metres Relay, Men (Olympic) -> 1402\n",
      "Short Track Speed Skating (Skating) 500 metres, Men (Olympic (non-medal)) -> 1403\n",
      "Short Track Speed Skating (Skating) 500 metres, Men (Olympic) -> 1404\n",
      "Short Track Speed Skating (Skating) 500 metres, Women (Olympic (non-medal)) -> 1405\n",
      "Short Track Speed Skating (Skating) 500 metres, Women (Olympic) -> 1406\n",
      "Skateboarding (Roller Sports) Park, Men (Olympic) -> 1407\n",
      "Skateboarding (Roller Sports) Park, Women (Olympic) -> 1408\n",
      "Skateboarding (Roller Sports) Street, Men (Olympic) -> 1409\n",
      "Skateboarding (Roller Sports) Street, Women (Olympic) -> 1410\n",
      "Skateboarding Men's Park -> 1411\n",
      "Skateboarding Men's Street -> 1412\n",
      "Skateboarding Women's Park -> 1413\n",
      "Skateboarding Women's Street -> 1414\n",
      "Skeleton (Bobsleigh) Skeleton, Men (Olympic) -> 1415\n",
      "Skeleton (Bobsleigh) Skeleton, Women (Olympic) -> 1416\n",
      "Ski Jumping (Skiing) Combined, Men (Olympic) -> 1417\n",
      "Ski Jumping (Skiing) Individual, Men (Olympic) -> 1418\n",
      "Ski Jumping (Skiing) Large Hill, Individual, Men (Olympic) -> 1419\n",
      "Ski Jumping (Skiing) Large Hill, Team, Men (Olympic) -> 1420\n",
      "Ski Jumping (Skiing) Normal Hill, Individual, Men (Olympic) -> 1421\n",
      "Ski Jumping (Skiing) Normal Hill, Individual, Women (Olympic) -> 1422\n",
      "Ski Jumping (Skiing) Normal Hill, Team, Mixed (Olympic) -> 1423\n",
      "Snowboarding (Skiing) Big Air, Men (Olympic) -> 1424\n",
      "Snowboarding (Skiing) Big Air, Women (Olympic) -> 1425\n",
      "Snowboarding (Skiing) Cross, Men (Olympic) -> 1426\n",
      "Snowboarding (Skiing) Cross, Women (Olympic) -> 1427\n",
      "Snowboarding (Skiing) Giant Slalom, Men (Olympic) -> 1428\n",
      "Snowboarding (Skiing) Giant Slalom, Women (Olympic) -> 1429\n",
      "Snowboarding (Skiing) Halfpipe, Men (Olympic) -> 1430\n",
      "Snowboarding (Skiing) Halfpipe, Women (Olympic) -> 1431\n",
      "Snowboarding (Skiing) Parallel Giant Slalom, Men (Olympic) -> 1432\n",
      "Snowboarding (Skiing) Parallel Giant Slalom, Women (Olympic) -> 1433\n",
      "Snowboarding (Skiing) Parallel Slalom, Men (Olympic) -> 1434\n",
      "Snowboarding (Skiing) Parallel Slalom, Women (Olympic) -> 1435\n",
      "Snowboarding (Skiing) Slopestyle, Men (Olympic) -> 1436\n",
      "Snowboarding (Skiing) Slopestyle, Women (Olympic) -> 1437\n",
      "Snowboarding (Skiing) Super G, Women (Olympic) -> 1438\n",
      "Snowboarding (Skiing) Team Cross, Mixed (Olympic) -> 1439\n",
      "Softball (Baseball/Softball) Softball, Women (Olympic) -> 1440\n",
      "Speed Skating (Skating) 1,000 metres, Men (Olympic) -> 1441\n",
      "Speed Skating (Skating) 1,000 metres, Women (Olympic) -> 1442\n",
      "Speed Skating (Skating) 1,500 metres, Men (Olympic) -> 1443\n",
      "Speed Skating (Skating) 1,500 metres, Women (Olympic) -> 1444\n",
      "Speed Skating (Skating) 10,000 metres, Men (Olympic) -> 1445\n",
      "Speed Skating (Skating) 3,000 metres Relay, Women (Olympic) -> 1446\n",
      "Speed Skating (Skating) 3,000 metres, Women (Olympic) -> 1447\n",
      "Speed Skating (Skating) 5,000 metres, Men (Olympic) -> 1448\n",
      "Speed Skating (Skating) 5,000 metres, Women (Olympic) -> 1449\n",
      "Speed Skating (Skating) 500 metres, Men (Olympic) -> 1450\n",
      "Speed Skating (Skating) 500 metres, Women (Olympic) -> 1451\n",
      "Speed Skating (Skating) Allround, Men (Olympic) -> 1452\n",
      "Speed Skating (Skating) Ice Hockey, Men (Olympic) -> 1453\n",
      "Speed Skating (Skating) Mass Start, Men (Olympic) -> 1454\n",
      "Speed Skating (Skating) Mass Start, Women (Olympic) -> 1455\n",
      "Speed Skating (Skating) Team Pursuit (6 laps), Women (Olympic) -> 1456\n",
      "Speed Skating (Skating) Team Pursuit (8 laps), Men (Olympic) -> 1457\n",
      "Speed Skiing (Skiing) Individual, Women (Olympic (non-medal)) -> 1458\n",
      "Sport Climbing Combined, Men (Olympic) -> 1459\n",
      "Sport Climbing Combined, Women (Olympic) -> 1460\n",
      "Sport Climbing Men's Boulder & Lead -> 1461\n",
      "Sport Climbing Men's Speed -> 1462\n",
      "Sport Climbing Women's Boulder & Lead -> 1463\n",
      "Sport Climbing Women's Speed -> 1464\n",
      "Surfing 'Men' -> 1465\n",
      "Surfing 'Women' -> 1466\n",
      "Surfing Shortboard, Men (Olympic) -> 1467\n",
      "Surfing Shortboard, Women (Olympic) -> 1468\n",
      "Swimming 'Relay Only Athlete', 'Mixed 4 x 100m Medley Relay' -> 1469\n",
      "Swimming (Aquatics) 1 mile Freestyle, Men (Olympic) -> 1470\n",
      "Swimming (Aquatics) 1 mile, Handicap, Men (Olympic (non-medal)) -> 1471\n",
      "Swimming (Aquatics) 1,000 metres Freestyle, Men (Olympic) -> 1472\n",
      "Swimming (Aquatics) 1,200 metres Freestyle, Men (Olympic) -> 1473\n",
      "Swimming (Aquatics) 1,500 metres Freestyle, Men (Olympic) -> 1474\n",
      "Swimming (Aquatics) 1,500 metres Freestyle, Women (Olympic) -> 1475\n",
      "Swimming (Aquatics) 10 kilometres Open Water, Men (Olympic) -> 1476\n",
      "Swimming (Aquatics) 10 kilometres Open Water, Women (Olympic) -> 1477\n",
      "Swimming (Aquatics) 100 metres Backstroke, Men (Olympic) -> 1478\n",
      "Swimming (Aquatics) 100 metres Backstroke, Women (Olympic) -> 1479\n",
      "Swimming (Aquatics) 100 metres Breaststroke, Men (Olympic) -> 1480\n",
      "Swimming (Aquatics) 100 metres Breaststroke, Women (Olympic) -> 1481\n",
      "Swimming (Aquatics) 100 metres Butterfly, Men (Olympic) -> 1482\n",
      "Swimming (Aquatics) 100 metres Butterfly, Women (Olympic) -> 1483\n",
      "Swimming (Aquatics) 100 metres Freestyle For Sailors, Men (Olympic) -> 1484\n",
      "Swimming (Aquatics) 100 metres Freestyle, Men (Olympic) -> 1485\n",
      "Swimming (Aquatics) 100 metres Freestyle, Women (Olympic) -> 1486\n",
      "Swimming (Aquatics) 100 yards Backstroke, Men (Olympic) -> 1487\n",
      "Swimming (Aquatics) 100 yards Freestyle, Men (Olympic) -> 1488\n",
      "Swimming (Aquatics) 100 yards, Handicap, Men (Olympic (non-medal)) -> 1489\n",
      "Swimming (Aquatics) 200 metres Backstroke, Men (Olympic) -> 1490\n",
      "Swimming (Aquatics) 200 metres Backstroke, Women (Olympic) -> 1491\n",
      "Swimming (Aquatics) 200 metres Breaststroke, Men (Olympic) -> 1492\n",
      "Swimming (Aquatics) 200 metres Breaststroke, Women (Olympic) -> 1493\n",
      "Swimming (Aquatics) 200 metres Butterfly, Men (Olympic) -> 1494\n",
      "Swimming (Aquatics) 200 metres Butterfly, Women (Olympic) -> 1495\n",
      "Swimming (Aquatics) 200 metres Freestyle, Men (Olympic) -> 1496\n",
      "Swimming (Aquatics) 200 metres Freestyle, Women (Olympic) -> 1497\n",
      "Swimming (Aquatics) 200 metres Individual Medley, Men (Olympic) -> 1498\n",
      "Swimming (Aquatics) 200 metres Individual Medley, Women (Olympic) -> 1499\n",
      "Swimming (Aquatics) 200 metres Obstacle Course, Men (Olympic) -> 1500\n",
      "Swimming (Aquatics) 200 metres Team Swimming, Men (Olympic) -> 1501\n",
      "Swimming (Aquatics) 220 yards Freestyle, Men (Olympic) -> 1502\n",
      "Swimming (Aquatics) 220 yards, Handicap, Men (Olympic (non-medal)) -> 1503\n",
      "Swimming (Aquatics) 300 metres Freestyle, Women (Olympic) -> 1504\n",
      "Swimming (Aquatics) 4 × 100 metres Freestyle Relay, Men (Olympic) -> 1505\n",
      "Swimming (Aquatics) 4 × 100 metres Freestyle Relay, Women (Olympic) -> 1506\n",
      "Swimming (Aquatics) 4 × 100 metres Medley Relay, Men (Olympic) -> 1507\n",
      "Swimming (Aquatics) 4 × 100 metres Medley Relay, Mixed (Olympic) -> 1508\n",
      "Swimming (Aquatics) 4 × 100 metres Medley Relay, Women (Olympic) -> 1509\n",
      "Swimming (Aquatics) 4 × 200 metres Freestyle Relay, Men (Olympic) -> 1510\n",
      "Swimming (Aquatics) 4 × 200 metres Freestyle Relay, Women (Olympic) -> 1511\n",
      "Swimming (Aquatics) 4 × 50 yards Freestyle Relay, Men (Olympic) -> 1512\n",
      "Swimming (Aquatics) 4,000 metres Freestyle, Men (Olympic) -> 1513\n",
      "Swimming (Aquatics) 400 metres Breaststroke, Men (Olympic) -> 1514\n",
      "Swimming (Aquatics) 400 metres Freestyle, Men (Olympic) -> 1515\n",
      "Swimming (Aquatics) 400 metres Freestyle, Women (Olympic) -> 1516\n",
      "Swimming (Aquatics) 400 metres Individual Medley, Men (Olympic) -> 1517\n",
      "Swimming (Aquatics) 400 metres Individual Medley, Women (Olympic) -> 1518\n",
      "Swimming (Aquatics) 440 yards Breaststroke, Men (Olympic) -> 1519\n",
      "Swimming (Aquatics) 440 yards Freestyle, Men (Olympic) -> 1520\n",
      "Swimming (Aquatics) 440 yards, Handicap, Men (Olympic (non-medal)) -> 1521\n",
      "Swimming (Aquatics) 50 metres Freestyle, Men (Olympic) -> 1522\n",
      "Swimming (Aquatics) 50 metres Freestyle, Women (Olympic) -> 1523\n",
      "Swimming (Aquatics) 50 yards Freestyle, Men (Olympic) -> 1524\n",
      "Swimming (Aquatics) 500 metres Freestyle, Men (Olympic) -> 1525\n",
      "Swimming (Aquatics) 800 metres Freestyle, Men (Olympic) -> 1526\n",
      "Swimming (Aquatics) 800 metres Freestyle, Women (Olympic) -> 1527\n",
      "Swimming (Aquatics) 880 yards Freestyle, Men (Olympic) -> 1528\n",
      "Swimming (Aquatics) 880 yards, Handicap, Men (Olympic (non-medal)) -> 1529\n",
      "Swimming (Aquatics) Discus Throw, Men (Olympic) -> 1530\n",
      "Swimming (Aquatics) Football, Men (Olympic) -> 1531\n",
      "Swimming (Aquatics) High Jump, Handicap, Men (Olympic (non-medal)) -> 1532\n",
      "Swimming (Aquatics) High Jump, Men (Olympic (non-medal)) -> 1533\n",
      "Swimming (Aquatics) Plunge For Distance, Men (Olympic) -> 1534\n",
      "Swimming (Aquatics) Pole Vault, Handicap, Men (Olympic (non-medal)) -> 1535\n",
      "Swimming (Aquatics) Pole Vault, Men (Olympic (non-medal)) -> 1536\n",
      "Swimming (Aquatics) Shot Put, Men (Olympic) -> 1537\n",
      "Swimming (Aquatics) Standing High Jump, Men (Olympic) -> 1538\n",
      "Swimming (Aquatics) Underwater Swimming, Men (Olympic) -> 1539\n",
      "Swimming (Aquatics) Water Polo, Men (Olympic) -> 1540\n",
      "Swimming (Aquatics) Water Polo, Women (Olympic (non-medal)) -> 1541\n",
      "Swimming Men's 100m Backstroke -> 1542\n",
      "Swimming Men's 100m Backstroke, 'Mixed 4 x 100m Medley Relay' -> 1543\n",
      "Swimming Men's 100m Backstroke, Men's 100m Breaststroke, Men's 4 x 100m Medley Relay -> 1544\n",
      "Swimming Men's 100m Backstroke, Men's 100m Butterfly, Men's 200m Backstroke, Men's 4 x 100m Freestyle Relay -> 1545\n",
      "Swimming Men's 100m Backstroke, Men's 200m Backstroke -> 1546\n",
      "Swimming Men's 100m Backstroke, Men's 200m Backstroke, 'Mixed 4 x 100m Medley Relay' -> 1547\n",
      "Swimming Men's 100m Backstroke, Men's 200m Backstroke, Men's 200m Individual Medley, Men's 4 x 100m Medley Relay -> 1548\n",
      "Swimming Men's 100m Backstroke, Men's 200m Backstroke, Men's 4 x 100m Freestyle Relay, Men's 4 x 100m Medley Relay -> 1549\n",
      "Swimming Men's 100m Backstroke, Men's 200m Backstroke, Men's 4 x 100m Medley Relay -> 1550\n",
      "Swimming Men's 100m Backstroke, Men's 200m Backstroke, Men's 4 x 100m Medley Relay, 'Mixed 4 x 100m Medley Relay' -> 1551\n",
      "Swimming Men's 100m Backstroke, Men's 200m Individual Medley -> 1552\n",
      "Swimming Men's 100m Backstroke, Men's 4 x 100m Freestyle Relay -> 1553\n",
      "Swimming Men's 100m Backstroke, Men's 4 x 100m Freestyle Relay, Men's 4 x 100m Medley Relay -> 1554\n",
      "Swimming Men's 100m Backstroke, Men's 4 x 100m Medley Relay -> 1555\n",
      "Swimming Men's 100m Backstroke, Men's 4 x 100m Medley Relay, 'Mixed 4 x 100m Medley Relay' -> 1556\n",
      "Swimming Men's 100m Backstroke, Men's 50m Freestyle -> 1557\n",
      "Swimming Men's 100m Breaststroke -> 1558\n",
      "Swimming Men's 100m Breaststroke, 'Mixed 4 x 100m Medley Relay' -> 1559\n",
      "Swimming Men's 100m Breaststroke, Men's 200m Breaststroke -> 1560\n",
      "Swimming Men's 100m Breaststroke, Men's 200m Breaststroke, Men's 4 x 100m Medley Relay -> 1561\n",
      "Swimming Men's 100m Breaststroke, Men's 200m Breaststroke, Men's 4 x 100m Medley Relay, 'Mixed 4 x 100m Medley Relay' -> 1562\n",
      "Swimming Men's 100m Breaststroke, Men's 200m Individual Medley, 'Mixed 4 x 100m Medley Relay' -> 1563\n",
      "Swimming Men's 100m Breaststroke, Men's 4 x 100m Medley Relay -> 1564\n",
      "Swimming Men's 100m Breaststroke, Men's 4 x 100m Medley Relay, 'Mixed 4 x 100m Medley Relay' -> 1565\n",
      "Swimming Men's 100m Breaststroke, Men's 4 x 200m Freestyle Relay -> 1566\n",
      "Swimming Men's 100m Breaststroke, Men's 50m Freestyle -> 1567\n",
      "Swimming Men's 100m Butterfly -> 1568\n",
      "Swimming Men's 100m Butterfly, Men's 100m Breaststroke, Men's 4 x 100m Medley Relay -> 1569\n",
      "Swimming Men's 100m Butterfly, Men's 100m Freestyle -> 1570\n",
      "Swimming Men's 100m Butterfly, Men's 100m Freestyle, Men's 4 x 100m Freestyle Relay, Men's 4 x 100m Medley Relay, Men's 50m Freestyle, 'Mixed 4 x 100m Medley Relay' -> 1571\n",
      "Swimming Men's 100m Butterfly, Men's 100m Freestyle, Men's 4 x 100m Freestyle Relay, Men's 4 x 200m Freestyle Relay -> 1572\n",
      "Swimming Men's 100m Butterfly, Men's 100m Freestyle, Men's 4 x 100m Medley Relay -> 1573\n",
      "Swimming Men's 100m Butterfly, Men's 100m Freestyle, Men's 4 x 100m Medley Relay, Men's 50m Freestyle -> 1574\n",
      "Swimming Men's 100m Butterfly, Men's 100m Freestyle, Men's 50m Freestyle -> 1575\n",
      "Swimming Men's 100m Butterfly, Men's 200m Butterfly -> 1576\n",
      "Swimming Men's 100m Butterfly, Men's 200m Butterfly, Men's 200m Individual Medley -> 1577\n",
      "Swimming Men's 100m Butterfly, Men's 200m Butterfly, Men's 4 x 100m Medley Relay -> 1578\n",
      "Swimming Men's 100m Butterfly, Men's 200m Butterfly, Men's 4 x 100m Medley Relay, 'Mixed 4 x 100m Medley Relay' -> 1579\n",
      "Swimming Men's 100m Butterfly, Men's 200m Freestyle, Men's 4 x 100m Medley Relay, Men's 4 x 200m Freestyle Relay -> 1580\n",
      "Swimming Men's 100m Butterfly, Men's 4 x 100m Freestyle Relay, Men's 4 x 100m Medley Relay -> 1581\n",
      "Swimming Men's 100m Butterfly, Men's 4 x 100m Freestyle Relay, Men's 4 x 100m Medley Relay, Men's 50m Freestyle, 'Mixed 4 x 100m Medley Relay' -> 1582\n",
      "Swimming Men's 100m Butterfly, Men's 4 x 100m Freestyle Relay, Men's 4 x 200m Freestyle Relay, 'Mixed 4 x 100m Medley Relay' -> 1583\n",
      "Swimming Men's 100m Butterfly, Men's 4 x 100m Medley Relay -> 1584\n",
      "Swimming Men's 100m Butterfly, Men's 4 x 100m Medley Relay, 'Mixed 4 x 100m Medley Relay' -> 1585\n",
      "Swimming Men's 100m Butterfly, Men's 4 x 100m Medley Relay, Men's 50m Freestyle -> 1586\n",
      "Swimming Men's 100m Butterfly, Men's 4 x 200m Freestyle Relay -> 1587\n",
      "Swimming Men's 100m Freestyle -> 1588\n",
      "Swimming Men's 100m Freestyle, Men's 200m Freestyle -> 1589\n",
      "Swimming Men's 100m Freestyle, Men's 200m Freestyle, Men's 4 x 100m Freestyle Relay -> 1590\n",
      "Swimming Men's 100m Freestyle, Men's 200m Freestyle, Men's 4 x 100m Freestyle Relay, Men's 4 x 100m Medley Relay, Men's 4 x 200m Freestyle Relay -> 1591\n",
      "Swimming Men's 100m Freestyle, Men's 200m Freestyle, Men's 4 x 100m Freestyle Relay, Men's 4 x 100m Medley Relay, Men's 4 x 200m Freestyle Relay, 'Mixed 4 x 100m Medley Relay' -> 1592\n",
      "Swimming Men's 100m Freestyle, Men's 200m Freestyle, Men's 4 x 100m Freestyle Relay, Men's 4 x 200m Freestyle Relay, Men's 50m Freestyle -> 1593\n",
      "Swimming Men's 100m Freestyle, Men's 200m Freestyle, Men's 4 x 100m Medley Relay, Men's 4 x 200m Freestyle Relay -> 1594\n",
      "Swimming Men's 100m Freestyle, Men's 200m Freestyle, Men's 400m Freestyle, Men's 4 x 200m Freestyle Relay -> 1595\n",
      "Swimming Men's 100m Freestyle, Men's 4 x 100m Freestyle Relay -> 1596\n",
      "Swimming Men's 100m Freestyle, Men's 4 x 100m Freestyle Relay, Men's 4 x 100m Medley Relay -> 1597\n",
      "Swimming Men's 100m Freestyle, Men's 4 x 100m Freestyle Relay, Men's 4 x 100m Medley Relay, 'Mixed 4 x 100m Medley Relay' -> 1598\n",
      "Swimming Men's 100m Freestyle, Men's 4 x 100m Freestyle Relay, Men's 4 x 100m Medley Relay, Men's 4 x 200m Freestyle Relay -> 1599\n",
      "Swimming Men's 100m Freestyle, Men's 4 x 100m Freestyle Relay, Men's 50m Freestyle -> 1600\n",
      "Swimming Men's 100m Freestyle, Men's 50m Freestyle -> 1601\n",
      "Swimming Men's 1500m Freestyle -> 1602\n",
      "Swimming Men's 1500m Freestyle, Men's 200m Butterfly -> 1603\n",
      "Swimming Men's 1500m Freestyle, Men's 4 x 200m Freestyle Relay, Men's 800m Freestyle -> 1604\n",
      "Swimming Men's 1500m Freestyle, Men's 400m Freestyle, Men's 4 x 200m Freestyle Relay, Men's 800m Freestyle -> 1605\n",
      "Swimming Men's 1500m Freestyle, Men's 400m Freestyle, Men's 800m Freestyle -> 1606\n",
      "Swimming Men's 1500m Freestyle, Men's 800m Freestyle -> 1607\n",
      "Swimming Men's 200m Backstroke -> 1608\n",
      "Swimming Men's 200m Backstroke, Men's 200m Freestyle, Men's 400m Freestyle, Men's 4 x 200m Freestyle Relay -> 1609\n",
      "Swimming Men's 200m Breaststroke -> 1610\n",
      "Swimming Men's 200m Breaststroke, 'Mixed 4 x 100m Medley Relay' -> 1611\n",
      "Swimming Men's 200m Butterfly -> 1612\n",
      "Swimming Men's 200m Butterfly, 'Mixed 4 x 100m Medley Relay' -> 1613\n",
      "Swimming Men's 200m Butterfly, Men's 200m Breaststroke, Men's 200m Individual Medley, Men's 400m Individual Medley, Men's 4 x 100m Medley Relay, 'Mixed 4 x 100m Medley Relay' -> 1614\n",
      "Swimming Men's 200m Butterfly, Men's 200m Individual Medley, Men's 400m Individual Medley -> 1615\n",
      "Swimming Men's 200m Butterfly, Men's 4 x 100m Medley Relay -> 1616\n",
      "Swimming Men's 200m Butterfly, Men's 4 x 200m Freestyle Relay -> 1617\n",
      "Swimming Men's 200m Butterfly, Men's 400m Freestyle -> 1618\n",
      "Swimming Men's 200m Freestyle -> 1619\n",
      "Swimming Men's 200m Freestyle, Men's 200m Individual Medley, Men's 4 x 100m Freestyle Relay, Men's 4 x 100m Medley Relay, Men's 4 x 200m Freestyle Relay, 'Mixed 4 x 100m Medley Relay' -> 1620\n",
      "Swimming Men's 200m Freestyle, Men's 200m Individual Medley, Men's 4 x 200m Freestyle Relay -> 1621\n",
      "Swimming Men's 200m Freestyle, Men's 4 x 100m Freestyle Relay, Men's 4 x 200m Freestyle Relay -> 1622\n",
      "Swimming Men's 200m Freestyle, Men's 4 x 200m Freestyle Relay -> 1623\n",
      "Swimming Men's 200m Freestyle, Men's 400m Freestyle, Men's 4 x 100m Medley Relay, Men's 4 x 200m Freestyle Relay -> 1624\n",
      "Swimming Men's 200m Freestyle, Men's 400m Freestyle, Men's 4 x 200m Freestyle Relay -> 1625\n",
      "Swimming Men's 200m Freestyle, Men's 400m Freestyle, Men's 800m Freestyle -> 1626\n",
      "Swimming Men's 200m Individual Medley -> 1627\n",
      "Swimming Men's 200m Individual Medley, Men's 4 x 100m Freestyle Relay, Men's 4 x 100m Medley Relay, 'Mixed 4 x 100m Medley Relay' -> 1628\n",
      "Swimming Men's 200m Individual Medley, Men's 4 x 100m Freestyle Relay, Men's 4 x 200m Freestyle Relay -> 1629\n",
      "Swimming Men's 200m Individual Medley, Men's 4 x 100m Medley Relay, Men's 4 x 200m Freestyle Relay -> 1630\n",
      "Swimming Men's 200m Individual Medley, Men's 400m Individual Medley -> 1631\n",
      "Swimming Men's 200m Individual Medley, Men's 400m Individual Medley, Men's 4 x 200m Freestyle Relay -> 1632\n",
      "Swimming Men's 4 x 100m Freestyle Relay, 'Relay Only Athlete' -> 1633\n",
      "Swimming Men's 4 x 100m Freestyle Relay, 'Relay Only Athlete', 'Mixed 4 x 100m Medley Relay' -> 1634\n",
      "Swimming Men's 4 x 100m Freestyle Relay, Men's 4 x 100m Medley Relay, 'Relay Only Athlete' -> 1635\n",
      "Swimming Men's 4 x 100m Freestyle Relay, Men's 4 x 200m Freestyle Relay, 'Relay Only Athlete' -> 1636\n",
      "Swimming Men's 4 x 100m Freestyle Relay, Men's 50m Freestyle -> 1637\n",
      "Swimming Men's 4 x 100m Medley Relay, 'Relay Only Athlete' -> 1638\n",
      "Swimming Men's 4 x 100m Medley Relay, 'Relay Only Athlete', 'Mixed 4 x 100m Medley Relay' -> 1639\n",
      "Swimming Men's 4 x 100m Medley Relay, Men's 4 x 200m Freestyle Relay, 'Relay Only Athlete' -> 1640\n",
      "Swimming Men's 4 x 100m Medley Relay, Men's 50m Freestyle -> 1641\n",
      "Swimming Men's 4 x 200m Freestyle Relay, 'Relay Only Athlete' -> 1642\n",
      "Swimming Men's 400m Freestyle -> 1643\n",
      "Swimming Men's 400m Freestyle, Men's 4 x 200m Freestyle Relay -> 1644\n",
      "Swimming Men's 400m Freestyle, Men's 4 x 200m Freestyle Relay, Men's 800m Freestyle -> 1645\n",
      "Swimming Men's 400m Freestyle, Men's 400m Individual Medley, Men's 4 x 200m Freestyle Relay, Men's 800m Freestyle -> 1646\n",
      "Swimming Men's 400m Freestyle, Men's 800m Freestyle -> 1647\n",
      "Swimming Men's 400m Individual Medley -> 1648\n",
      "Swimming Men's 50m Freestyle -> 1649\n",
      "Swimming Men's 800m Freestyle -> 1650\n",
      "Swimming Women's 100m Backstroke -> 1651\n",
      "Swimming Women's 100m Backstroke, 'Mixed 4 x 100m Medley Relay' -> 1652\n",
      "Swimming Women's 100m Backstroke, Women's 100m Butterfly -> 1653\n",
      "Swimming Women's 100m Backstroke, Women's 100m Butterfly, Women's 4 x 100m Freestyle Relay, Women's 4 x 100m Medley Relay -> 1654\n",
      "Swimming Women's 100m Backstroke, Women's 100m Freestyle, Women's 4 x 100m Freestyle Relay, Women's 4 x 100m Medley Relay, Women's 50m Freestyle, 'Mixed 4 x 100m Medley Relay' -> 1655\n",
      "Swimming Women's 100m Backstroke, Women's 200m Backstroke -> 1656\n",
      "Swimming Women's 100m Backstroke, Women's 200m Backstroke, Women's 200m Butterfly, Women's 4 x 100m Medley Relay, 'Mixed 4 x 100m Medley Relay' -> 1657\n",
      "Swimming Women's 100m Backstroke, Women's 200m Backstroke, Women's 200m Individual Medley, Women's 4 x 100m Medley Relay, 'Mixed 4 x 100m Medley Relay' -> 1658\n",
      "Swimming Women's 100m Backstroke, Women's 200m Backstroke, Women's 4 x 100m Medley Relay -> 1659\n",
      "Swimming Women's 100m Backstroke, Women's 200m Backstroke, Women's 4 x 100m Medley Relay, 'Mixed 4 x 100m Medley Relay' -> 1660\n",
      "Swimming Women's 100m Backstroke, Women's 4 x 100m Freestyle Relay, Women's 4 x 100m Medley Relay, Women's 50m Freestyle -> 1661\n",
      "Swimming Women's 100m Backstroke, Women's 4 x 100m Medley Relay -> 1662\n",
      "Swimming Women's 100m Backstroke, Women's 4 x 100m Medley Relay, 'Mixed 4 x 100m Medley Relay' -> 1663\n",
      "Swimming Women's 100m Backstroke, Women's 4 x 200m Freestyle Relay -> 1664\n",
      "Swimming Women's 100m Breaststroke -> 1665\n",
      "Swimming Women's 100m Breaststroke, Women's 200m Backstroke, Women's 200m Individual Medley, Women's 400m Individual Medley, Women's 4 x 200m Freestyle Relay, 'Mixed 4 x 100m Medley Relay' -> 1666\n",
      "Swimming Women's 100m Breaststroke, Women's 200m Breaststroke -> 1667\n",
      "Swimming Women's 100m Breaststroke, Women's 200m Breaststroke, Women's 4 x 100m Medley Relay -> 1668\n",
      "Swimming Women's 100m Breaststroke, Women's 4 x 100m Medley Relay -> 1669\n",
      "Swimming Women's 100m Breaststroke, Women's 4 x 100m Medley Relay, 'Mixed 4 x 100m Medley Relay' -> 1670\n",
      "Swimming Women's 100m Butterfly -> 1671\n",
      "Swimming Women's 100m Butterfly, 'Mixed 4 x 100m Medley Relay' -> 1672\n",
      "Swimming Women's 100m Butterfly, Women's 100m Freestyle, Women's 200m Freestyle, Women's 200m Individual Medley -> 1673\n",
      "Swimming Women's 100m Butterfly, Women's 100m Freestyle, Women's 4 x 100m Freestyle Relay, Women's 4 x 100m Medley Relay, 'Mixed 4 x 100m Medley Relay' -> 1674\n",
      "Swimming Women's 100m Butterfly, Women's 100m Freestyle, Women's 4 x 100m Freestyle Relay, Women's 4 x 100m Medley Relay, Women's 50m Freestyle, 'Mixed 4 x 100m Medley Relay' -> 1675\n",
      "Swimming Women's 100m Butterfly, Women's 200m Butterfly -> 1676\n",
      "Swimming Women's 100m Butterfly, Women's 200m Butterfly, Women's 4 x 100m Freestyle Relay, Women's 4 x 100m Medley Relay, Women's 50m Freestyle, 'Mixed 4 x 100m Medley Relay' -> 1677\n",
      "Swimming Women's 100m Butterfly, Women's 200m Butterfly, Women's 4 x 100m Medley Relay -> 1678\n",
      "Swimming Women's 100m Butterfly, Women's 200m Individual Medley, Women's 400m Individual Medley, Women's 4 x 100m Medley Relay -> 1679\n",
      "Swimming Women's 100m Butterfly, Women's 4 x 100m Freestyle Relay, Women's 4 x 100m Medley Relay, 'Mixed 4 x 100m Medley Relay' -> 1680\n",
      "Swimming Women's 100m Butterfly, Women's 4 x 100m Medley Relay -> 1681\n",
      "Swimming Women's 100m Butterfly, Women's 4 x 100m Medley Relay, 'Mixed 4 x 100m Medley Relay' -> 1682\n",
      "Swimming Women's 100m Freestyle -> 1683\n",
      "Swimming Women's 100m Freestyle, Women's 200m Freestyle -> 1684\n",
      "Swimming Women's 100m Freestyle, Women's 200m Freestyle, Women's 4 x 100m Freestyle Relay, Women's 4 x 100m Medley Relay, Women's 4 x 200m Freestyle Relay, 'Mixed 4 x 100m Medley Relay' -> 1685\n",
      "Swimming Women's 100m Freestyle, Women's 200m Freestyle, Women's 4 x 100m Medley Relay -> 1686\n",
      "Swimming Women's 100m Freestyle, Women's 200m Individual Medley, Women's 4 x 100m Freestyle Relay, Women's 4 x 100m Medley Relay, Women's 4 x 200m Freestyle Relay, 'Mixed 4 x 100m Medley Relay' -> 1687\n",
      "Swimming Women's 100m Freestyle, Women's 4 x 100m Freestyle Relay, Women's 4 x 100m Medley Relay, Women's 50m Freestyle -> 1688\n",
      "Swimming Women's 100m Freestyle, Women's 4 x 100m Freestyle Relay, Women's 4 x 100m Medley Relay, Women's 50m Freestyle, 'Mixed 4 x 100m Medley Relay' -> 1689\n",
      "Swimming Women's 100m Freestyle, Women's 4 x 100m Freestyle Relay, Women's 4 x 200m Freestyle Relay, Women's 50m Freestyle -> 1690\n",
      "Swimming Women's 100m Freestyle, Women's 4 x 100m Freestyle Relay, Women's 50m Freestyle -> 1691\n",
      "Swimming Women's 100m Freestyle, Women's 4 x 100m Freestyle Relay, Women's 50m Freestyle, 'Mixed 4 x 100m Medley Relay' -> 1692\n",
      "Swimming Women's 100m Freestyle, Women's 50m Freestyle -> 1693\n",
      "Swimming Women's 1500m Freestyle -> 1694\n",
      "Swimming Women's 1500m Freestyle, Women's 200m Freestyle, Women's 400m Freestyle, Women's 4 x 200m Freestyle Relay, Women's 800m Freestyle -> 1695\n",
      "Swimming Women's 1500m Freestyle, Women's 4 x 100m Medley Relay, Women's 800m Freestyle -> 1696\n",
      "Swimming Women's 1500m Freestyle, Women's 4 x 200m Freestyle Relay, Women's 800m Freestyle -> 1697\n",
      "Swimming Women's 1500m Freestyle, Women's 400m Freestyle, Women's 4 x 200m Freestyle Relay, Women's 800m Freestyle -> 1698\n",
      "Swimming Women's 1500m Freestyle, Women's 400m Individual Medley -> 1699\n",
      "Swimming Women's 1500m Freestyle, Women's 800m Freestyle -> 1700\n",
      "Swimming Women's 200m Backstroke -> 1701\n",
      "Swimming Women's 200m Backstroke, 'Mixed 4 x 100m Medley Relay' -> 1702\n",
      "Swimming Women's 200m Backstroke, Women's 4 x 100m Medley Relay -> 1703\n",
      "Swimming Women's 200m Backstroke, Women's 400m Individual Medley -> 1704\n",
      "Swimming Women's 200m Breaststroke -> 1705\n",
      "Swimming Women's 200m Breaststroke, Women's 200m Individual Medley -> 1706\n",
      "Swimming Women's 200m Breaststroke, Women's 200m Individual Medley, Women's 4 x 100m Freestyle Relay, Women's 4 x 100m Medley Relay -> 1707\n",
      "Swimming Women's 200m Breaststroke, Women's 200m Individual Medley, Women's 400m Individual Medley, Women's 4 x 100m Medley Relay -> 1708\n",
      "Swimming Women's 200m Breaststroke, Women's 4 x 100m Medley Relay -> 1709\n",
      "Swimming Women's 200m Butterfly -> 1710\n",
      "Swimming Women's 200m Butterfly, Women's 200m Individual Medley, Women's 400m Freestyle, Women's 400m Individual Medley, Women's 4 x 100m Freestyle Relay, Women's 4 x 100m Medley Relay, Women's 4 x 200m Freestyle Relay -> 1711\n",
      "Swimming Women's 200m Butterfly, Women's 4 x 100m Medley Relay, Women's 4 x 200m Freestyle Relay -> 1712\n",
      "Swimming Women's 200m Butterfly, Women's 4 x 200m Freestyle Relay -> 1713\n",
      "Swimming Women's 200m Butterfly, Women's 400m Individual Medley -> 1714\n",
      "Swimming Women's 200m Freestyle -> 1715\n",
      "Swimming Women's 200m Freestyle, Women's 200m Individual Medley, Women's 4 x 200m Freestyle Relay -> 1716\n",
      "Swimming Women's 200m Freestyle, Women's 4 x 100m Freestyle Relay, Women's 4 x 100m Medley Relay, Women's 4 x 200m Freestyle Relay -> 1717\n",
      "Swimming Women's 200m Freestyle, Women's 4 x 100m Freestyle Relay, Women's 4 x 200m Freestyle Relay -> 1718\n",
      "Swimming Women's 200m Freestyle, Women's 4 x 200m Freestyle Relay -> 1719\n",
      "Swimming Women's 200m Freestyle, Women's 400m Freestyle -> 1720\n",
      "Swimming Women's 200m Freestyle, Women's 400m Freestyle, Women's 4 x 200m Freestyle Relay, Women's 800m Freestyle -> 1721\n",
      "Swimming Women's 200m Individual Medley -> 1722\n",
      "Swimming Women's 200m Individual Medley, Women's 4 x 100m Freestyle Relay, Women's 4 x 100m Medley Relay -> 1723\n",
      "Swimming Women's 200m Individual Medley, Women's 4 x 200m Freestyle Relay -> 1724\n",
      "Swimming Women's 200m Individual Medley, Women's 400m Individual Medley -> 1725\n",
      "Swimming Women's 200m Individual Medley, Women's 400m Individual Medley, Women's 4 x 200m Freestyle Relay -> 1726\n",
      "Swimming Women's 4 x 100m Freestyle Relay, 'Relay Only Athlete' -> 1727\n",
      "Swimming Women's 4 x 100m Freestyle Relay, 'Relay Only Athlete', 'Mixed 4 x 100m Medley Relay' -> 1728\n",
      "Swimming Women's 4 x 100m Freestyle Relay, Women's 4 x 100m Medley Relay, 'Relay Only Athlete' -> 1729\n",
      "Swimming Women's 4 x 100m Freestyle Relay, Women's 4 x 100m Medley Relay, Women's 4 x 200m Freestyle Relay, 'Relay Only Athlete' -> 1730\n",
      "Swimming Women's 4 x 100m Freestyle Relay, Women's 4 x 100m Medley Relay, Women's 4 x 200m Freestyle Relay, 'Relay Only Athlete', 'Mixed 4 x 100m Medley Relay' -> 1731\n",
      "Swimming Women's 4 x 100m Freestyle Relay, Women's 4 x 100m Medley Relay, Women's 50m Freestyle -> 1732\n",
      "Swimming Women's 4 x 100m Freestyle Relay, Women's 4 x 200m Freestyle Relay, 'Relay Only Athlete' -> 1733\n",
      "Swimming Women's 4 x 100m Freestyle Relay, Women's 4 x 200m Freestyle Relay, 'Relay Only Athlete', 'Mixed 4 x 100m Medley Relay' -> 1734\n",
      "Swimming Women's 4 x 100m Freestyle Relay, Women's 4 x 200m Freestyle Relay, Women's 50m Freestyle -> 1735\n",
      "Swimming Women's 4 x 100m Freestyle Relay, Women's 50m Freestyle -> 1736\n",
      "Swimming Women's 4 x 100m Freestyle Relay, Women's 50m Freestyle, 'Mixed 4 x 100m Medley Relay' -> 1737\n",
      "Swimming Women's 4 x 100m Medley Relay, 'Relay Only Athlete' -> 1738\n",
      "Swimming Women's 4 x 100m Medley Relay, 'Relay Only Athlete', 'Mixed 4 x 100m Medley Relay' -> 1739\n",
      "Swimming Women's 4 x 100m Medley Relay, Women's 4 x 200m Freestyle Relay, 'Relay Only Athlete' -> 1740\n",
      "Swimming Women's 4 x 200m Freestyle Relay, 'Relay Only Athlete' -> 1741\n",
      "Swimming Women's 400m Freestyle -> 1742\n",
      "Swimming Women's 400m Freestyle, Women's 4 x 200m Freestyle Relay -> 1743\n",
      "Swimming Women's 400m Freestyle, Women's 4 x 200m Freestyle Relay, 'Mixed 4 x 100m Medley Relay' -> 1744\n",
      "Swimming Women's 400m Freestyle, Women's 4 x 200m Freestyle Relay, Women's 800m Freestyle -> 1745\n",
      "Swimming Women's 400m Freestyle, Women's 800m Freestyle -> 1746\n",
      "Swimming Women's 400m Individual Medley -> 1747\n",
      "Swimming Women's 400m Individual Medley, Women's 4 x 200m Freestyle Relay -> 1748\n",
      "Swimming Women's 50m Freestyle -> 1749\n",
      "Swimming Women's 50m Freestyle, 'Mixed 4 x 100m Medley Relay' -> 1750\n",
      "Swimming Women's 800m Freestyle -> 1751\n",
      "Table Tennis 'Mixed Doubles' -> 1752\n",
      "Table Tennis Doubles, Men (Olympic) -> 1753\n",
      "Table Tennis Doubles, Mixed (Olympic) -> 1754\n",
      "Table Tennis Doubles, Women (Olympic) -> 1755\n",
      "Table Tennis Men's Singles -> 1756\n",
      "Table Tennis Men's Singles, 'Mixed Doubles' -> 1757\n",
      "Table Tennis Men's Singles, Men's Team -> 1758\n",
      "Table Tennis Men's Singles, Men's Team, 'Mixed Doubles' -> 1759\n",
      "Table Tennis Men's Team -> 1760\n",
      "Table Tennis Men's Team, 'Mixed Doubles' -> 1761\n",
      "Table Tennis Singles, Men (Olympic) -> 1762\n",
      "Table Tennis Singles, Women (Olympic) -> 1763\n",
      "Table Tennis Team, Men (Olympic) -> 1764\n",
      "Table Tennis Team, Women (Olympic) -> 1765\n",
      "Table Tennis Women's Singles -> 1766\n",
      "Table Tennis Women's Singles, 'Mixed Doubles' -> 1767\n",
      "Table Tennis Women's Singles, Women's Team -> 1768\n",
      "Table Tennis Women's Singles, Women's Team, 'Mixed Doubles' -> 1769\n",
      "Table Tennis Women's Team -> 1770\n",
      "Table Tennis Women's Team, 'Mixed Doubles' -> 1771\n",
      "Taekwondo 'Men +80kg' -> 1772\n",
      "Taekwondo 'Men -58kg' -> 1773\n",
      "Taekwondo 'Men -68kg' -> 1774\n",
      "Taekwondo 'Men -80kg' -> 1775\n",
      "Taekwondo 'Women +67kg' -> 1776\n",
      "Taekwondo 'Women -49kg' -> 1777\n",
      "Taekwondo 'Women -57kg' -> 1778\n",
      "Taekwondo 'Women -67kg' -> 1779\n",
      "Taekwondo Bantamweight, Men (Olympic (non-medal)) -> 1780\n",
      "Taekwondo Featherweight, Men (Olympic) -> 1781\n",
      "Taekwondo Featherweight, Women (Olympic) -> 1782\n",
      "Taekwondo Finweight, Men (Olympic (non-medal)) -> 1783\n",
      "Taekwondo Flyweight, Men (Olympic) -> 1784\n",
      "Taekwondo Flyweight, Women (Olympic) -> 1785\n",
      "Taekwondo Heavyweight, Men (Olympic) -> 1786\n",
      "Taekwondo Heavyweight, Women (Olympic (non-medal)) -> 1787\n",
      "Taekwondo Heavyweight, Women (Olympic) -> 1788\n",
      "Taekwondo Lightweight, Women (Olympic (non-medal)) -> 1789\n",
      "Taekwondo Middleweight, Women (Olympic (non-medal)) -> 1790\n",
      "Taekwondo Welterweight, Men (Olympic) -> 1791\n",
      "Taekwondo Welterweight, Women (Olympic (non-medal)) -> 1792\n",
      "Taekwondo Welterweight, Women (Olympic) -> 1793\n",
      "Tennis 'Mixed Doubles' -> 1794\n",
      "Tennis 1,200 metres Freestyle, Men (Olympic) -> 1795\n",
      "Tennis 100 metres Freestyle, Men (Olympic) -> 1796\n",
      "Tennis 500 metres Freestyle, Men (Olympic) -> 1797\n",
      "Tennis Doubles, Covered Courts, Men (Olympic) -> 1798\n",
      "Tennis Doubles, Covered Courts, Mixed (Olympic) -> 1799\n",
      "Tennis Doubles, Handicap, Men (Olympic (non-medal)) -> 1800\n",
      "Tennis Doubles, Handicap, Mixed (Olympic (non-medal)) -> 1801\n",
      "Tennis Doubles, Men (Olympic (non-medal)) -> 1802\n",
      "Tennis Doubles, Men (Olympic) -> 1803\n",
      "Tennis Doubles, Mixed (Olympic) -> 1804\n",
      "Tennis Doubles, Women (Olympic) -> 1805\n",
      "Tennis Individual, Men (Olympic) -> 1806\n",
      "Tennis Long Jump, Handicap, Men (Olympic (non-medal)) -> 1807\n",
      "Tennis Long Jump, Men (Olympic (non-medal)) -> 1808\n",
      "Tennis Long Jump, Men (Olympic) -> 1809\n",
      "Tennis Men's Doubles -> 1810\n",
      "Tennis Men's Doubles, 'Mixed Doubles' -> 1811\n",
      "Tennis Men's Doubles, Men's Singles -> 1812\n",
      "Tennis Men's Doubles, Men's Singles, 'Mixed Doubles' -> 1813\n",
      "Tennis Men's Singles -> 1814\n",
      "Tennis Men's Singles, 'Mixed Doubles' -> 1815\n",
      "Tennis Pole Vault, Men (Olympic) -> 1816\n",
      "Tennis Polo, Men (Olympic (non-medal)) -> 1817\n",
      "Tennis Shot Put, Men (Olympic) -> 1818\n",
      "Tennis Singles, Covered Courts, Men (Olympic) -> 1819\n",
      "Tennis Singles, Covered Courts, Women (Olympic) -> 1820\n",
      "Tennis Singles, Handicap, Men (Olympic (non-medal)) -> 1821\n",
      "Tennis Singles, Handicap, Women (Olympic (non-medal)) -> 1822\n",
      "Tennis Singles, Men (Olympic (non-medal)) -> 1823\n",
      "Tennis Singles, Men (Olympic) -> 1824\n",
      "Tennis Singles, Women (Olympic (non-medal)) -> 1825\n",
      "Tennis Singles, Women (Olympic) -> 1826\n",
      "Tennis Unlimited Class, Greco-Roman, Men (Olympic) -> 1827\n",
      "Tennis Unlimited, Two Hands, Men (Olympic) -> 1828\n",
      "Tennis Women's Doubles -> 1829\n",
      "Tennis Women's Doubles, 'Mixed Doubles' -> 1830\n",
      "Tennis Women's Doubles, Women's Singles -> 1831\n",
      "Tennis Women's Doubles, Women's Singles, 'Mixed Doubles' -> 1832\n",
      "Tennis Women's Singles -> 1833\n",
      "Tennis Women's Singles, 'Mixed Doubles' -> 1834\n",
      "Trampoline Gymnastics 'Men' -> 1835\n",
      "Trampoline Gymnastics 'Women' -> 1836\n",
      "Trampolining (Gymnastics) Individual, Men (Olympic) -> 1837\n",
      "Trampolining (Gymnastics) Individual, Women (Olympic) -> 1838\n",
      "Triathlon 'Mixed Relay' -> 1839\n",
      "Triathlon 10,000 metres, Women (Olympic) -> 1840\n",
      "Triathlon Men's Individual -> 1841\n",
      "Triathlon Olympic Distance, Men (Olympic) -> 1842\n",
      "Triathlon Olympic Distance, Women (Olympic) -> 1843\n",
      "Triathlon Relay, Mixed (Olympic) -> 1844\n",
      "Triathlon Women's Individual -> 1845\n",
      "Tug-Of-War 56-pound Weight Throw, Men (Olympic) -> 1846\n",
      "Tug-Of-War All-Around Dumbbell Contest, Men (Olympic) -> 1847\n",
      "Tug-Of-War Heavyweight, Freestyle, Men (Olympic) -> 1848\n",
      "Tug-Of-War Heavyweight, Greco-Roman, Men (Olympic) -> 1849\n",
      "Tug-Of-War Lightweight, Freestyle, Men (Olympic) -> 1850\n",
      "Tug-Of-War Shot Put, Handicap, Men (Olympic (non-medal)) -> 1851\n",
      "Tug-Of-War Tug-Of-War, Men (Olympic) -> 1852\n",
      "Tug-Of-War Unlimited, Two Hands, Men (Olympic) -> 1853\n",
      "Volleyball 'Men' -> 1854\n",
      "Volleyball 'Women' -> 1855\n",
      "Volleyball (Volleyball) Volleyball, Men (Olympic) -> 1856\n",
      "Volleyball (Volleyball) Volleyball, Women (Olympic) -> 1857\n",
      "Water Polo 'Men' -> 1858\n",
      "Water Polo 'Women' -> 1859\n",
      "Water Polo (Aquatics) 1 mile, Handicap, Men (Olympic (non-medal)) -> 1860\n",
      "Water Polo (Aquatics) 1,000 metres Freestyle, Men (Olympic) -> 1861\n",
      "Water Polo (Aquatics) 1,500 metres Freestyle, Men (Olympic) -> 1862\n",
      "Water Polo (Aquatics) 100 metres Backstroke, Men (Olympic) -> 1863\n",
      "Water Polo (Aquatics) 100 metres Freestyle, Men (Olympic) -> 1864\n",
      "Water Polo (Aquatics) 200 metres Backstroke, Men (Olympic) -> 1865\n",
      "Water Polo (Aquatics) 200 metres Breaststroke, Men (Olympic) -> 1866\n",
      "Water Polo (Aquatics) 200 metres Freestyle, Men (Olympic) -> 1867\n",
      "Water Polo (Aquatics) 200 metres Obstacle Course, Men (Olympic) -> 1868\n",
      "Water Polo (Aquatics) 200 metres Team Swimming, Men (Olympic) -> 1869\n",
      "Water Polo (Aquatics) 220 yards, Handicap, Men (Olympic (non-medal)) -> 1870\n",
      "Water Polo (Aquatics) 4 × 200 metres Freestyle Relay, Men (Olympic) -> 1871\n",
      "Water Polo (Aquatics) 4,000 metres Freestyle, Men (Olympic) -> 1872\n",
      "Water Polo (Aquatics) 400 metres Freestyle, Men (Olympic) -> 1873\n",
      "Water Polo (Aquatics) Plunge For Distance, Men (Olympic) -> 1874\n",
      "Water Polo (Aquatics) Water Polo, Men (Olympic) -> 1875\n",
      "Water Polo (Aquatics) Water Polo, Women (Olympic (non-medal)) -> 1876\n",
      "Water Polo (Aquatics) Water Polo, Women (Olympic) -> 1877\n",
      "Weightlifting 4 × 100 metres Relay, Men (Olympic) -> 1878\n",
      "Weightlifting All-Around Dumbbell Contest, Men (Olympic) -> 1879\n",
      "Weightlifting Bantamweight, Men (Olympic) -> 1880\n",
      "Weightlifting Featherweight, Men (Olympic) -> 1881\n",
      "Weightlifting Featherweight, Women (Olympic) -> 1882\n",
      "Weightlifting Flyweight, Men (Olympic) -> 1883\n",
      "Weightlifting Flyweight, Women (Olympic) -> 1884\n",
      "Weightlifting Heavyweight I, Men (Olympic) -> 1885\n",
      "Weightlifting Heavyweight II, Men (Olympic) -> 1886\n",
      "Weightlifting Heavyweight, Men (Olympic) -> 1887\n",
      "Weightlifting Heavyweight, Women (Olympic) -> 1888\n",
      "Weightlifting Light-Heavyweight, Freestyle, Men (Olympic) -> 1889\n",
      "Weightlifting Light-Heavyweight, Men (Olympic) -> 1890\n",
      "Weightlifting Light-Heavyweight, Women (Olympic) -> 1891\n",
      "Weightlifting Lightweight, Men (Olympic) -> 1892\n",
      "Weightlifting Lightweight, Women (Olympic) -> 1893\n",
      "Weightlifting Men's +102kg -> 1894\n",
      "Weightlifting Men's 102kg -> 1895\n",
      "Weightlifting Men's 61kg -> 1896\n",
      "Weightlifting Men's 73kg -> 1897\n",
      "Weightlifting Men's 89kg -> 1898\n",
      "Weightlifting Middle-Heavyweight, Men (Olympic) -> 1899\n",
      "Weightlifting Middleweight, Men (Olympic) -> 1900\n",
      "Weightlifting Middleweight, Women (Olympic) -> 1901\n",
      "Weightlifting Super-Heavyweight, Men (Olympic) -> 1902\n",
      "Weightlifting Super-Heavyweight, Women (Olympic) -> 1903\n",
      "Weightlifting Unlimited, One Hand, Men (Olympic) -> 1904\n",
      "Weightlifting Unlimited, Two Hands, Men (Olympic) -> 1905\n",
      "Weightlifting Women's +81kg -> 1906\n",
      "Weightlifting Women's 49kg -> 1907\n",
      "Weightlifting Women's 59kg -> 1908\n",
      "Weightlifting Women's 71kg -> 1909\n",
      "Weightlifting Women's 81kg -> 1910\n",
      "Winter Pentathlon Winter Pentathlon, Men (Olympic (non-medal)) -> 1911\n",
      "Wrestling 880 yards, Handicap, Men (Olympic (non-medal)) -> 1912\n",
      "Wrestling Bantamweight, Freestyle, Men (Olympic) -> 1913\n",
      "Wrestling Bantamweight, Greco-Roman, Men (Olympic) -> 1914\n",
      "Wrestling Discus Throw, Men (Olympic) -> 1915\n",
      "Wrestling Double Sculls, Intermediate, Men (Olympic (non-medal)) -> 1916\n",
      "Wrestling Featherweight, Freestyle, Men (Olympic) -> 1917\n",
      "Wrestling Featherweight, Freestyle, Women (Olympic) -> 1918\n",
      "Wrestling Featherweight, Greco-Roman, Men (Olympic) -> 1919\n",
      "Wrestling Flyweight, Freestyle, Men (Olympic) -> 1920\n",
      "Wrestling Flyweight, Freestyle, Women (Olympic) -> 1921\n",
      "Wrestling Flyweight, Greco-Roman, Men (Olympic) -> 1922\n",
      "Wrestling Glíma, Men (Olympic (non-medal)) -> 1923\n",
      "Wrestling Heavyweight, Freestyle, Men (Olympic) -> 1924\n",
      "Wrestling Heavyweight, Freestyle, Women (Olympic) -> 1925\n",
      "Wrestling Heavyweight, Greco-Roman, Men (Olympic) -> 1926\n",
      "Wrestling Light-Flyweight, Freestyle, Men (Olympic) -> 1927\n",
      "Wrestling Light-Flyweight, Greco-Roman, Men (Olympic) -> 1928\n",
      "Wrestling Light-Heavyweight, Freestyle, Men (Olympic) -> 1929\n",
      "Wrestling Light-Heavyweight, Freestyle, Women (Olympic) -> 1930\n",
      "Wrestling Light-Heavyweight, Greco-Roman, Men (Olympic) -> 1931\n",
      "Wrestling Lightweight, Freestyle, Men (Olympic) -> 1932\n",
      "Wrestling Lightweight, Freestyle, Women (Olympic) -> 1933\n",
      "Wrestling Lightweight, Greco-Roman, Men (Olympic) -> 1934\n",
      "Wrestling Men's Freestyle 125kg -> 1935\n",
      "Wrestling Men's Freestyle 57kg -> 1936\n",
      "Wrestling Men's Freestyle 65kg -> 1937\n",
      "Wrestling Men's Freestyle 74kg -> 1938\n",
      "Wrestling Men's Freestyle 86kg -> 1939\n",
      "Wrestling Men's Freestyle 97kg -> 1940\n",
      "Wrestling Men's Greco-Roman 130kg -> 1941\n",
      "Wrestling Men's Greco-Roman 60kg -> 1942\n",
      "Wrestling Men's Greco-Roman 67kg -> 1943\n",
      "Wrestling Men's Greco-Roman 77kg -> 1944\n",
      "Wrestling Men's Greco-Roman 87kg -> 1945\n",
      "Wrestling Men's Greco-Roman 97kg -> 1946\n",
      "Wrestling Middleweight A, Greco-Roman, Men (Olympic) -> 1947\n",
      "Wrestling Middleweight B, Greco-Roman, Men (Olympic) -> 1948\n",
      "Wrestling Middleweight, Freestyle, Men (Olympic) -> 1949\n",
      "Wrestling Middleweight, Freestyle, Women (Olympic) -> 1950\n",
      "Wrestling Middleweight, Greco-Roman, Men (Olympic) -> 1951\n",
      "Wrestling Shot Put, Handicap, Men (Olympic (non-medal)) -> 1952\n",
      "Wrestling Shot Put, Men (Olympic) -> 1953\n",
      "Wrestling Super-Heavyweight, Freestyle, Men (Olympic) -> 1954\n",
      "Wrestling Super-Heavyweight, Greco-Roman, Men (Olympic) -> 1955\n",
      "Wrestling Unlimited Class, Greco-Roman, Men (Olympic) -> 1956\n",
      "Wrestling Welterweight, Freestyle, Men (Olympic) -> 1957\n",
      "Wrestling Welterweight, Greco-Roman, Men (Olympic) -> 1958\n",
      "Wrestling Women's Freestyle 50kg -> 1959\n",
      "Wrestling Women's Freestyle 53kg -> 1960\n",
      "Wrestling Women's Freestyle 57kg -> 1961\n",
      "Wrestling Women's Freestyle 62kg -> 1962\n",
      "Wrestling Women's Freestyle 68kg -> 1963\n",
      "Wrestling Women's Freestyle 76kg -> 1964\n",
      "\n",
      "\n",
      "Mapping for Medal:\n",
      "Bronze -> 0\n",
      "Gold -> 1\n",
      "Silver -> 2\n",
      "nan -> 3\n",
      "\n",
      "\n"
     ]
    },
    {
     "data": {
      "text/html": [
       "<div>\n",
       "<style scoped>\n",
       "    .dataframe tbody tr th:only-of-type {\n",
       "        vertical-align: middle;\n",
       "    }\n",
       "\n",
       "    .dataframe tbody tr th {\n",
       "        vertical-align: top;\n",
       "    }\n",
       "\n",
       "    .dataframe thead th {\n",
       "        text-align: right;\n",
       "    }\n",
       "</style>\n",
       "<table border=\"1\" class=\"dataframe\">\n",
       "  <thead>\n",
       "    <tr style=\"text-align: right;\">\n",
       "      <th></th>\n",
       "      <th>Gender</th>\n",
       "      <th>Age</th>\n",
       "      <th>Height</th>\n",
       "      <th>Weight</th>\n",
       "      <th>NOC</th>\n",
       "      <th>Year</th>\n",
       "      <th>Season</th>\n",
       "      <th>Host_City</th>\n",
       "      <th>Events</th>\n",
       "      <th>Medal</th>\n",
       "    </tr>\n",
       "  </thead>\n",
       "  <tbody>\n",
       "    <tr>\n",
       "      <th>0</th>\n",
       "      <td>1</td>\n",
       "      <td>20.0</td>\n",
       "      <td>NaN</td>\n",
       "      <td>NaN</td>\n",
       "      <td>81</td>\n",
       "      <td>1896.0</td>\n",
       "      <td>0</td>\n",
       "      <td>3</td>\n",
       "      <td>362</td>\n",
       "      <td>3</td>\n",
       "    </tr>\n",
       "    <tr>\n",
       "      <th>1</th>\n",
       "      <td>1</td>\n",
       "      <td>30.0</td>\n",
       "      <td>NaN</td>\n",
       "      <td>NaN</td>\n",
       "      <td>56</td>\n",
       "      <td>1896.0</td>\n",
       "      <td>0</td>\n",
       "      <td>3</td>\n",
       "      <td>246</td>\n",
       "      <td>3</td>\n",
       "    </tr>\n",
       "    <tr>\n",
       "      <th>2</th>\n",
       "      <td>1</td>\n",
       "      <td>24.0</td>\n",
       "      <td>NaN</td>\n",
       "      <td>NaN</td>\n",
       "      <td>14</td>\n",
       "      <td>1896.0</td>\n",
       "      <td>0</td>\n",
       "      <td>3</td>\n",
       "      <td>883</td>\n",
       "      <td>1</td>\n",
       "    </tr>\n",
       "  </tbody>\n",
       "</table>\n",
       "</div>"
      ],
      "text/plain": [
       "   Gender   Age  Height  Weight  NOC    Year  Season  Host_City  Events  Medal\n",
       "0       1  20.0     NaN     NaN   81  1896.0       0          3     362      3\n",
       "1       1  30.0     NaN     NaN   56  1896.0       0          3     246      3\n",
       "2       1  24.0     NaN     NaN   14  1896.0       0          3     883      1"
      ]
     },
     "execution_count": 4,
     "metadata": {},
     "output_type": "execute_result"
    }
   ],
   "source": [
    "# Initialize the LabelEncoder\n",
    "label_encoder = LabelEncoder()\n",
    "\n",
    "\n",
    "# Encode and print the mapping for each column\n",
    "columns_to_encode = ['Gender', 'NOC', 'Season', 'Host_City', 'Events', 'Medal']\n",
    "for column in columns_to_encode:\n",
    "    df[column] = label_encoder.fit_transform(df[column])\n",
    "    # Print the mapping\n",
    "    print(f\"Mapping for {column}:\")\n",
    "    for class_label, numeric_label in zip(label_encoder.classes_, label_encoder.transform(label_encoder.classes_)):\n",
    "        print(f\"{class_label} -> {numeric_label}\")\n",
    "    print(\"\\n\")\n",
    "\n",
    "# Display the first few rows of the transformed dataframe\n",
    "df.head(3)"
   ]
  },
  {
   "cell_type": "code",
   "execution_count": 5,
   "metadata": {},
   "outputs": [
    {
     "name": "stdout",
     "output_type": "stream",
     "text": [
      "Shape of X: (143917, 9)\n",
      "Shape of Y: (143917,)\n"
     ]
    }
   ],
   "source": [
    "x = df.drop(['Medal'], axis=1)\n",
    "y =df['Medal']\n",
    "print(\"Shape of X:\", x.shape)\n",
    "print(\"Shape of Y:\", y.shape)"
   ]
  },
  {
   "cell_type": "code",
   "execution_count": 6,
   "metadata": {},
   "outputs": [
    {
     "name": "stdout",
     "output_type": "stream",
     "text": [
      "Shape of X_train: (115133, 9)\n",
      "Shape of X_test: (28784, 9)\n",
      "Shape of Y_train: (115133,)\n",
      "Shape of Y_test: (28784,)\n"
     ]
    }
   ],
   "source": [
    "# Split the data into training and testing sets with an 80-20 split\n",
    "X_train, X_test, Y_train, Y_test = train_test_split(x, y, test_size=0.2, random_state=42)\n",
    "\n",
    "# Check the shapes of the resulting datasets to ensure they are correct\n",
    "print(\"Shape of X_train:\", X_train.shape)\n",
    "print(\"Shape of X_test:\", X_test.shape)\n",
    "print(\"Shape of Y_train:\", Y_train.shape)\n",
    "print(\"Shape of Y_test:\", Y_test.shape)"
   ]
  },
  {
   "cell_type": "code",
   "execution_count": 7,
   "metadata": {},
   "outputs": [
    {
     "name": "stdout",
     "output_type": "stream",
     "text": [
      "Shape of X_train_scaled: (115133, 9)\n",
      "Shape of X_test_scaled: (28784, 9)\n"
     ]
    }
   ],
   "source": [
    "# Initialize the StandardScaler\n",
    "scaler = StandardScaler()\n",
    "\n",
    "# Fit the scaler on the training data and transform both the training and testing data\n",
    "X_train_scaled = scaler.fit_transform(X_train)\n",
    "X_test_scaled = scaler.transform(X_test)\n",
    "\n",
    "# Check the shapes of the scaled datasets to ensure they are correct\n",
    "print(\"Shape of X_train_scaled:\", X_train_scaled.shape)\n",
    "print(\"Shape of X_test_scaled:\", X_test_scaled.shape)"
   ]
  },
  {
   "cell_type": "code",
   "execution_count": 8,
   "metadata": {},
   "outputs": [
    {
     "name": "stdout",
     "output_type": "stream",
     "text": [
      "NaN values in X_train_scaled: 55908\n",
      "NaN values in X_test_scaled: 14003\n"
     ]
    },
    {
     "name": "stderr",
     "output_type": "stream",
     "text": [
      "Imputing X_train: 100%|██████████| 115133/115133 [00:00<00:00, 4774314.38it/s]\n",
      "Imputing X_test: 100%|██████████| 28784/28784 [00:00<00:00, 5053742.15it/s]"
     ]
    },
    {
     "name": "stdout",
     "output_type": "stream",
     "text": [
      "Imputation completed.\n"
     ]
    },
    {
     "name": "stderr",
     "output_type": "stream",
     "text": [
      "\n"
     ]
    }
   ],
   "source": [
    "# Check for NaN values in the training and testing datasets\n",
    "print(\"NaN values in X_train_scaled:\", np.isnan(X_train_scaled).sum())\n",
    "print(\"NaN values in X_test_scaled:\", np.isnan(X_test_scaled).sum())\n",
    "\n",
    "# Initialize the KNN imputer to handle missing values\n",
    "imputer = KNNImputer(n_neighbors=5)\n",
    "\n",
    "# Impute missing values in the training and testing data with a progress bar\n",
    "X_train_scaled = np.array(list(tqdm(imputer.fit_transform(X_train_scaled), desc=\"Imputing X_train\")))\n",
    "X_test_scaled = np.array(list(tqdm(imputer.transform(X_test_scaled), desc=\"Imputing X_test\")))\n",
    "\n",
    "print(\"Imputation completed.\")"
   ]
  },
  {
   "cell_type": "code",
   "execution_count": 9,
   "metadata": {},
   "outputs": [
    {
     "name": "stdout",
     "output_type": "stream",
     "text": [
      " SMOTE completed.\n"
     ]
    }
   ],
   "source": [
    "# Apply SMOTE to handle class imbalance (no tqdm here)\n",
    "smote = SMOTE(random_state=42)\n",
    "X_train_resampled, Y_train_resampled = smote.fit_resample(X_train_scaled, Y_train)\n",
    "\n",
    "print(\" SMOTE completed.\")"
   ]
  },
  {
   "cell_type": "code",
   "execution_count": 10,
   "metadata": {},
   "outputs": [],
   "source": [
    "def plot_multiclass_roc_curve(model, X_test, Y_test, label):\n",
    "    from sklearn.metrics import roc_curve, auc, RocCurveDisplay\n",
    "    from sklearn.preprocessing import label_binarize\n",
    "    import matplotlib.pyplot as plt\n",
    "    \n",
    "    # Binarize the output labels for multi-class ROC\n",
    "    Y_test_binarized = label_binarize(Y_test, classes=[0, 1, 2, 3])  # Classes: Bronze -> 0, Gold -> 1, Silver -> 2, NaN -> 3\n",
    "    \n",
    "    # Convert X_test to PyTorch tensor and send to device\n",
    "    X_test_tensor = torch.tensor(X_test, dtype=torch.float32).to(device)\n",
    "\n",
    "    # Get predicted probabilities using the model\n",
    "    model.eval()  # Set model to evaluation mode\n",
    "    with torch.no_grad():\n",
    "        Y_pred_logits = model(X_test_tensor)  # Get raw output logits\n",
    "        y_score = torch.softmax(Y_pred_logits, dim=1).cpu().numpy()  # Get predicted probabilities\n",
    "\n",
    "    fpr = dict()\n",
    "    tpr = dict()\n",
    "    roc_auc = dict()\n",
    "\n",
    "    # Medal labels for easier identification\n",
    "    medal_labels = {0: 'Bronze', 1: 'Gold', 2: 'Silver', 3: 'NaN'}\n",
    "\n",
    "    # Plot ROC curve for each class separately\n",
    "    plt.figure(figsize=(10, 7))\n",
    "    \n",
    "    # Assigning specific colors to medals\n",
    "    colors = {\n",
    "        0: '#cd7f32',  # Bronze\n",
    "        1: '#ffd700',  # Gold\n",
    "        2: '#c0c0c0',  # Silver\n",
    "        3: 'black'    # NaN or No Medal \n",
    "    }\n",
    "    \n",
    "    for i in range(4):  # Four classes (0: Bronze, 1: Gold, 2: Silver, 3: NaN)\n",
    "        fpr[i], tpr[i], _ = roc_curve(Y_test_binarized[:, i], y_score[:, i])\n",
    "        roc_auc[i] = auc(fpr[i], tpr[i])\n",
    "        RocCurveDisplay(fpr=fpr[i], tpr=tpr[i], roc_auc=roc_auc[i], estimator_name=f'{label} ({medal_labels[i]})').plot(ax=plt.gca(), color=colors[i])\n",
    "    \n",
    "    # Adding legend and titles\n",
    "    plt.title(f\"Multiclass ROC Curve for {label}\")\n",
    "    plt.legend([f\"Class {i}: {medal_labels[i]} (AUC = {roc_auc[i]:.2f})\" for i in range(4)])\n",
    "    plt.show()"
   ]
  },
  {
   "cell_type": "code",
   "execution_count": 11,
   "metadata": {},
   "outputs": [],
   "source": [
    "# # Define the device to use GPU if available, otherwise fallback to CPU\n",
    "# device = torch.device(\"cuda\" if torch.cuda.is_available() else \"cpu\")\n",
    "\n",
    "# # Convert your data to PyTorch tensors\n",
    "# X_train_tensor = torch.tensor(X_train_resampled, dtype=torch.float32).to(device)\n",
    "# Y_train_tensor = torch.tensor(Y_train_resampled, dtype=torch.long).to(device)\n",
    "# X_test_tensor = torch.tensor(X_test_scaled, dtype=torch.float32).to(device)\n",
    "\n",
    "# # Create a PyTorch Dataset and DataLoader\n",
    "# train_dataset = TensorDataset(X_train_tensor, Y_train_tensor)\n",
    "# train_loader = DataLoader(train_dataset, batch_size=32, shuffle=True)\n",
    "\n",
    "# # Define the neural network model using PyTorch\n",
    "# class NeuralNet(nn.Module):\n",
    "#     def __init__(self, input_size, num_classes):\n",
    "#         super(NeuralNet, self).__init__()\n",
    "#         self.fc1 = nn.Linear(input_size, 64)\n",
    "#         self.fc2 = nn.Linear(64, 32)\n",
    "#         self.fc3 = nn.Linear(32, num_classes)\n",
    "\n",
    "#     def forward(self, x):\n",
    "#         x = torch.relu(self.fc1(x))\n",
    "#         x = torch.relu(self.fc2(x))\n",
    "#         x = torch.softmax(self.fc3(x), dim=1)\n",
    "#         return x\n",
    "\n",
    "# # Initialize the model, loss function, and optimizer\n",
    "# model = NeuralNet(input_size=X_train_resampled.shape[1], num_classes=4).to(device)\n",
    "# criterion = nn.CrossEntropyLoss()\n",
    "# optimizer = optim.Adam(model.parameters(), lr=0.001)\n",
    "\n",
    "# # Training loop with reduced verbosity\n",
    "# num_epochs = 20\n",
    "# for epoch in range(num_epochs):\n",
    "#     model.train()\n",
    "#     running_loss = 0.0\n",
    "    \n",
    "#     # Create a progress bar with reduced update frequency (mininterval)\n",
    "#     with tqdm(total=len(train_loader), desc=f\"Epoch [{epoch+1}/{num_epochs}]\", unit=\"batch\", mininterval=5) as pbar:\n",
    "#         for i, (inputs, labels) in enumerate(train_loader):\n",
    "#             # Zero the parameter gradients\n",
    "#             optimizer.zero_grad()\n",
    "\n",
    "#             # Forward pass\n",
    "#             outputs = model(inputs)\n",
    "#             loss = criterion(outputs, labels)\n",
    "\n",
    "#             # Backward pass and optimization\n",
    "#             loss.backward()\n",
    "#             optimizer.step()\n",
    "\n",
    "#             running_loss += loss.item()\n",
    "#             if i % 100 == 0:  # Update the progress bar less frequently\n",
    "#                 pbar.update(100)\n",
    "#                 pbar.set_postfix({'Loss': running_loss / (i+1)})\n",
    "    \n",
    "#     print(f\"Epoch [{epoch+1}/{num_epochs}], Loss: {running_loss/len(train_loader):.4f}\")\n",
    "\n",
    "# # Predict on the test set\n",
    "# model.eval()  # Set model to evaluation mode\n",
    "# with torch.no_grad():\n",
    "#     Y_pred_logits = model(X_test_tensor)  # Get raw output logits\n",
    "#     Y_pred_nn = torch.argmax(Y_pred_logits, dim=1).cpu().numpy()  # Get predicted class labels\n",
    "\n",
    "# # Print classification report\n",
    "# print(\"Classification Report for Neural Network (PyTorch):\")\n",
    "# print(classification_report(Y_test, Y_pred_nn))\n",
    "\n",
    "# # Plot ROC curve\n",
    "# plot_multiclass_roc_curve(model, X_test_scaled, Y_test, \"Neural Network\")\n"
   ]
  },
  {
   "cell_type": "code",
   "execution_count": 13,
   "metadata": {},
   "outputs": [
    {
     "name": "stdout",
     "output_type": "stream",
     "text": [
      "\n",
      "Training with learning rate: 0.001\n"
     ]
    },
    {
     "name": "stderr",
     "output_type": "stream",
     "text": [
      "Epoch [1/100] - LR: 0.001:   0%|          | 0/12228 [00:00<?, ?batch/s]"
     ]
    },
    {
     "name": "stderr",
     "output_type": "stream",
     "text": [
      "Epoch [1/100] - LR: 0.001: 12300batch [00:26, 456.23batch/s, Loss=1.35]                        \n"
     ]
    },
    {
     "name": "stdout",
     "output_type": "stream",
     "text": [
      "Epoch [1/100], Loss: 1.3485\n"
     ]
    },
    {
     "name": "stderr",
     "output_type": "stream",
     "text": [
      "Epoch [2/100] - LR: 0.001: 12300batch [00:29, 412.05batch/s, Loss=1.32]                        \n"
     ]
    },
    {
     "name": "stdout",
     "output_type": "stream",
     "text": [
      "Epoch [2/100], Loss: 1.3180\n"
     ]
    },
    {
     "name": "stderr",
     "output_type": "stream",
     "text": [
      "Epoch [3/100] - LR: 0.001: 12300batch [00:25, 477.99batch/s, Loss=1.29]                        \n"
     ]
    },
    {
     "name": "stdout",
     "output_type": "stream",
     "text": [
      "Epoch [3/100], Loss: 1.2945\n"
     ]
    },
    {
     "name": "stderr",
     "output_type": "stream",
     "text": [
      "Epoch [4/100] - LR: 0.001: 12300batch [00:24, 495.44batch/s, Loss=1.28]                        \n"
     ]
    },
    {
     "name": "stdout",
     "output_type": "stream",
     "text": [
      "Epoch [4/100], Loss: 1.2779\n"
     ]
    },
    {
     "name": "stderr",
     "output_type": "stream",
     "text": [
      "Epoch [5/100] - LR: 0.001: 12300batch [00:24, 511.40batch/s, Loss=1.26]                        \n"
     ]
    },
    {
     "name": "stdout",
     "output_type": "stream",
     "text": [
      "Epoch [5/100], Loss: 1.2649\n"
     ]
    },
    {
     "name": "stderr",
     "output_type": "stream",
     "text": [
      "Epoch [6/100] - LR: 0.001: 12300batch [00:20, 597.51batch/s, Loss=1.25]                        \n"
     ]
    },
    {
     "name": "stdout",
     "output_type": "stream",
     "text": [
      "Epoch [6/100], Loss: 1.2542\n"
     ]
    },
    {
     "name": "stderr",
     "output_type": "stream",
     "text": [
      "Epoch [7/100] - LR: 0.001: 12300batch [00:23, 517.26batch/s, Loss=1.25]                        \n"
     ]
    },
    {
     "name": "stdout",
     "output_type": "stream",
     "text": [
      "Epoch [7/100], Loss: 1.2461\n"
     ]
    },
    {
     "name": "stderr",
     "output_type": "stream",
     "text": [
      "Epoch [8/100] - LR: 0.001: 12300batch [00:21, 570.89batch/s, Loss=1.24]                        \n"
     ]
    },
    {
     "name": "stdout",
     "output_type": "stream",
     "text": [
      "Epoch [8/100], Loss: 1.2390\n"
     ]
    },
    {
     "name": "stderr",
     "output_type": "stream",
     "text": [
      "Epoch [9/100] - LR: 0.001: 12300batch [00:24, 492.13batch/s, Loss=1.23]                        \n"
     ]
    },
    {
     "name": "stdout",
     "output_type": "stream",
     "text": [
      "Epoch [9/100], Loss: 1.2333\n"
     ]
    },
    {
     "name": "stderr",
     "output_type": "stream",
     "text": [
      "Epoch [10/100] - LR: 0.001: 12300batch [00:23, 513.56batch/s, Loss=1.23]                        \n"
     ]
    },
    {
     "name": "stdout",
     "output_type": "stream",
     "text": [
      "Epoch [10/100], Loss: 1.2292\n"
     ]
    },
    {
     "name": "stderr",
     "output_type": "stream",
     "text": [
      "Epoch [11/100] - LR: 0.001: 12300batch [00:25, 482.90batch/s, Loss=1.23]                        \n"
     ]
    },
    {
     "name": "stdout",
     "output_type": "stream",
     "text": [
      "Epoch [11/100], Loss: 1.2256\n"
     ]
    },
    {
     "name": "stderr",
     "output_type": "stream",
     "text": [
      "Epoch [12/100] - LR: 0.001: 12300batch [00:20, 593.04batch/s, Loss=1.22]                        \n"
     ]
    },
    {
     "name": "stdout",
     "output_type": "stream",
     "text": [
      "Epoch [12/100], Loss: 1.2225\n"
     ]
    },
    {
     "name": "stderr",
     "output_type": "stream",
     "text": [
      "Epoch [13/100] - LR: 0.001: 12300batch [00:23, 516.46batch/s, Loss=1.22]                        \n"
     ]
    },
    {
     "name": "stdout",
     "output_type": "stream",
     "text": [
      "Epoch [13/100], Loss: 1.2193\n"
     ]
    },
    {
     "name": "stderr",
     "output_type": "stream",
     "text": [
      "Epoch [14/100] - LR: 0.001: 12300batch [00:29, 414.63batch/s, Loss=1.22]                        \n"
     ]
    },
    {
     "name": "stdout",
     "output_type": "stream",
     "text": [
      "Epoch [14/100], Loss: 1.2171\n"
     ]
    },
    {
     "name": "stderr",
     "output_type": "stream",
     "text": [
      "Epoch [15/100] - LR: 0.001: 12300batch [00:25, 481.20batch/s, Loss=1.21]                        \n"
     ]
    },
    {
     "name": "stdout",
     "output_type": "stream",
     "text": [
      "Epoch [15/100], Loss: 1.2140\n"
     ]
    },
    {
     "name": "stderr",
     "output_type": "stream",
     "text": [
      "Epoch [16/100] - LR: 0.001: 12300batch [00:20, 599.63batch/s, Loss=1.21]                        \n"
     ]
    },
    {
     "name": "stdout",
     "output_type": "stream",
     "text": [
      "Epoch [16/100], Loss: 1.2112\n"
     ]
    },
    {
     "name": "stderr",
     "output_type": "stream",
     "text": [
      "Epoch [17/100] - LR: 0.001: 12300batch [00:20, 586.08batch/s, Loss=1.21]                        \n"
     ]
    },
    {
     "name": "stdout",
     "output_type": "stream",
     "text": [
      "Epoch [17/100], Loss: 1.2102\n"
     ]
    },
    {
     "name": "stderr",
     "output_type": "stream",
     "text": [
      "Epoch [18/100] - LR: 0.001: 12300batch [00:24, 497.55batch/s, Loss=1.21]                        \n"
     ]
    },
    {
     "name": "stdout",
     "output_type": "stream",
     "text": [
      "Epoch [18/100], Loss: 1.2092\n"
     ]
    },
    {
     "name": "stderr",
     "output_type": "stream",
     "text": [
      "Epoch [19/100] - LR: 0.001: 12300batch [00:22, 547.05batch/s, Loss=1.21]                        \n"
     ]
    },
    {
     "name": "stdout",
     "output_type": "stream",
     "text": [
      "Epoch [19/100], Loss: 1.2070\n"
     ]
    },
    {
     "name": "stderr",
     "output_type": "stream",
     "text": [
      "Epoch [20/100] - LR: 0.001: 12300batch [00:20, 586.29batch/s, Loss=1.21]                        \n"
     ]
    },
    {
     "name": "stdout",
     "output_type": "stream",
     "text": [
      "Epoch [20/100], Loss: 1.2054\n"
     ]
    },
    {
     "name": "stderr",
     "output_type": "stream",
     "text": [
      "Epoch [21/100] - LR: 0.001: 12300batch [00:20, 592.50batch/s, Loss=1.2]                        \n"
     ]
    },
    {
     "name": "stdout",
     "output_type": "stream",
     "text": [
      "Epoch [21/100], Loss: 1.2042\n"
     ]
    },
    {
     "name": "stderr",
     "output_type": "stream",
     "text": [
      "Epoch [22/100] - LR: 0.001: 12300batch [00:25, 474.41batch/s, Loss=1.2]                        \n"
     ]
    },
    {
     "name": "stdout",
     "output_type": "stream",
     "text": [
      "Epoch [22/100], Loss: 1.2033\n"
     ]
    },
    {
     "name": "stderr",
     "output_type": "stream",
     "text": [
      "Epoch [23/100] - LR: 0.001: 12300batch [00:22, 552.70batch/s, Loss=1.2]                        \n"
     ]
    },
    {
     "name": "stdout",
     "output_type": "stream",
     "text": [
      "Epoch [23/100], Loss: 1.2027\n"
     ]
    },
    {
     "name": "stderr",
     "output_type": "stream",
     "text": [
      "Epoch [24/100] - LR: 0.001: 12300batch [00:22, 549.71batch/s, Loss=1.2]                        \n"
     ]
    },
    {
     "name": "stdout",
     "output_type": "stream",
     "text": [
      "Epoch [24/100], Loss: 1.2018\n"
     ]
    },
    {
     "name": "stderr",
     "output_type": "stream",
     "text": [
      "Epoch [25/100] - LR: 0.001: 12300batch [00:21, 581.54batch/s, Loss=1.2]                        \n"
     ]
    },
    {
     "name": "stdout",
     "output_type": "stream",
     "text": [
      "Epoch [25/100], Loss: 1.2015\n"
     ]
    },
    {
     "name": "stderr",
     "output_type": "stream",
     "text": [
      "Epoch [26/100] - LR: 0.001: 12300batch [00:21, 577.75batch/s, Loss=1.2]                        \n"
     ]
    },
    {
     "name": "stdout",
     "output_type": "stream",
     "text": [
      "Epoch [26/100], Loss: 1.2005\n"
     ]
    },
    {
     "name": "stderr",
     "output_type": "stream",
     "text": [
      "Epoch [27/100] - LR: 0.001: 12300batch [00:21, 582.58batch/s, Loss=1.2]                        \n"
     ]
    },
    {
     "name": "stdout",
     "output_type": "stream",
     "text": [
      "Epoch [27/100], Loss: 1.1984\n"
     ]
    },
    {
     "name": "stderr",
     "output_type": "stream",
     "text": [
      "Epoch [28/100] - LR: 0.001: 12300batch [00:21, 582.05batch/s, Loss=1.2]                        \n"
     ]
    },
    {
     "name": "stdout",
     "output_type": "stream",
     "text": [
      "Epoch [28/100], Loss: 1.1984\n"
     ]
    },
    {
     "name": "stderr",
     "output_type": "stream",
     "text": [
      "Epoch [29/100] - LR: 0.001: 12300batch [00:21, 577.92batch/s, Loss=1.2]                        \n"
     ]
    },
    {
     "name": "stdout",
     "output_type": "stream",
     "text": [
      "Epoch [29/100], Loss: 1.1969\n"
     ]
    },
    {
     "name": "stderr",
     "output_type": "stream",
     "text": [
      "Epoch [30/100] - LR: 0.001: 12300batch [00:21, 570.80batch/s, Loss=1.2]                        \n"
     ]
    },
    {
     "name": "stdout",
     "output_type": "stream",
     "text": [
      "Epoch [30/100], Loss: 1.1967\n"
     ]
    },
    {
     "name": "stderr",
     "output_type": "stream",
     "text": [
      "Epoch [31/100] - LR: 0.001: 12300batch [00:21, 583.07batch/s, Loss=1.2]                        \n"
     ]
    },
    {
     "name": "stdout",
     "output_type": "stream",
     "text": [
      "Epoch [31/100], Loss: 1.1958\n"
     ]
    },
    {
     "name": "stderr",
     "output_type": "stream",
     "text": [
      "Epoch [32/100] - LR: 0.001: 12300batch [00:21, 581.38batch/s, Loss=1.2]                        \n"
     ]
    },
    {
     "name": "stdout",
     "output_type": "stream",
     "text": [
      "Epoch [32/100], Loss: 1.1954\n"
     ]
    },
    {
     "name": "stderr",
     "output_type": "stream",
     "text": [
      "Epoch [33/100] - LR: 0.001: 12300batch [00:21, 579.68batch/s, Loss=1.19]                        \n"
     ]
    },
    {
     "name": "stdout",
     "output_type": "stream",
     "text": [
      "Epoch [33/100], Loss: 1.1948\n"
     ]
    },
    {
     "name": "stderr",
     "output_type": "stream",
     "text": [
      "Epoch [34/100] - LR: 0.001: 12300batch [00:21, 572.29batch/s, Loss=1.19]                        \n"
     ]
    },
    {
     "name": "stdout",
     "output_type": "stream",
     "text": [
      "Epoch [34/100], Loss: 1.1944\n"
     ]
    },
    {
     "name": "stderr",
     "output_type": "stream",
     "text": [
      "Epoch [35/100] - LR: 0.001: 12300batch [00:21, 573.11batch/s, Loss=1.19]                        \n"
     ]
    },
    {
     "name": "stdout",
     "output_type": "stream",
     "text": [
      "Epoch [35/100], Loss: 1.1933\n"
     ]
    },
    {
     "name": "stderr",
     "output_type": "stream",
     "text": [
      "Epoch [36/100] - LR: 0.001: 12300batch [00:21, 567.44batch/s, Loss=1.19]                        \n"
     ]
    },
    {
     "name": "stdout",
     "output_type": "stream",
     "text": [
      "Epoch [36/100], Loss: 1.1933\n"
     ]
    },
    {
     "name": "stderr",
     "output_type": "stream",
     "text": [
      "Epoch [37/100] - LR: 0.001: 12300batch [00:21, 562.90batch/s, Loss=1.19]                        \n"
     ]
    },
    {
     "name": "stdout",
     "output_type": "stream",
     "text": [
      "Epoch [37/100], Loss: 1.1929\n"
     ]
    },
    {
     "name": "stderr",
     "output_type": "stream",
     "text": [
      "Epoch [38/100] - LR: 0.001: 12300batch [00:22, 557.18batch/s, Loss=1.19]                        \n"
     ]
    },
    {
     "name": "stdout",
     "output_type": "stream",
     "text": [
      "Epoch [38/100], Loss: 1.1922\n"
     ]
    },
    {
     "name": "stderr",
     "output_type": "stream",
     "text": [
      "Epoch [39/100] - LR: 0.001: 12300batch [00:25, 484.50batch/s, Loss=1.19]                        \n"
     ]
    },
    {
     "name": "stdout",
     "output_type": "stream",
     "text": [
      "Epoch [39/100], Loss: 1.1916\n"
     ]
    },
    {
     "name": "stderr",
     "output_type": "stream",
     "text": [
      "Epoch [40/100] - LR: 0.001: 12300batch [00:22, 544.85batch/s, Loss=1.19]                        \n"
     ]
    },
    {
     "name": "stdout",
     "output_type": "stream",
     "text": [
      "Epoch [40/100], Loss: 1.1922\n"
     ]
    },
    {
     "name": "stderr",
     "output_type": "stream",
     "text": [
      "Epoch [41/100] - LR: 0.001: 12300batch [00:22, 546.12batch/s, Loss=1.19]                        \n"
     ]
    },
    {
     "name": "stdout",
     "output_type": "stream",
     "text": [
      "Epoch [41/100], Loss: 1.1914\n"
     ]
    },
    {
     "name": "stderr",
     "output_type": "stream",
     "text": [
      "Epoch [42/100] - LR: 0.001: 12300batch [00:22, 545.00batch/s, Loss=1.19]                        \n"
     ]
    },
    {
     "name": "stdout",
     "output_type": "stream",
     "text": [
      "Epoch [42/100], Loss: 1.1911\n"
     ]
    },
    {
     "name": "stderr",
     "output_type": "stream",
     "text": [
      "Epoch [43/100] - LR: 0.001: 12300batch [00:22, 541.79batch/s, Loss=1.19]                        \n"
     ]
    },
    {
     "name": "stdout",
     "output_type": "stream",
     "text": [
      "Epoch [43/100], Loss: 1.1916\n"
     ]
    },
    {
     "name": "stderr",
     "output_type": "stream",
     "text": [
      "Epoch [44/100] - LR: 0.001: 12300batch [00:22, 546.42batch/s, Loss=1.19]                        \n"
     ]
    },
    {
     "name": "stdout",
     "output_type": "stream",
     "text": [
      "Epoch [44/100], Loss: 1.1917\n"
     ]
    },
    {
     "name": "stderr",
     "output_type": "stream",
     "text": [
      "Epoch [45/100] - LR: 0.001: 12300batch [00:22, 537.86batch/s, Loss=1.19]                        \n"
     ]
    },
    {
     "name": "stdout",
     "output_type": "stream",
     "text": [
      "Epoch [45/100], Loss: 1.1914\n"
     ]
    },
    {
     "name": "stderr",
     "output_type": "stream",
     "text": [
      "Epoch [46/100] - LR: 0.001: 12300batch [00:20, 613.70batch/s, Loss=1.19]                        \n"
     ]
    },
    {
     "name": "stdout",
     "output_type": "stream",
     "text": [
      "Epoch [46/100], Loss: 1.1911\n"
     ]
    },
    {
     "name": "stderr",
     "output_type": "stream",
     "text": [
      "Epoch [47/100] - LR: 0.001: 12300batch [00:23, 525.79batch/s, Loss=1.16]                        \n"
     ]
    },
    {
     "name": "stdout",
     "output_type": "stream",
     "text": [
      "Epoch [47/100], Loss: 1.1613\n"
     ]
    },
    {
     "name": "stderr",
     "output_type": "stream",
     "text": [
      "Epoch [48/100] - LR: 0.001: 12300batch [00:23, 533.51batch/s, Loss=1.15]                        \n"
     ]
    },
    {
     "name": "stdout",
     "output_type": "stream",
     "text": [
      "Epoch [48/100], Loss: 1.1516\n"
     ]
    },
    {
     "name": "stderr",
     "output_type": "stream",
     "text": [
      "Epoch [49/100] - LR: 0.001: 12300batch [00:22, 553.99batch/s, Loss=1.15]                        \n"
     ]
    },
    {
     "name": "stdout",
     "output_type": "stream",
     "text": [
      "Epoch [49/100], Loss: 1.1486\n"
     ]
    },
    {
     "name": "stderr",
     "output_type": "stream",
     "text": [
      "Epoch [50/100] - LR: 0.001: 12300batch [00:21, 576.92batch/s, Loss=1.15]                        \n"
     ]
    },
    {
     "name": "stdout",
     "output_type": "stream",
     "text": [
      "Epoch [50/100], Loss: 1.1461\n"
     ]
    },
    {
     "name": "stderr",
     "output_type": "stream",
     "text": [
      "Epoch [51/100] - LR: 0.001: 12300batch [00:24, 512.42batch/s, Loss=1.14]                        \n"
     ]
    },
    {
     "name": "stdout",
     "output_type": "stream",
     "text": [
      "Epoch [51/100], Loss: 1.1444\n"
     ]
    },
    {
     "name": "stderr",
     "output_type": "stream",
     "text": [
      "Epoch [52/100] - LR: 0.001: 12300batch [00:30, 407.28batch/s, Loss=1.14]                        \n"
     ]
    },
    {
     "name": "stdout",
     "output_type": "stream",
     "text": [
      "Epoch [52/100], Loss: 1.1431\n"
     ]
    },
    {
     "name": "stderr",
     "output_type": "stream",
     "text": [
      "Epoch [53/100] - LR: 0.001: 12300batch [00:27, 442.44batch/s, Loss=1.14]                        \n"
     ]
    },
    {
     "name": "stdout",
     "output_type": "stream",
     "text": [
      "Epoch [53/100], Loss: 1.1421\n"
     ]
    },
    {
     "name": "stderr",
     "output_type": "stream",
     "text": [
      "Epoch [54/100] - LR: 0.001: 12300batch [00:26, 472.62batch/s, Loss=1.14]                        \n"
     ]
    },
    {
     "name": "stdout",
     "output_type": "stream",
     "text": [
      "Epoch [54/100], Loss: 1.1412\n"
     ]
    },
    {
     "name": "stderr",
     "output_type": "stream",
     "text": [
      "Epoch [55/100] - LR: 0.001: 12300batch [00:24, 512.11batch/s, Loss=1.14]                        \n"
     ]
    },
    {
     "name": "stdout",
     "output_type": "stream",
     "text": [
      "Epoch [55/100], Loss: 1.1405\n"
     ]
    },
    {
     "name": "stderr",
     "output_type": "stream",
     "text": [
      "Epoch [56/100] - LR: 0.001: 12300batch [00:24, 494.57batch/s, Loss=1.14]                        \n"
     ]
    },
    {
     "name": "stdout",
     "output_type": "stream",
     "text": [
      "Epoch [56/100], Loss: 1.1396\n"
     ]
    },
    {
     "name": "stderr",
     "output_type": "stream",
     "text": [
      "Epoch [57/100] - LR: 0.001: 12300batch [00:22, 538.00batch/s, Loss=1.14]                        \n"
     ]
    },
    {
     "name": "stdout",
     "output_type": "stream",
     "text": [
      "Epoch [57/100], Loss: 1.1390\n"
     ]
    },
    {
     "name": "stderr",
     "output_type": "stream",
     "text": [
      "Epoch [58/100] - LR: 0.001: 12300batch [00:21, 581.06batch/s, Loss=1.14]                        \n"
     ]
    },
    {
     "name": "stdout",
     "output_type": "stream",
     "text": [
      "Epoch [58/100], Loss: 1.1382\n"
     ]
    },
    {
     "name": "stderr",
     "output_type": "stream",
     "text": [
      "Epoch [59/100] - LR: 0.001: 12300batch [00:27, 440.05batch/s, Loss=1.14]                        \n"
     ]
    },
    {
     "name": "stdout",
     "output_type": "stream",
     "text": [
      "Epoch [59/100], Loss: 1.1378\n"
     ]
    },
    {
     "name": "stderr",
     "output_type": "stream",
     "text": [
      "Epoch [60/100] - LR: 0.001: 12300batch [00:25, 484.60batch/s, Loss=1.14]                        \n"
     ]
    },
    {
     "name": "stdout",
     "output_type": "stream",
     "text": [
      "Epoch [60/100], Loss: 1.1373\n"
     ]
    },
    {
     "name": "stderr",
     "output_type": "stream",
     "text": [
      "Epoch [61/100] - LR: 0.001: 12300batch [00:23, 515.01batch/s, Loss=1.14]                        \n"
     ]
    },
    {
     "name": "stdout",
     "output_type": "stream",
     "text": [
      "Epoch [61/100], Loss: 1.1368\n"
     ]
    },
    {
     "name": "stderr",
     "output_type": "stream",
     "text": [
      "Epoch [62/100] - LR: 0.001: 12300batch [00:20, 596.83batch/s, Loss=1.14]                        \n"
     ]
    },
    {
     "name": "stdout",
     "output_type": "stream",
     "text": [
      "Epoch [62/100], Loss: 1.1362\n"
     ]
    },
    {
     "name": "stderr",
     "output_type": "stream",
     "text": [
      "Epoch [63/100] - LR: 0.001: 12300batch [00:20, 602.59batch/s, Loss=1.14]                        \n"
     ]
    },
    {
     "name": "stdout",
     "output_type": "stream",
     "text": [
      "Epoch [63/100], Loss: 1.1358\n"
     ]
    },
    {
     "name": "stderr",
     "output_type": "stream",
     "text": [
      "Epoch [64/100] - LR: 0.001: 12300batch [00:20, 600.05batch/s, Loss=1.14]                        \n"
     ]
    },
    {
     "name": "stdout",
     "output_type": "stream",
     "text": [
      "Epoch [64/100], Loss: 1.1354\n"
     ]
    },
    {
     "name": "stderr",
     "output_type": "stream",
     "text": [
      "Epoch [65/100] - LR: 0.001: 12300batch [00:20, 592.41batch/s, Loss=1.14]                        \n"
     ]
    },
    {
     "name": "stdout",
     "output_type": "stream",
     "text": [
      "Epoch [65/100], Loss: 1.1350\n"
     ]
    },
    {
     "name": "stderr",
     "output_type": "stream",
     "text": [
      "Epoch [66/100] - LR: 0.001: 12300batch [00:21, 572.15batch/s, Loss=1.13]                        \n"
     ]
    },
    {
     "name": "stdout",
     "output_type": "stream",
     "text": [
      "Epoch [66/100], Loss: 1.1346\n"
     ]
    },
    {
     "name": "stderr",
     "output_type": "stream",
     "text": [
      "Epoch [67/100] - LR: 0.001: 12300batch [00:21, 579.62batch/s, Loss=1.13]                        \n"
     ]
    },
    {
     "name": "stdout",
     "output_type": "stream",
     "text": [
      "Epoch [67/100], Loss: 1.1343\n"
     ]
    },
    {
     "name": "stderr",
     "output_type": "stream",
     "text": [
      "Epoch [68/100] - LR: 0.001: 12300batch [00:21, 578.99batch/s, Loss=1.13]                        \n"
     ]
    },
    {
     "name": "stdout",
     "output_type": "stream",
     "text": [
      "Epoch [68/100], Loss: 1.1340\n"
     ]
    },
    {
     "name": "stderr",
     "output_type": "stream",
     "text": [
      "Epoch [69/100] - LR: 0.001: 12300batch [00:20, 612.21batch/s, Loss=1.13]                        \n"
     ]
    },
    {
     "name": "stdout",
     "output_type": "stream",
     "text": [
      "Epoch [69/100], Loss: 1.1335\n"
     ]
    },
    {
     "name": "stderr",
     "output_type": "stream",
     "text": [
      "Epoch [70/100] - LR: 0.001: 12300batch [00:21, 574.27batch/s, Loss=1.13]                        \n"
     ]
    },
    {
     "name": "stdout",
     "output_type": "stream",
     "text": [
      "Epoch [70/100], Loss: 1.1334\n"
     ]
    },
    {
     "name": "stderr",
     "output_type": "stream",
     "text": [
      "Epoch [71/100] - LR: 0.001: 12300batch [00:22, 550.64batch/s, Loss=1.13]                        \n"
     ]
    },
    {
     "name": "stdout",
     "output_type": "stream",
     "text": [
      "Epoch [71/100], Loss: 1.1330\n"
     ]
    },
    {
     "name": "stderr",
     "output_type": "stream",
     "text": [
      "Epoch [72/100] - LR: 0.001: 12300batch [00:21, 574.52batch/s, Loss=1.13]                        \n"
     ]
    },
    {
     "name": "stdout",
     "output_type": "stream",
     "text": [
      "Epoch [72/100], Loss: 1.1327\n"
     ]
    },
    {
     "name": "stderr",
     "output_type": "stream",
     "text": [
      "Epoch [73/100] - LR: 0.001: 12300batch [00:20, 594.77batch/s, Loss=1.13]                        \n"
     ]
    },
    {
     "name": "stdout",
     "output_type": "stream",
     "text": [
      "Epoch [73/100], Loss: 1.1325\n"
     ]
    },
    {
     "name": "stderr",
     "output_type": "stream",
     "text": [
      "Epoch [74/100] - LR: 0.001: 12300batch [00:21, 567.91batch/s, Loss=1.13]                        \n"
     ]
    },
    {
     "name": "stdout",
     "output_type": "stream",
     "text": [
      "Epoch [74/100], Loss: 1.1322\n"
     ]
    },
    {
     "name": "stderr",
     "output_type": "stream",
     "text": [
      "Epoch [75/100] - LR: 0.001: 12300batch [00:22, 538.43batch/s, Loss=1.13]                        \n"
     ]
    },
    {
     "name": "stdout",
     "output_type": "stream",
     "text": [
      "Epoch [75/100], Loss: 1.1320\n"
     ]
    },
    {
     "name": "stderr",
     "output_type": "stream",
     "text": [
      "Epoch [76/100] - LR: 0.001: 12300batch [00:22, 549.40batch/s, Loss=1.13]                        \n"
     ]
    },
    {
     "name": "stdout",
     "output_type": "stream",
     "text": [
      "Epoch [76/100], Loss: 1.1315\n"
     ]
    },
    {
     "name": "stderr",
     "output_type": "stream",
     "text": [
      "Epoch [77/100] - LR: 0.001: 12300batch [00:21, 571.11batch/s, Loss=1.13]                        \n"
     ]
    },
    {
     "name": "stdout",
     "output_type": "stream",
     "text": [
      "Epoch [77/100], Loss: 1.1314\n"
     ]
    },
    {
     "name": "stderr",
     "output_type": "stream",
     "text": [
      "Epoch [78/100] - LR: 0.001: 12300batch [00:21, 572.03batch/s, Loss=1.13]                        \n"
     ]
    },
    {
     "name": "stdout",
     "output_type": "stream",
     "text": [
      "Epoch [78/100], Loss: 1.1312\n"
     ]
    },
    {
     "name": "stderr",
     "output_type": "stream",
     "text": [
      "Epoch [79/100] - LR: 0.001: 12300batch [00:21, 573.81batch/s, Loss=1.13]                        \n"
     ]
    },
    {
     "name": "stdout",
     "output_type": "stream",
     "text": [
      "Epoch [79/100], Loss: 1.1309\n"
     ]
    },
    {
     "name": "stderr",
     "output_type": "stream",
     "text": [
      "Epoch [80/100] - LR: 0.001: 12300batch [00:21, 580.16batch/s, Loss=1.13]                        \n"
     ]
    },
    {
     "name": "stdout",
     "output_type": "stream",
     "text": [
      "Epoch [80/100], Loss: 1.1307\n"
     ]
    },
    {
     "name": "stderr",
     "output_type": "stream",
     "text": [
      "Epoch [81/100] - LR: 0.001: 12300batch [00:21, 575.94batch/s, Loss=1.13]                        \n"
     ]
    },
    {
     "name": "stdout",
     "output_type": "stream",
     "text": [
      "Epoch [81/100], Loss: 1.1304\n"
     ]
    },
    {
     "name": "stderr",
     "output_type": "stream",
     "text": [
      "Epoch [82/100] - LR: 0.001: 12300batch [00:20, 604.99batch/s, Loss=1.13]                        \n"
     ]
    },
    {
     "name": "stdout",
     "output_type": "stream",
     "text": [
      "Epoch [82/100], Loss: 1.1301\n"
     ]
    },
    {
     "name": "stderr",
     "output_type": "stream",
     "text": [
      "Epoch [83/100] - LR: 0.001: 12300batch [00:21, 567.09batch/s, Loss=1.13]                        \n"
     ]
    },
    {
     "name": "stdout",
     "output_type": "stream",
     "text": [
      "Epoch [83/100], Loss: 1.1300\n"
     ]
    },
    {
     "name": "stderr",
     "output_type": "stream",
     "text": [
      "Epoch [84/100] - LR: 0.001: 12300batch [00:21, 584.75batch/s, Loss=1.13]                        \n"
     ]
    },
    {
     "name": "stdout",
     "output_type": "stream",
     "text": [
      "Epoch [84/100], Loss: 1.1298\n"
     ]
    },
    {
     "name": "stderr",
     "output_type": "stream",
     "text": [
      "Epoch [85/100] - LR: 0.001: 12300batch [00:22, 540.66batch/s, Loss=1.13]                        \n"
     ]
    },
    {
     "name": "stdout",
     "output_type": "stream",
     "text": [
      "Epoch [85/100], Loss: 1.1297\n"
     ]
    },
    {
     "name": "stderr",
     "output_type": "stream",
     "text": [
      "Epoch [86/100] - LR: 0.001: 12300batch [00:20, 606.31batch/s, Loss=1.13]                        \n"
     ]
    },
    {
     "name": "stdout",
     "output_type": "stream",
     "text": [
      "Epoch [86/100], Loss: 1.1293\n"
     ]
    },
    {
     "name": "stderr",
     "output_type": "stream",
     "text": [
      "Epoch [87/100] - LR: 0.001: 12300batch [00:20, 609.75batch/s, Loss=1.13]                        \n"
     ]
    },
    {
     "name": "stdout",
     "output_type": "stream",
     "text": [
      "Epoch [87/100], Loss: 1.1291\n"
     ]
    },
    {
     "name": "stderr",
     "output_type": "stream",
     "text": [
      "Epoch [88/100] - LR: 0.001: 12300batch [00:20, 606.69batch/s, Loss=1.13]                        \n"
     ]
    },
    {
     "name": "stdout",
     "output_type": "stream",
     "text": [
      "Epoch [88/100], Loss: 1.1289\n"
     ]
    },
    {
     "name": "stderr",
     "output_type": "stream",
     "text": [
      "Epoch [89/100] - LR: 0.001: 12300batch [00:22, 546.74batch/s, Loss=1.13]                        \n"
     ]
    },
    {
     "name": "stdout",
     "output_type": "stream",
     "text": [
      "Epoch [89/100], Loss: 1.1287\n"
     ]
    },
    {
     "name": "stderr",
     "output_type": "stream",
     "text": [
      "Epoch [90/100] - LR: 0.001: 12300batch [00:22, 555.07batch/s, Loss=1.13]                        \n"
     ]
    },
    {
     "name": "stdout",
     "output_type": "stream",
     "text": [
      "Epoch [90/100], Loss: 1.1288\n"
     ]
    },
    {
     "name": "stderr",
     "output_type": "stream",
     "text": [
      "Epoch [91/100] - LR: 0.001: 12300batch [00:20, 586.47batch/s, Loss=1.13]                        \n"
     ]
    },
    {
     "name": "stdout",
     "output_type": "stream",
     "text": [
      "Epoch [91/100], Loss: 1.1285\n"
     ]
    },
    {
     "name": "stderr",
     "output_type": "stream",
     "text": [
      "Epoch [92/100] - LR: 0.001: 12300batch [00:20, 587.08batch/s, Loss=1.13]                        \n"
     ]
    },
    {
     "name": "stdout",
     "output_type": "stream",
     "text": [
      "Epoch [92/100], Loss: 1.1282\n"
     ]
    },
    {
     "name": "stderr",
     "output_type": "stream",
     "text": [
      "Epoch [93/100] - LR: 0.001: 12300batch [00:20, 609.01batch/s, Loss=1.13]                        \n"
     ]
    },
    {
     "name": "stdout",
     "output_type": "stream",
     "text": [
      "Epoch [93/100], Loss: 1.1280\n"
     ]
    },
    {
     "name": "stderr",
     "output_type": "stream",
     "text": [
      "Epoch [94/100] - LR: 0.001: 12300batch [00:21, 585.47batch/s, Loss=1.13]                        \n"
     ]
    },
    {
     "name": "stdout",
     "output_type": "stream",
     "text": [
      "Epoch [94/100], Loss: 1.1280\n"
     ]
    },
    {
     "name": "stderr",
     "output_type": "stream",
     "text": [
      "Epoch [95/100] - LR: 0.001: 12300batch [00:20, 588.36batch/s, Loss=1.13]                        \n"
     ]
    },
    {
     "name": "stdout",
     "output_type": "stream",
     "text": [
      "Epoch [95/100], Loss: 1.1277\n"
     ]
    },
    {
     "name": "stderr",
     "output_type": "stream",
     "text": [
      "Epoch [96/100] - LR: 0.001: 12300batch [00:19, 615.56batch/s, Loss=1.13]                        \n"
     ]
    },
    {
     "name": "stdout",
     "output_type": "stream",
     "text": [
      "Epoch [96/100], Loss: 1.1276\n"
     ]
    },
    {
     "name": "stderr",
     "output_type": "stream",
     "text": [
      "Epoch [97/100] - LR: 0.001: 12300batch [00:21, 563.59batch/s, Loss=1.13]                        \n"
     ]
    },
    {
     "name": "stdout",
     "output_type": "stream",
     "text": [
      "Epoch [97/100], Loss: 1.1274\n"
     ]
    },
    {
     "name": "stderr",
     "output_type": "stream",
     "text": [
      "Epoch [98/100] - LR: 0.001: 12300batch [00:20, 589.87batch/s, Loss=1.13]                        \n"
     ]
    },
    {
     "name": "stdout",
     "output_type": "stream",
     "text": [
      "Epoch [98/100], Loss: 1.1272\n"
     ]
    },
    {
     "name": "stderr",
     "output_type": "stream",
     "text": [
      "Epoch [99/100] - LR: 0.001: 12300batch [00:21, 583.56batch/s, Loss=1.13]                        \n"
     ]
    },
    {
     "name": "stdout",
     "output_type": "stream",
     "text": [
      "Epoch [99/100], Loss: 1.1271\n"
     ]
    },
    {
     "name": "stderr",
     "output_type": "stream",
     "text": [
      "Epoch [100/100] - LR: 0.001: 12300batch [00:20, 593.15batch/s, Loss=1.13]                        \n"
     ]
    },
    {
     "name": "stdout",
     "output_type": "stream",
     "text": [
      "Epoch [100/100], Loss: 1.1269\n",
      "\n",
      "Training with learning rate: 0.0005\n"
     ]
    },
    {
     "name": "stderr",
     "output_type": "stream",
     "text": [
      "Epoch [1/100] - LR: 0.0005: 12300batch [00:20, 586.66batch/s, Loss=1.15]                        \n"
     ]
    },
    {
     "name": "stdout",
     "output_type": "stream",
     "text": [
      "Epoch [1/100], Loss: 1.1505\n"
     ]
    },
    {
     "name": "stderr",
     "output_type": "stream",
     "text": [
      "Epoch [2/100] - LR: 0.0005: 12300batch [00:21, 561.99batch/s, Loss=1.15]                        \n"
     ]
    },
    {
     "name": "stdout",
     "output_type": "stream",
     "text": [
      "Epoch [2/100], Loss: 1.1524\n"
     ]
    },
    {
     "name": "stderr",
     "output_type": "stream",
     "text": [
      "Epoch [3/100] - LR: 0.0005: 12300batch [00:20, 588.50batch/s, Loss=1.15]                        \n"
     ]
    },
    {
     "name": "stdout",
     "output_type": "stream",
     "text": [
      "Epoch [3/100], Loss: 1.1516\n"
     ]
    },
    {
     "name": "stderr",
     "output_type": "stream",
     "text": [
      "Epoch [4/100] - LR: 0.0005: 12300batch [00:21, 567.68batch/s, Loss=1.15]                        \n"
     ]
    },
    {
     "name": "stdout",
     "output_type": "stream",
     "text": [
      "Epoch [4/100], Loss: 1.1520\n"
     ]
    },
    {
     "name": "stderr",
     "output_type": "stream",
     "text": [
      "Epoch [5/100] - LR: 0.0005: 12300batch [00:21, 572.65batch/s, Loss=1.15]                        \n"
     ]
    },
    {
     "name": "stdout",
     "output_type": "stream",
     "text": [
      "Epoch [5/100], Loss: 1.1515\n",
      "Early stopping triggered after 5 epochs.\n",
      "\n",
      "Training with learning rate: 0.0001\n"
     ]
    },
    {
     "name": "stderr",
     "output_type": "stream",
     "text": [
      "Epoch [1/100] - LR: 0.0001: 12300batch [00:20, 605.73batch/s, Loss=1.13]                        \n"
     ]
    },
    {
     "name": "stdout",
     "output_type": "stream",
     "text": [
      "Epoch [1/100], Loss: 1.1349\n"
     ]
    },
    {
     "name": "stderr",
     "output_type": "stream",
     "text": [
      "Epoch [2/100] - LR: 0.0001: 12300batch [00:20, 598.89batch/s, Loss=1.13]                        \n"
     ]
    },
    {
     "name": "stdout",
     "output_type": "stream",
     "text": [
      "Epoch [2/100], Loss: 1.1301\n"
     ]
    },
    {
     "name": "stderr",
     "output_type": "stream",
     "text": [
      "Epoch [3/100] - LR: 0.0001: 12300batch [00:20, 598.01batch/s, Loss=1.13]                        \n"
     ]
    },
    {
     "name": "stdout",
     "output_type": "stream",
     "text": [
      "Epoch [3/100], Loss: 1.1284\n"
     ]
    },
    {
     "name": "stderr",
     "output_type": "stream",
     "text": [
      "Epoch [4/100] - LR: 0.0001: 12300batch [00:20, 597.86batch/s, Loss=1.13]                        \n"
     ]
    },
    {
     "name": "stdout",
     "output_type": "stream",
     "text": [
      "Epoch [4/100], Loss: 1.1276\n"
     ]
    },
    {
     "name": "stderr",
     "output_type": "stream",
     "text": [
      "Epoch [5/100] - LR: 0.0001: 12300batch [00:20, 601.29batch/s, Loss=1.13]                        \n"
     ]
    },
    {
     "name": "stdout",
     "output_type": "stream",
     "text": [
      "Epoch [5/100], Loss: 1.1269\n",
      "Early stopping triggered after 5 epochs.\n",
      "\n",
      "Best learning rate: 0.0001, Validation loss: 1.1269\n",
      "Classification Report for Neural Network (PyTorch):\n",
      "              precision    recall  f1-score   support\n",
      "\n",
      "           0       0.06      0.21      0.09      1452\n",
      "           1       0.08      0.26      0.13      1337\n",
      "           2       0.06      0.22      0.10      1419\n",
      "           3       0.91      0.54      0.68     24576\n",
      "\n",
      "    accuracy                           0.49     28784\n",
      "   macro avg       0.28      0.31      0.25     28784\n",
      "weighted avg       0.79      0.49      0.59     28784\n",
      "\n"
     ]
    },
    {
     "data": {
      "image/png": "[encoded data removed]",
      "text/plain": [
       "<Figure size 1000x700 with 1 Axes>"
      ]
     },
     "metadata": {},
     "output_type": "display_data"
    }
   ],
   "source": [
    "import torch\n",
    "import torch.nn as nn\n",
    "import torch.optim as optim\n",
    "from torch.utils.data import DataLoader, TensorDataset\n",
    "from tqdm import tqdm\n",
    "from sklearn.metrics import classification_report\n",
    "from torch.optim.lr_scheduler import ReduceLROnPlateau\n",
    "\n",
    "# Define the device to use GPU if available, otherwise fallback to CPU\n",
    "device = torch.device(\"cuda\" if torch.cuda.is_available() else \"cpu\")\n",
    "\n",
    "# Convert your data to PyTorch tensors\n",
    "X_train_tensor = torch.tensor(X_train_resampled, dtype=torch.float32).to(device)\n",
    "Y_train_tensor = torch.tensor(Y_train_resampled, dtype=torch.long).to(device)\n",
    "X_test_tensor = torch.tensor(X_test_scaled, dtype=torch.float32).to(device)\n",
    "\n",
    "# Create a PyTorch Dataset and DataLoader\n",
    "train_dataset = TensorDataset(X_train_tensor, Y_train_tensor)\n",
    "train_loader = DataLoader(train_dataset, batch_size=32, shuffle=True)\n",
    "\n",
    "# Define the neural network model using PyTorch with more layers\n",
    "class NeuralNet(nn.Module):\n",
    "    def __init__(self, input_size, num_classes):\n",
    "        super(NeuralNet, self).__init__()\n",
    "        self.fc1 = nn.Linear(input_size, 128)\n",
    "        self.fc2 = nn.Linear(128, 64)\n",
    "        self.fc3 = nn.Linear(64, 32)\n",
    "        self.fc4 = nn.Linear(32, num_classes)\n",
    "\n",
    "    def forward(self, x):\n",
    "        x = torch.relu(self.fc1(x))\n",
    "        x = torch.relu(self.fc2(x))\n",
    "        x = torch.relu(self.fc3(x))\n",
    "        x = torch.softmax(self.fc4(x), dim=1)\n",
    "        return x\n",
    "\n",
    "# Initialize the model, loss function, and optimizer\n",
    "model = NeuralNet(input_size=X_train_resampled.shape[1], num_classes=4).to(device)\n",
    "criterion = nn.CrossEntropyLoss()\n",
    "\n",
    "# Multiple learning rates to try\n",
    "learning_rates = [0.001, 0.0005, 0.0001]\n",
    "\n",
    "# Add early stopping to monitor validation loss\n",
    "early_stopping_patience = 5\n",
    "num_epochs = 100\n",
    "\n",
    "# Define function to train the model and return validation loss\n",
    "def train_model(lr, best_val_loss):\n",
    "    optimizer = optim.Adam(model.parameters(), lr=lr)\n",
    "    scheduler = ReduceLROnPlateau(optimizer, mode='min', patience=3, factor=0.1, verbose=True)\n",
    "    early_stop_count = 0\n",
    "\n",
    "    for epoch in range(num_epochs):\n",
    "        model.train()\n",
    "        running_loss = 0.0\n",
    "        \n",
    "        # Create a progress bar\n",
    "        with tqdm(total=len(train_loader), desc=f\"Epoch [{epoch+1}/{num_epochs}] - LR: {lr}\", unit=\"batch\", mininterval=5) as pbar:\n",
    "            for i, (inputs, labels) in enumerate(train_loader):\n",
    "                # Zero the parameter gradients\n",
    "                optimizer.zero_grad()\n",
    "\n",
    "                # Forward pass\n",
    "                outputs = model(inputs)\n",
    "                loss = criterion(outputs, labels)\n",
    "\n",
    "                # Backward pass and optimization\n",
    "                loss.backward()\n",
    "                optimizer.step()\n",
    "\n",
    "                running_loss += loss.item()\n",
    "                if i % 100 == 0:  # Update the progress bar less frequently\n",
    "                    pbar.update(100)\n",
    "                    pbar.set_postfix({'Loss': running_loss / (i+1)})\n",
    "        \n",
    "        avg_loss = running_loss / len(train_loader)\n",
    "        print(f\"Epoch [{epoch+1}/{num_epochs}], Loss: {avg_loss:.4f}\")\n",
    "\n",
    "        # Early stopping and validation loss check\n",
    "        if avg_loss < best_val_loss:\n",
    "            best_val_loss = avg_loss\n",
    "            early_stop_count = 0  # reset if there's an improvement\n",
    "        else:\n",
    "            early_stop_count += 1\n",
    "        \n",
    "        scheduler.step(avg_loss)\n",
    "        \n",
    "        # If early stopping condition is met, break the loop\n",
    "        if early_stop_count >= early_stopping_patience:\n",
    "            print(f\"Early stopping triggered after {epoch+1} epochs.\")\n",
    "            break\n",
    "\n",
    "    return best_val_loss\n",
    "\n",
    "# Iterate over learning rates and train the model\n",
    "best_val_loss = float('inf')  # Initialize best_val_loss\n",
    "\n",
    "for lr in learning_rates:\n",
    "    print(f\"\\nTraining with learning rate: {lr}\")\n",
    "    best_val_loss = train_model(lr, best_val_loss)\n",
    "\n",
    "print(f\"\\nBest learning rate: {lr}, Validation loss: {best_val_loss:.4f}\")\n",
    "\n",
    "\n",
    "\n",
    "\n",
    "model.eval()  # Set model to evaluation mode\n",
    "with torch.no_grad():\n",
    "    Y_pred_logits = model(X_test_tensor)  # Get raw output logits\n",
    "    Y_pred_nn = torch.argmax(Y_pred_logits, dim=1).cpu().numpy()  # Get predicted class labels\n",
    "\n",
    "# Print classification report\n",
    "print(\"Classification Report for Neural Network (PyTorch):\")\n",
    "print(classification_report(Y_test, Y_pred_nn))\n",
    "\n",
    "# Plot ROC curve\n",
    "plot_multiclass_roc_curve(model, X_test_scaled, Y_test, \"Neural Network\")\n"
   ]
  },
  {
   "cell_type": "code",
   "execution_count": 14,
   "metadata": {},
   "outputs": [
    {
     "data": {
      "image/png": "[encoded data removed]",
      "text/plain": [
       "<Figure size 1400x800 with 1 Axes>"
      ]
     },
     "metadata": {},
     "output_type": "display_data"
    }
   ],
   "source": [
    "# Filter the data for actual and predicted medals\n",
    "actual_medals = df[df['Medal'] != 3]\n",
    "predicted_medals = df.loc[X_test.index].copy()  # Filter df to match X_test indices\n",
    "predicted_medals['Medal'] = Y_pred_nn\n",
    "\n",
    "# Group by Year and Medal to get the counts\n",
    "actual_counts = actual_medals.groupby(['Year', 'Medal']).size().unstack(fill_value=0)\n",
    "predicted_counts = predicted_medals.groupby(['Year', 'Medal']).size().unstack(fill_value=0)\n",
    "\n",
    "# Plot the data\n",
    "plt.figure(figsize=(14, 8))\n",
    "\n",
    "# Plot actual medal counts\n",
    "plt.plot(actual_counts.index, actual_counts[1], label='Actual Gold', color='gold', linestyle='-')\n",
    "plt.plot(actual_counts.index, actual_counts[2], label='Actual Silver', color='silver', linestyle='-')\n",
    "plt.plot(actual_counts.index, actual_counts[0], label='Actual Bronze', color='#cd7f32', linestyle='-')\n",
    "\n",
    "# Plot predicted medal counts\n",
    "plt.plot(predicted_counts.index, predicted_counts[1], label='Predicted Gold', color='gold', linestyle='--')\n",
    "plt.plot(predicted_counts.index, predicted_counts[2], label='Predicted Silver', color='silver', linestyle='--')\n",
    "plt.plot(predicted_counts.index, predicted_counts[0], label='Predicted Bronze', color='#cd7f32', linestyle='--')\n",
    "\n",
    "plt.xlabel('Year')\n",
    "plt.ylabel('Medal Count')\n",
    "plt.title('Comparison of Actual vs Predicted Medal Counts (1896-2024)-Neural Network')\n",
    "plt.legend()\n",
    "plt.grid(True)\n",
    "plt.show()"
   ]
  },
  {
   "cell_type": "code",
   "execution_count": null,
   "metadata": {},
   "outputs": [],
   "source": []
  }
 ],
 "metadata": {
  "kernelspec": {
   "display_name": "rapids-24.08",
   "language": "python",
   "name": "python3"
  },
  "language_info": {
   "codemirror_mode": {
    "name": "ipython",
    "version": 3
   },
   "file_extension": ".py",
   "mimetype": "text/x-python",
   "name": "python",
   "nbconvert_exporter": "python",
   "pygments_lexer": "ipython3",
   "version": "3.11.10"
  }
 },
 "nbformat": 4,
 "nbformat_minor": 2
}
